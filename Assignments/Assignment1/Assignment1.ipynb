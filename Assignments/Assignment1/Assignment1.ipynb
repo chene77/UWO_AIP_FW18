{
 "cells": [
  {
   "cell_type": "markdown",
   "metadata": {},
   "source": [
    "<h1 align=\"center\">Advanced Image Processing and Analysis</h1>\n",
    "<h3 align=\"center\">ECE 4438B/ECE 9022/ECE 9202B/BIOMED 9519B/BIOPHYS 9519B/CAMI 9519B</h3>\n",
    "<h4 align=\"center\"><a href=\"mailto:echen29@uwo.ca\"> Elvis Chen, PhD, LL</a></h4>\n",
    "<h2 align=\"center\">Assignment #1</h4>\n",
    "<h2 align=\"center\">Due Friday, 11:55pm, February 08, 2018</h2>\n",
    "<h3 align=\"center\">Assignments must be submitted to the OWL system</h3>\n",
    "<h3 align=\"center\">Assignments must be be completed individually</h3>\n",
    "\n",
    "<h4>Primary Objective and Anatomy</h4>\n",
    "The lumbar vertebrae, numbered L1 to L5, are arguably the most geometrically complex bones inside a human body. Each vertebra is composed of the following 3 functional parts:\n",
    "* the vertebral body, designed to bear weight\n",
    "* the vertebral arch, designed to protect the neural elements\n",
    "* the bony processes (spinous and transverse), which increase the efficiency of muscle action.\n",
    "\n",
    "refer to the following picture (taken from [Ultrasonography of the Adult Thoracic and Lumbar Spine for Central Neuraxial Blockage](http://anesthesiology.pubs.asahq.org/article.aspx?articleid=1933770) by Chin et al.):\n",
    "\n",
    "<img src=\"spine_anatomy.png\" style=\"width:800px\"/><br><br>\n",
    "\n",
    "Many spinal interventions such as [spinal fusion](https://en.wikipedia.org/wiki/Spinal_fusion) require surgical planning to be performed in 3D, which is often facilitated by generating a 3D surface model of the vertebrae through segmentation.\n",
    " \n",
    "As bone is dense relative to its surrounding soft tissues, x-ray CT is often the choice of imaging modality for spinal interventions. To simplify your task, a vertebra phantom was constructed and imaged using the following processes:\n",
    "* a single L2 vertebra was manufactured using 3D printing process\n",
    "  * the geometry of the vertebra was based on real human data\n",
    "  * this vertebra phantom was printed **in whole** using only hard plastic, which is a dense (high density) material\n",
    "  * this vertebra was scanned using a CT scanner by itself, with nothing but air surrounding it\n",
    "  \n",
    "Often, an object such as this L2 vertebra that simulates certain aspects of human anatomy is called a **phantom**. Because a phantom is designed and manufactured in a controlled manner, some of its properties can be know precisely, providing the ground truth (i.e. gold standard) for research.\n",
    "\n",
    "In our case, the spinal phantom allows us to learn about segmentation without worry about other structures such as soft tissues surrounding the vertebra.\n",
    "\n",
    "The primary objective of this assignment is to segment this [osseous](https://en.oxforddictionaries.com/definition/osseous) structure from CT using a thresholding mechanism.\n",
    "\n",
    "<h4>Secondary Objective</h4>\n",
    "Modern scientific endeavors increasingly require team collaboration to construct and interpret complex computational workflows. Jupyter Notebook web application provides an interactive environment for well-documentd and reproducible workflows. Refer to the paper [SimpleITK Image-Analysis Notebooks: a Collaborative Environment for Education and Reproducible Research](https://link.springer.com/article/10.1007/s10278-017-0037-8) by Ziv et al. for why SimpleITK Jupyter Notebooks is particular fitting for Image Processing and Analysis.\n",
    "\n",
    "This assignment must be completed as a Jupyter Notebook document (`.ipynb` file). In addition to present your Python codes to achieve the Primary Objective above, you need to presented your work that is properly documented."
   ]
  },
  {
   "cell_type": "markdown",
   "metadata": {},
   "source": [
    "## Late Policy\n",
    "\n",
    "The deadline for submitting this assignment is **Friday, 11:55pm, February 08, 2018**. \n",
    "\n",
    "The OWL submission system will remain open until **Wednesday, 11:55pm, February 14**:\n",
    "* for each 24 hours of late submission, a total mark of **20%** will be deducted"
   ]
  },
  {
   "cell_type": "markdown",
   "metadata": {},
   "source": [
    "### What do download:\n",
    "\n",
    "Assignment #1 materials is comprised of the following 4 files:\n",
    "* this `.ipynb` file detailing your tasks\n",
    "* `spine.mha`, a (micro)-CT volume of a L2 vertebrae phantom\n",
    "* `spine_anatomy.png`, as a depiction for the spinal anatomy\n",
    "* `Assig1_Title_Example.png` file as a sample of the header for your assignment\n",
    "\n",
    "These 4 files are available in OWL. Download all 4 files and placed them in the same directory/folder."
   ]
  },
  {
   "cell_type": "markdown",
   "metadata": {},
   "source": [
    "### What to hand-in\n",
    "Upon completing this assignment, you need to upload the following through OWL:\n",
    "* your assignment in a `.ipynb` file. The file name of this Jupyter Notebook document should be `Assignment1_` followed by your full name \n",
    "* optional: a picture as a depiction of the image processing pipeline (Task 7)\n",
    "* (This assignment is broken down to 50 marks)"
   ]
  },
  {
   "cell_type": "markdown",
   "metadata": {},
   "source": [
    "**Task 1** (6 marks): Starting with a blank Jupyter Notebook, prepare a title page using the `markdown` markup language containing the following (each on a different line and all centered):\n",
    "* Course number followed by the Course title (1 mark)\n",
    "* Subtitle (1 mark):\n",
    "    * \"Assignment #1\"\n",
    "* Your name and email address:\n",
    "    * the email address must be a hyperlink that envokes a mail client to send an email to\n",
    "      * your email address (1 mark)\n",
    "      * with a subject \"`Assignment #1`\" (1 mark)\n",
    "* Your home department (0.5 mark)\n",
    "* Western University (0.5 mark)\n",
    "* Date of submission (0.5 mark)\n",
    "* the text \"Submitted to: Elvis C.S. Chen\" (0.5 mark)"
   ]
  },
  {
   "cell_type": "markdown",
   "metadata": {},
   "source": [
    "An example may look like this:\n",
    "<img src=\"Assig1_Title_Example.png\" style=\"width:800px\"/><br><br>"
   ]
  },
  {
   "cell_type": "markdown",
   "metadata": {},
   "source": [
    "**Task 2** (5 marks): Setting up the Jupyter Notebook environment\n",
    "\n",
    "In a Jupyter Notebook cell, **write python codes** that achieve the following:\n",
    "* Load (import) `SimpleITK` module into the Python interpretor, rename it as `sitk` (1 mark)\n",
    "  * Immediately adjacent (above, below, or in the same line) the above code, using python in-code comment to provide a brief (1-line) description about what you have done (1 mark)\n",
    "* As we need to use the plotting function,\n",
    "  * Load (import) `matplotlib.pyplot` module and rename it as `plt` (1 mark)\n",
    "  * Immediately adjacent (above, below, or in the same line) the above code, using python in-code comment to provide a brief (1-line) description about what you have done (1 mark)\n",
    "* In order to demonstrate you have loaded SimpleITK module into Python successfully,\n",
    "  * use the Python `Print` command to display the `Version` number of SimpleITK that was loaded (1 mark)"
   ]
  },
  {
   "cell_type": "markdown",
   "metadata": {},
   "source": [
    "**Task 3** (11 marks): Load a medical CT volume and display a single slice (2D image) of it\n",
    "\n",
    "In a Jupyter Notebook cell, **write python codes** that achieve the following:\n",
    "* Load the CT volumetric file named `spine.mha` (1 mark)\n",
    "  * and use in-line comments to provide a short (1-line) description of your code (1 mark)\n",
    "* What is the size (number of voxels) of the volume?\n",
    "  * Python code (1 mark)\n",
    "  * in-line (1-line) comment (1 mark)\n",
    "* What is the physical size of the voxel?\n",
    "  * Python code (1 mark)\n",
    "  * in-line (1-line) comment (1 mark)\n",
    "* assuming there are `z` number of slices in the z-direction (Depth)\n",
    "  * Using the *accessor* function of `vol` and Python's [integer division](https://docs.python.org/3.1/tutorial/introduction.html) (return value of the division is an integer, discarding any fractional result), compute the slice number corresponding to the mid-volume in the Depth direction, assign this integer value to a variable named `midZ`\n",
    "  * Python code (1 mark)\n",
    "  * in-line (1-line) comment (1 mark)\n",
    "* Using SimpleITK's built-in `Show()` command, display this 2D mid-Depth image\n",
    "  * Python code (2 mark)\n",
    "  * in-line (1-line) comment (1 mark)"
   ]
  },
  {
   "cell_type": "markdown",
   "metadata": {},
   "source": [
    "**Task 4** (5 marks): Compute and display the histogram of the slice\n",
    "\n",
    "In a Jupyter Notebook cell, **write python code** that achieve the following:\n",
    "* using `plt` function, compute and display the histogram for this slice corresponding to the mid-volume in the Depth direction (1 mark)\n",
    "  * properly label the histogram with the following:\n",
    "    * a title: Be descriptive (1 mark)\n",
    "    * a label for the x-axis. Be descriptive: what does the x-axis correspond to, what is the unit? (1 mark)\n",
    "    * a label for the y-axis. Be descriptive: what does the x-axis correspond to, what is the unit? (1 mark)\n",
    "  * Python in-line comment to describe what you have done (1 mark)"
   ]
  },
  {
   "cell_type": "markdown",
   "metadata": {},
   "source": [
    "**Task 5** (8 marks): Segmentation of the bone from CT using thresholding\n",
    "\n",
    "In a Jupyter Notebook cell, **write python codes** that achieve the following:\n",
    "* instantiate a variable named `thresholdFilter` as an instance of the SimpleITK filter `BinaryThresholdImageFilter` (1 mark)\n",
    "* using `thresholdFilter`, create a segmented volume named `segmentedVolume` where the input to `thresholdFilter` are\n",
    "  * the CT volume 'vol' (1 mark)\n",
    "  * a `lower` and `upper` threshold value (2 mark)\n",
    "    * these two values should be chosen based on the histogram. \n",
    "  * voxels with an intensity value **within** [`lower`, `upper`] threshold values are set to the value of `255` (1 mark)\n",
    "  * voxels with an intensity value **outside** the range of [`lower`, `upper`] are set to the value of `0` (1 mark)\n",
    "  * the output volume is name `segmentedVolume` (1 mark)\n",
    "* using SimpleITK's built-in `Show()` command, display the segmented 2D image corresponding to the pre-segmented 2D image in *task 3* (1 mark)\n",
    "* **HINT** If you are not certain on the usage of any SimpleITK filter/class, how can you get some help?"
   ]
  },
  {
   "cell_type": "markdown",
   "metadata": {},
   "source": [
    "**Task 6** (2 marks): Save the segmentation result\n",
    "\n",
    "In a Jupyter Notebook cell, **write python codes** that achieve the following:\n",
    "* save `segmentedVolume` to a file called `segmented_spine.mha` (1 mark)\n",
    "* comment the above code (1 mark)\n",
    "* **DO NOT** worry about data-type, for the moment"
   ]
  },
  {
   "cell_type": "markdown",
   "metadata": {},
   "source": [
    "**Task 7** (13 marks): Documentation\n",
    "\n",
    "In a Jupyter Notebook cell, articulate/justify your approach. You may base your discussion on the following:\n",
    "  * What is the image modality used to image this plastic phantom (1 mark)\n",
    "  * what is specific about this image modality (i.e. what shows up bright, in general) (2 marks)\n",
    "  * what materials are in this imaged volume (list 2) (2 mark)\n",
    "  * what is the object (material) of interest and its radio-opacity characteristic in this image modality (2 marks)\n",
    "  * how did you choose the upper and lower threshold values (2 marks)\n",
    "  * Pictorially, depict the SimpleITK pipeline of your approach. Refer to the Day 05 Jupyter Notebooks for examples (4 marks)\n",
    "  \n",
    "In this writing:\n",
    "  * you will be marked based only on your explanation. Typographical or Grammatical error(s) **will not** effect your mark\n",
    "  * you can write your documentation/justification in plain text\n",
    "  * to depict the pipeline, you can either\n",
    "    * \"draw\" it as plain text within the Markdown cell\n",
    "    * draw a flow-chart using programs such as PowerPoint, save it as a picture, and embed in the Markdown cell as an in-line picture"
   ]
  }
 ],
 "metadata": {
  "kernelspec": {
   "display_name": "Python 3",
   "language": "python",
   "name": "python3"
  },
  "language_info": {
   "codemirror_mode": {
    "name": "ipython",
    "version": 3
   },
   "file_extension": ".py",
   "mimetype": "text/x-python",
   "name": "python",
   "nbconvert_exporter": "python",
   "pygments_lexer": "ipython3",
   "version": "3.6.8"
  }
 },
 "nbformat": 4,
 "nbformat_minor": 2
}
