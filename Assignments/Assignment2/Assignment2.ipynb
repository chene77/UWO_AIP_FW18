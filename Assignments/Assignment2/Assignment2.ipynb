{
 "cells": [
  {
   "cell_type": "markdown",
   "metadata": {},
   "source": [
    "<h1 align=\"center\">Advanced Image Processing and Analysis</h1>\n",
    "<h3 align=\"center\">ECE 4438B/ECE 9022/ECE 9202B/BIOMED 9519B/BIOPHYS 9519B/CAMI 9519B</h3>\n",
    "<h4 align=\"center\"><a href=\"mailto:echen29@uwo.ca\"> Elvis Chen, PhD, LL</a></h4>\n",
    "<h2 align=\"center\">Assignment #2</h4>\n",
    "<h2 align=\"center\">Due Friday, 11:55pm, March 1, 2019</h2>\n",
    "<h3 align=\"center\">Assignments must be submitted to the OWL system</h3>\n",
    "<h3 align=\"center\">Assignments must be be completed individually</h3>\n",
    "\n",
    "\n",
    "\n",
    "<h3>Primary Objectives</h3>\n",
    "\n",
    "- To implement two segmentation algorithms and evaluate their efficacy, and\n",
    "- To implement the least-square solution for the Orthogonal Procrustes Analysis.\n",
    "\n",
    "<h3>Secondary Objective</h3>\n",
    "\n",
    "Modular Python programming"
   ]
  },
  {
   "cell_type": "markdown",
   "metadata": {},
   "source": [
    "<h3>Task 1: Convert an input RGB (3 channel) image to an output grayscale (1 channel) image (10 marks)</h3>\n",
    "\n",
    "**Without** using existing SimpleITK filters, implement the following:\n",
    "\n",
    "* A Python class that converts a 2D RGB image into 2D grayscale image\n",
    "  * The name of this class should br RGB2Gray,\n",
    "  * Save it as a self-contained Python script and name it as RGB2Gray.py,\n",
    "  * The sole input to this class is the filename for the input color image. For simplicity, assume the image is called \"inputImg_RGB.jpg\" (with appropriate image extension),\n",
    "  * The sole output of this class is a 2D, single channel, SimpleITK::Image object, having the same pixel counts and pixe size as the input RGB image,\n",
    "  * Your Python class performs the following:\n",
    "    * read the file using SimpleITK class\n",
    "    * convert the input image to a numpy array\n",
    "    * generate a 2D image gray scale from the input 3D numpy array (why 3D?) as a weighted average of the R-G-B channels.\n",
    "    \n",
    "Marking Scheme:\n",
    "* Correct input and output format (4 marks)\n",
    "* The use of a weighting scheme for converting RGB to grayscale image (3 marks)\n",
    "* In-line documentation (3 marks)"
   ]
  },
  {
   "cell_type": "markdown",
   "metadata": {},
   "source": [
    "<h3>Task 2: Implementes Otsu's Thresholding Technique (10 marks)</h3>\n",
    "\n",
    "**Without** using any numpy built-in command or existing SimpleITK filters, implement the following:\n",
    "\n",
    "* A Python class that implements Otsu's threholding algorithm\n",
    "  * The name of this class should be myOtsuThresholding\n",
    "  * Save it as a self-contained Python script and name it as myOtsuThresholding.py\n",
    "  * The sole input to this class is the grayscale image (as the output of *Task 1*) as an SimpleITK::Image object\n",
    "  * The sole output of this class is another 2D SimpleITK::image object, with pixel type of sitkUInt8, having the same pixel counts and pixel size as the input grayscale image\n",
    "  * Your Python class performs the following:\n",
    "    * Compute Otsu's threshold value\n",
    "      * calculate the variance of an input array **without** using numpy's built-in command\n",
    "        * document why we may not want to use numpy's build-in command to calculate the variance\n",
    "    * Generate an output 2D image where\n",
    "      * any pixel in the input grayscale image with intensity *higher* than *or equal to* the computed threshold value is converted to **1** (foreground)\n",
    "      * any pixel in the input grayscale image with intensity *lower* than the computed threshold value is converted to **0** (background)\n",
    "    * Print out the computed Otsu's threshold value\n",
    "    \n",
    "Marking Scheme:\n",
    "* Calculation of the class variance without using numpy's built-in command (2 marks)\n",
    "* Successful implementation of Otsu's Thresholding technique (4 marks)\n",
    "* Correct input and output format (2 marks)\n",
    "* In-line documentation (2 marks)"
   ]
  },
  {
   "cell_type": "markdown",
   "metadata": {},
   "source": [
    "<h3>Task 3: Implementes Maximum Entropy Thresholding Technique (10 marks)</h3>\n",
    "**Without** using any numpy built-in command or existing SimpleITK filters, implement the following:\n",
    "\n",
    "* A Python class that implements the Maximum Entropy threholding algorithm\n",
    "  * The name of this class should be myMaxEntropy\n",
    "  * Save it as a self-contained Python script and name it as myMaxEntropy.py\n",
    "  * The sole input to this class is the grayscale image (as the output of *Task 1*) as an SimpleITK::Image object\n",
    "  * The sole output of this class is another 2D SimpleITK::image object, with pixel type of sitkUInt8, having the same pixel counts and pixel size as the input grayscale image\n",
    "  * Your Python class performs the following:\n",
    "    * Compute a thresholding value using the Maximum Entropy threshold value\n",
    "      * calculate the entropy of an input array **without** using numpy's built-in command\n",
    "    * Generate an output 2D image where\n",
    "      * any pixel in the input grayscale image with intensity *higher* than *or equal to* the computed threshold value is converted to **1** (foreground)\n",
    "      * any pixel in the input grayscale image with intensity *lower* than the computed threshold value is converted to **0** (background)\n",
    "    * Printed out the computed Maximum Entropy threshold value\n",
    "    \n",
    "Marking Scheme:\n",
    "* Calculation of the class entropy without using numpy's built-in command (2 marks)\n",
    "* Successful implementation of Maximum Entropy thresholding technique (4 marks)\n",
    "* Correct input and output format (2 marks)\n",
    "* In-line documentation (2 marks)"
   ]
  },
  {
   "cell_type": "markdown",
   "metadata": {},
   "source": [
    "<h3>Task 4: Validation (10 marks)</h3>\n",
    "    \n",
    "In a separate Jupyter Notebook document, validate your implementation of Otsu's thresholding value and Maximum Entropy thresholding value against SimpleITK's implementation. Your Jupyter Notebook document should have the following format:\n",
    "\n",
    "* Akin to Assignment #1, your Jupyter Notebook documentation should start with a title page:\n",
    "  * Course number followed by the Course title \n",
    "  * Subtitle:\n",
    "    * \"Assignment #2\"\n",
    "  * Your name and email address:\n",
    "    * the email address must be a hyperlink that envokes a mail client to send an email to\n",
    "      * your email address \n",
    "      * with a subject \"`Assignment #2`\"\n",
    "  * Your home department \n",
    "  * Western University \n",
    "  * Date of submission \n",
    "  * the text \"Submitted to: Elvis C.S. Chen\" \n",
    "* Take any RGB picture and convert it to grayscale using the code you implemented in Task 1\n",
    "  * Find a color picture (either taken by yourself or from public domain) that contains\n",
    "    * a single foreground object\n",
    "    * a relatively uniform background\n",
    "    * some examples:\n",
    "      * a coin on a table,\n",
    "      * a loon on a lake\n",
    "      * ...,\n",
    "      * be creative.\n",
    "    * rename the file to \"inputImg_RGB\" with appropriate file extension and use it as the input for your code,\n",
    "    * the output of your convertion should name as \"outputImg_Gray\".\n",
    "  * plot the histogram to make sure the pixel intensities have a bi-modal distribution.\n",
    "* Validate myOtsuThresholding against SimpleITK::OtsuThresholdImageFilter\n",
    "  * Using the converted grayscale image, \n",
    "    * generated a binary thresholding image using the code from Task 2,\n",
    "      * your code should print out the Otsu's threshold value you computed,\n",
    "    * using SimpleITK's implementation of Otsu's method, verify that the Otsu's threshold value you computed from Task 2 is correct\n",
    "* Validate myMaxEntropy against SimpleITK::MaximumEntropyThresholdImageFilter \n",
    "  * Using the converted grayscale image, \n",
    "    * generated a binary thresholding image using the code from Task 3,\n",
    "      * your code should print out the Maximum Entropy threshold value you computed,\n",
    "    * using SimpleITK::MaximumEntropyThresholdImageFilter, verify that the threshold value you computed from Task 3 is correct\n",
    "\n",
    "\n",
    "Marking Scheme:\n",
    "* A title place (2 marks)\n",
    "* an RGB input image, the converted grayscale image, and a histogram plot of the gray scale image (2 marks)\n",
    "* A plot of the thresholding binary image generated from myOtsuThresholding class (without image overlay onto the original grayscale image), and validation of the Otsu's threshold value against SimpleITK's implementation (2 marks)\n",
    "* A plot of the thresholding binary image generated from myMaxEntropy class (without image overlay onto the original grayscale image), and validation of the Otsu's threshold value against SimpleITK's implementation (2 marks)\n",
    "* In-line documentation (2 marks)"
   ]
  },
  {
   "cell_type": "markdown",
   "metadata": {},
   "source": [
    "<h3>Task 5: Comparison (10 marks)</h3>\n",
    "\n",
    "Use sitk::LabelOverlapMeasuresImageFilter, compare the two segmentations:\n",
    "* Using the Otsu's segmentation as the reference data, tabulate the following metrics (6 marks)\n",
    "  * Jaccard Similarity Coefficient\n",
    "  * Dice Similarity Coefficient\n",
    "  * False Positive Rate\n",
    "  * False Negative Rate\n",
    "* In a few sentences, discuss why, or why not, you should use both Jaccard and Dice metrics together to evaluate a segmentation algorithm (4 marks)."
   ]
  },
  {
   "cell_type": "markdown",
   "metadata": {},
   "source": [
    "<h3>Tasks 6: Implement the Least Square Solution for the Orthogonal Procrustes Analysis (25 marks)</h3>\n",
    "\n",
    "In the context of medical imaging, Orthogonal Procrustes Analysis (OPA) is often used to register multi-model image modalities, or to register a pre-operative image modality to the physical location of the patient intra-operatively. \n",
    "\n",
    "Based on the lecture notes (Day 9), implement a Python/Numpy function to solve the OPA problem using the least square solution as described by [Arun et al.](https://ieeexplore.ieee.org/document/4767965?arnumber=4767965&tag=1). The step-by-stel algorithm is given both in the lecture Jupyter Notebook document as well as the paper by [Arun et al.](https://ieeexplore.ieee.org/document/4767965?arnumber=4767965&tag=1).\n",
    "\n",
    "* Design and implement a Python function called **OPA**.\n",
    "  * The input of **OPA** should be $X_{3\\times n}$ and $Y_{3\\times n}$, both are sets of 3D points arranged in column vectors,\n",
    "  * The output of **OPA** should be $R_{3\\times 3}$ and $t_{3\\times 1}$, together specifies the rigid-body transformation satisflying the following equation:\n",
    "  \n",
    "  $Y_i = R X_i + t$\n",
    "  \n",
    "  where the subscript $_{i}$ denotes the $i^{th}$ colume of a matrix.\n",
    "  \n",
    "You should create a Python function with a function name as **OPA** and save the function as a self-contained Python file as OPA.py."
   ]
  },
  {
   "cell_type": "markdown",
   "metadata": {},
   "source": [
    "Suppose you are given the following two poinsets:"
   ]
  },
  {
   "cell_type": "code",
   "execution_count": 11,
   "metadata": {},
   "outputs": [],
   "source": [
    "import numpy as np\n",
    "\n",
    "X = np.array([[0,0,0],[1, 0, 0], [0,1,0], [2,3,4]]).transpose()\n",
    "Y = np.array([[5.0000 ,   6.0000,    7.0000],\n",
    "    [5.6022,    5.2018,    7.0128],\n",
    "    [5.7818,    6.5930,    7.1927],\n",
    "    [7.9045,    5.7584,   11.5283]    ]).transpose()"
   ]
  },
  {
   "cell_type": "markdown",
   "metadata": {},
   "source": [
    "Questions:\n",
    "\n",
    "- What rigid-body transformation, in forms of rotation *followed* by translation, would register $X$ to $Y$ (20 marks)?\n",
    "  * provide your answers in terms of:\n",
    "    * $R_{3\\times 3}$ rotation matrix, and $t_{3\\times 1}$ translation vector (5 marks),\n",
    "  * Correct and documented OPY.py code (15 marks),\n",
    "- In **general**, how many paired points do we need to obtain a unique solution to register $X$ to $Y$ in $3$D (5 marks)? Justify your answer."
   ]
  },
  {
   "cell_type": "markdown",
   "metadata": {},
   "source": [
    "## Late Policy\n",
    "\n",
    "The deadline for submitting this assignment is **Friday, 11:55pm, March 1, 2019**. \n",
    "\n",
    "The OWL submission system will remain open until **Wednesday, 11:55pm, March 6, 2019**:\n",
    "* for each 24 hours of late submission, a total mark of **20%** will be deducted"
   ]
  },
  {
   "cell_type": "markdown",
   "metadata": {},
   "source": [
    "### What to hand-in\n",
    "Upon completing this assignment, you need to upload the following through OWL:\n",
    "* RGB2Gray.py\n",
    "* myOtsuThresholding.py\n",
    "* myMaxEntropy.py\n",
    "* OPA.py\n",
    "* a color RGB image of your choice, the filename of which should be \"inputImg_RGB.jpg\" (or with appropriate file extension)\n",
    "* your assignment in a `.ipynb` file. The file name of this Jupyter Notebook document should be `Assignment2_` followed by your full name. In this Jupyter Notebook document you should complete Task 4, Task 5, and Task 6."
   ]
  }
 ],
 "metadata": {
  "kernelspec": {
   "display_name": "Python 3",
   "language": "python",
   "name": "python3"
  },
  "language_info": {
   "codemirror_mode": {
    "name": "ipython",
    "version": 3
   },
   "file_extension": ".py",
   "mimetype": "text/x-python",
   "name": "python",
   "nbconvert_exporter": "python",
   "pygments_lexer": "ipython3",
   "version": "3.6.8"
  }
 },
 "nbformat": 4,
 "nbformat_minor": 2
}
