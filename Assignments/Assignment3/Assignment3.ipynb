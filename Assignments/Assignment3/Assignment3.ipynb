{
 "cells": [
  {
   "cell_type": "markdown",
   "metadata": {},
   "source": [
    "<h1 align=\"center\">Advanced Image Processing and Analysis</h1>\n",
    "<h3 align=\"center\">ECE 4438B/ECE 9022/ECE 9202B/BIOMED 9519B/BIOPHYS 9519B/CAMI 9519B</h3>\n",
    "<h4 align=\"center\"><a href=\"mailto:echen29@uwo.ca?subject=Assignment #3\"> Elvis Chen, PhD, LL</a></h4>\n",
    "<h2 align=\"center\">Assignment #3</h4>\n",
    "<h2 align=\"center\">Due Monday, 11:55pm, March 25, 2019</h2>\n",
    "<h3 align=\"center\">Assignments must be submitted to the OWL system</h3>\n",
    "<h3 align=\"center\">Assignments must be be completed individually</h3>\n",
    "\n",
    "\n",
    "\n",
    "<h3>Primary Objective</h3>\n",
    "\n",
    "Understanding of the general registration framework and $3$D rotation.\n",
    "\n",
    "\n",
    "<h3>Secondary Objective</h3>\n",
    "\n",
    "Critical Thinking"
   ]
  },
  {
   "cell_type": "markdown",
   "metadata": {},
   "source": [
    "Below are two horizontally misaligned head image of two different subjects, and of different modalities. One image is from a magnetic resonance image of the head, and the other is a grayscaled version of a photograph of a cadaveric tissue specimen.\n",
    "\n",
    "<img src=\"multi_modal_heads.png\" style=\"width:800px\"/>"
   ]
  },
  {
   "cell_type": "markdown",
   "metadata": {},
   "source": [
    "Taking the brain MRI as the moving image and the tissue image as the fixed image, a horizontal rightward translation through $400$ pixels produces the following image similarity function graphs:\n",
    "\n",
    "<img src=\"MSE.png\" style=\"width:800px\"/>\n",
    "<img src=\"NCC.png\" style=\"width:800px\"/>\n",
    "<img src=\"NMI.png\" style=\"width:800px\"/>\n",
    "\n",
    "In all of the above graphs, the black dashed line indicates the amount of translation yielding the correct registration. The red dashed lines indicate the nearest optima to the black dashed line."
   ]
  },
  {
   "cell_type": "markdown",
   "metadata": {},
   "source": [
    "### Question 1: **($4$ marks total)**\n",
    "* **($1$ mark)** Based on the information contained in the graphs above, which of the above three image similarity metrics is the most appropriate to this problem?\n",
    "* **($2$ marks)** Why?  Provide at least two justifications for your choices of image similarity metrics,\n",
    "* **($1$ mark)** Which SimpleITK class implements your chosen image similarity metric?"
   ]
  },
  {
   "cell_type": "markdown",
   "metadata": {},
   "source": [
    "### Question 2: **($2$ marks total)**\n",
    "* **($1$ mark)** Suppose you were using the MSE image similarity metric and a gradient descent optimizer. Suppose that the user of some other process provided an initialization at the point indicated by the green arrow in the MSE graph (a) above. Will the optimizer definitely converge to the correct answer given by the dashed line?\n",
    "* **($1$ mark)** Why or why not?"
   ]
  },
  {
   "cell_type": "markdown",
   "metadata": {},
   "source": [
    "### Question 3: **($4$ marks total)**\n",
    "* **($1$ mark)** Suppose you were using the NMI image similarity metric and a grandient ascent optimizer. Suppose that the user or some other process provided an initialization at the point indicated by the green arrow in the NMI graph (c) above. You run the optimizer, and you find that it converges somewhere between the green arrow and the dashed red line in the NMI graph (c) above. What parameter in the optimizer could you tue to encourage it to converge to the dashed black line instead?\n",
    "* **($1$ mark)** Would you increase, or decrease this parameter?\n",
    "* **($2$ mark)** As an alternative approach, what parameters you could tune in NMI image similarity metric computeration that could modify the shape of the NMI curve in graph (c) above?"
   ]
  },
  {
   "cell_type": "markdown",
   "metadata": {},
   "source": [
    "### Question 4: **($15$ marks total)**\n",
    "\n",
    "In this question, we will derive $3$D rotation matrices and examine some of its properties.\n",
    "\n",
    "In $2$D, we can construct a rotation matrix of angle $\\theta$ using the following exercise. Imaging an unit axis on the origin pointing in the direction of x-axis. This unit vector can be denoted as $\\begin{bmatrix}1\\\\0\\end{bmatrix}$. If we are to rotate it about the origin by an angle $\\theta$, then the end point of $\\begin{bmatrix}1\\\\0\\end{bmatrix}$ is now located at $\\begin{bmatrix} \\cos(\\theta)\\\\ \\sin(\\theta)\\end{bmatrix}$:\n",
    "\n",
    "<img src=\"2Drotation_X.PNG\" style=\"width:800px\"/>"
   ]
  },
  {
   "cell_type": "markdown",
   "metadata": {},
   "source": [
    "Simultaneously, the unit axis originated at the origin pointing in the y-axis (denoted by  $\\begin{bmatrix}0\\\\1\\end{bmatrix}$), is now $\\begin{bmatrix} -\\sin(\\theta)\\\\ \\cos(\\theta)\\end{bmatrix}$\n",
    "<img src=\"2Drotation_Y.PNG\" style=\"width:800px\"/>\n",
    "\n",
    "The rotation matrix can be constructed by putting these symbolic relationship in a column vector:\n",
    "\n",
    "$R(\\theta) = \\begin{bmatrix} \\cos(\\theta)& -\\sin(\\theta) \\\\ \\sin(\\theta)& \\cos(\\theta) \\end{bmatrix}$"
   ]
  },
  {
   "cell_type": "markdown",
   "metadata": {},
   "source": [
    "- (a) **(1 mark)** What is $R(60^\\circ)$?  Use Jupyter/Markdown to write out the matrix numerically up to $4$ decimal place. Pay attention to the unit for angle.\n",
    "- (b) **(3 mark)** Verify your answer by writing a SimpleITK code. You may, for example,\n",
    "  - create an instance of Euler2DTransform\n",
    "  - specify the angle of rotation\n",
    "  - (optionally) specify the origin of rotation, and\n",
    "  - print out the rotation matrix.\n",
    "- (c) **(1 mark)** If you are given a rotation matrix $R(\\theta) = \\begin{bmatrix} \\frac{1}{\\sqrt{2}}& \\frac{1}{\\sqrt{2}} \\\\ -\\frac{1}{\\sqrt{2}}& \\frac{1}{\\sqrt{2}} \\end{bmatrix}$, **what is $\\theta$ in degree**?"
   ]
  },
  {
   "cell_type": "markdown",
   "metadata": {},
   "source": [
    "We can expand this mental exercise to construct a 3D rotation about the x-axis, y-axis, and z-axis, respectively. The mental exercise proceeds as the following:\n",
    "- Rotation about an axis means that you are, conceptually, located at the **positive** direction of that axis, **looking towards** the origin,\n",
    "\n",
    "<img src=\"3DRotation_x.PNG\" style=\"width:800px\"/>\n",
    "- Mentally rotate the other 2 axes just like in the $2$D scenario\n",
    "<img src=\"3DRotation_x_visualize.PNG\" style=\"width:800px\"/>\n",
    "- Rotation about the axis **does not** change that axis itself,\n",
    "- fill in the $R_{3 \\times 3}$ rotation matrix: $R_{x}(\\theta) = \\begin{bmatrix} 1 & 0 & 0\\\\ 0 & \\cos(\\theta)& -\\sin(\\theta) \\\\ 0 &\\sin(\\theta)& \\cos(\\theta) \\end{bmatrix}$"
   ]
  },
  {
   "cell_type": "markdown",
   "metadata": {},
   "source": [
    "- (d) **(3 mark)** in SimpleITK, verify the above equation for rotation about the x-axis is correct. Assuming $\\theta=60^{\\circ}$:\n",
    "  - construct an instance of Euler3DTransform,\n",
    "    - make sure the center of rotation is at the origin,\n",
    "  - print out the matrix of rotation about the x-axis by $\\theta=60^{\\circ}$."
   ]
  },
  {
   "cell_type": "markdown",
   "metadata": {},
   "source": [
    "- (e) **(2 mark)** Going through the same mental exercise, construct the rotation matrix for rotation abot the y-axis by an amount of $\\theta$:\n",
    "  - Using Jupyter Notebook/Markdown, type out the rotation matrix as a function of $\\theta$,\n",
    "- (f) **(2 mark)** Similarly, construct the rotation matrix for rotation abot the z-axis by an amount of $\\theta$:\n",
    "  - Using Jupyter Notebook/Markdown, type out the rotation matrix as a function of $\\theta$,\n",
    "- (g) **(3 mark)** Successive rotations can be represented by a single rotation matrix. Let $R_x(\\theta)$ be the rotation about the x-axis by an angle $\\theta$, and $R_y(\\gamma)$ be the rotation about the y-axis by an angle $\\gamma$.\n",
    "  - In general, does the rotation about x-axis by an angle $\\theta$ followed by a rotation about the y-axis by an angle $\\gamma$ **the same** as rotation about the y-axis by an angle $\\gamma$ first, followed the rotation about the x-axis by an angle $\\theta$?  **why or why not?** "
   ]
  },
  {
   "cell_type": "markdown",
   "metadata": {},
   "source": [
    "## What do hand in\n",
    "\n",
    "Hand in via OWL a Jupyter Notebook document Containing numbered answers to the questions in this assignment."
   ]
  }
 ],
 "metadata": {
  "kernelspec": {
   "display_name": "Python 3",
   "language": "python",
   "name": "python3"
  },
  "language_info": {
   "codemirror_mode": {
    "name": "ipython",
    "version": 3
   },
   "file_extension": ".py",
   "mimetype": "text/x-python",
   "name": "python",
   "nbconvert_exporter": "python",
   "pygments_lexer": "ipython3",
   "version": "3.6.8"
  }
 },
 "nbformat": 4,
 "nbformat_minor": 2
}
