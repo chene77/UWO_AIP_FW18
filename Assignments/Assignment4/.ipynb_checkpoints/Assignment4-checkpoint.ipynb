{
 "cells": [
  {
   "cell_type": "markdown",
   "metadata": {},
   "source": [
    "<h1 align=\"center\">Advanced Image Processing and Analysis</h1>\n",
    "<h3 align=\"center\">ECE 4438B/ECE 9022/ECE 9202B/BIOMED 9519B/BIOPHYS 9519B/CAMI 9519B</h3>\n",
    "<h4 align=\"center\"><a href=\"mailto:echen29@uwo.ca?subject=Assignment #4\"> Elvis Chen, PhD, LL</a></h4>\n",
    "<h2 align=\"center\">Assignment #4</h4>\n",
    "<h2 align=\"center\">Due Friday, 11:55pm, April 19, 2019</h2>\n",
    "<h3 align=\"center\">Assignments must be submitted to the OWL system</h3>\n",
    "<h3 align=\"center\">Assignments must be be completed individually</h3>\n",
    "\n",
    "\n",
    "<h3>Primary Objective</h3>        \n",
    "\n",
    "Thin Plate Spline Transformation\n",
    "                                                            \n",
    "<h3>Secondary Objective</h3>\n",
    "\n",
    "* Deformable Registration\n",
    "* Critical Thinking"
   ]
  },
  {
   "cell_type": "markdown",
   "metadata": {},
   "source": [
    "#### Introduction\n",
    "\n",
    "In this assignment, we are going to implement the solution for Thin Plate Spline TPS) transform using Python/numpy. The basic formulation and terminology is based on the following paper:\n",
    "\n",
    "**Principal warps: thin-plate splines and the decomposition of deformations**\n",
    "\n",
    "by\n",
    "F. L. Bookstein\n",
    "\n",
    "*IEEE Transactions on Pattern Analysis and Machine Intelligence*, 11(6): 567, 1989\n",
    "\n",
    "A copy of it has been uploaded to OWL under Lectures: **Principal Warps**."
   ]
  },
  {
   "cell_type": "markdown",
   "metadata": {},
   "source": [
    "The Thin Plate Splines (TPS) performs a deformable registration using a set of landmarks and, unlike other types of registration we have seen so far, does not depends on the image characteristics (pixel intensity, historgrams, etc). TPS deformation has two components:\n",
    "\n",
    "* the **affine** components which is basically point-based registration, and\n",
    "* the **local** deformation component, which is a linear combination of some basis function.\n",
    "\n",
    "We will implement the TPS transformation using a **bottom-up** approach."
   ]
  },
  {
   "cell_type": "markdown",
   "metadata": {},
   "source": [
    "**Marking** ($75$ marks total): For all the questions below, your answer is marked based on:\n",
    "* correct implementation of the algorithm,\n",
    "* proper and detail in-line documentation of your code\n",
    "    * explanation of the input and output, and\n",
    "* critical thinking.\n",
    "    \n",
    "**You are encouraged to use any built-in python/numpy function for the tasks below.**"
   ]
  },
  {
   "cell_type": "markdown",
   "metadata": {},
   "source": [
    "### Mathematics\n",
    "\n",
    "While the mathematics of TPS is quite involved, we will focus on implementing it using Python/numpy, and examine some of its behaviour properties.\n",
    "\n",
    "If you are interested in the derivation of TPS, carefully read *Section **A** * to * **C** * of the paper.\n",
    "\n",
    "In this assignment, we will focus on *Section **D*** and borrow its notation for the description below."
   ]
  },
  {
   "cell_type": "markdown",
   "metadata": {},
   "source": [
    "#### TPS in $2$D\n",
    "\n",
    "The first task is to identify a set of landmarks from two images. For this assignment, we will not be working with images, but assume the availability of these landmarks.\n",
    "\n",
    "Let $P_i$ be the landmarks identified from image **A**:\n",
    "\n",
    "$\n",
    "\\begin{eqnarray}\n",
    "P_1 & = & (x_1,y_1)\\\\\n",
    "P_2 & = & (x_2,y_2)\\\\\n",
    "\\vdots & \\\\\n",
    "P_n & = & (x_n,y_n)\\\\\n",
    "\\end{eqnarray}\n",
    "$\n",
    "\n",
    "and $V_i$ be the landmarks identified from image **B**:\n",
    "\n",
    "$\n",
    "\\begin{eqnarray}\n",
    "V_1 & = & (x'_1,y'_1)\\\\\n",
    "V_2 & = & (x'_2,y'_2)\\\\\n",
    "\\vdots & \\\\\n",
    "V_n & = & (x'_n,y'_n)\\\\\n",
    "\\end{eqnarray}\n",
    "$\n"
   ]
  },
  {
   "cell_type": "markdown",
   "metadata": {},
   "source": [
    "**Question 1** ($5$ marks)\n",
    "\n",
    "Assume the list of landmarks are recorded in two text files named `P.txt` and `V.txt`, each of the following formats:\n",
    "\n",
    "```\n",
    "x1 y1\n",
    "x2 y2\n",
    "...\n",
    "xn yn\n",
    "```\n",
    "\n",
    "where the list of landmarks from image **A** is stored in `P.txt`, and landmarks from image **B** is stored in `V.txt`, respectively. A single white space \" \" is used to separate the values.\n",
    "\n",
    "Consult with the `numpy.loadtxt` [documentation](https://docs.scipy.org/doc/numpy/reference/generated/numpy.loadtxt.html). Write a Python function that reads the text file and return them as a $2$D numpy array.\n",
    "\n",
    "The function header should look like this:\n",
    "\n",
    "``` python\n",
    "def readLandmarksFromFile( fname ):\n",
    "``` \n",
    "**(5 marks)** Correct implementation of this function. Because we will be using it to read 2 files, \n",
    "  * the file name(s) is the input of this function,\n",
    "  * the output is a $2$D numpy array whose numerical value corresponds to the values stored in the text file,"
   ]
  },
  {
   "cell_type": "markdown",
   "metadata": {},
   "source": [
    "**Question 2** ($10$ marks)\n",
    "\n",
    "Implement the spatial function $U$ in $2$D for TPS for **a single homogous point-pair**. The function header should look like this:\n",
    "\n",
    "``` python\n",
    "def computeU( pi, vi ):\n",
    "```\n",
    "\n",
    "where\n",
    "\n",
    "$\n",
    "\\begin{eqnarray}\n",
    "p_i & = & \\begin{bmatrix} x_i\\\\y_i\\end{bmatrix}\\\\\n",
    "v_i & = & \\begin{bmatrix} x'_i\\\\y'_i\\end{bmatrix}\n",
    "\\end{eqnarray}\n",
    "$\n",
    "\n",
    "are points in $P$ and $V$, respectively. The output of this function is a *scalar*.\n",
    "\n",
    "**(10 marks)** Correct implementation of this function:\n",
    "  * Using the class notes and Bookstein's paper, implement the correct formulation of $U$ for $2$D TPS.\n",
    "  * complete and detailed documentation\n",
    "  \n",
    "*hints*\n",
    "* using the notation on page 570 of Bookstein's paper, $r_{ij}$ is the Euclidean distance between points $i$ and point $j$. The function $U$ is a measure of the bending energy."
   ]
  },
  {
   "cell_type": "markdown",
   "metadata": {},
   "source": [
    "**Question 3** ($10$ marks)\n",
    "\n",
    "Based on your implementation for Question 1 and 2, construct the matrix $K$ (page 570 on Bookstein's paper, or consult the class note). The function header should look like this:\n",
    "\n",
    "``` python\n",
    "def genK( P ):\n",
    "```\n",
    "\n",
    "where $P$ is the list of $2$D landmarks of image **A** that you read per Question 1. \n",
    "\n",
    "**(10 marks)** Correct implementation of this function\n",
    "  * This function should determine the number of landmarks based on the size of $P$,\n",
    "  * Uses the function `computeU` to fill in elements of the matrix $K$,\n",
    "  * This functions returns a $2$D numpy array with correct dimension and values,\n",
    "  * Complete and detailed documentation"
   ]
  },
  {
   "cell_type": "markdown",
   "metadata": {},
   "source": [
    "**Question 4** ($10$ marks)\n",
    "\n",
    "Refer to page 570 on Bookstein's paper (or the class notes), construct the system of linear equations and solving them. Define the following $2$ functions:\n",
    "\n",
    "``` python\n",
    "def genL( P ):\n",
    "``` \n",
    "\n",
    "and\n",
    "\n",
    "``` python\n",
    "def solveTPSCoefs( P, V )\n",
    "```\n",
    "\n",
    "where $P$ and $V$ are the landmarks you read from files (per Questions 1).\n",
    "\n",
    "* `genL(P)` constructs the matrix $L$ which comprises of the matrix $K$ and the landmarks $P$.\n",
    "* `solveTPSCoefs` computes the coefficients of the TPS transformation by multiplying the *inverse* of the matrix $L$ to the matrix $Y$, which itself is the landmarks $V$ with *zeros* appended."
   ]
  },
  {
   "cell_type": "markdown",
   "metadata": {},
   "source": [
    "## Validate your implementation\n",
    "\n",
    "A sample `P.txt` and `V.txt` are provided, corresponding to Figure 2 of Bookstein's paper (and the class note). You can verify your implementation for Question 1-4 by referring to Page 571 of Bookstein's paper. "
   ]
  },
  {
   "cell_type": "markdown",
   "metadata": {},
   "source": [
    "**Question 5** ($20$ marks)\n",
    "\n",
    "The TPS coefficients you just solved is encoded in a matrix of size $(n+3) \\times 2$, where $n$ is the number of landmark pairs.. The first $(n+3) \\times 1$ coefficients correspond to the deformation applied in the $x-$axis, and the second $(n+3) \\times 1$ coefficients correspond to the deformation applined in the $y-$axis.  For a given pixel location $(x,y)$, implement a function that applies TPS deformation:\n",
    "\n",
    "``` python\n",
    "def applyTPSDeformation( P, V, pixelLocation )\n",
    "```\n",
    "\n",
    "where $P$ and $V$ are homologous landmarks, and\n",
    "\n",
    "$\n",
    "pixelLocation = \\begin{bmatrix}x\\\\y\\end{bmatrix}\n",
    "$\n",
    "\n",
    "is the input pixel location. The output of this function is\n",
    "\n",
    "$\n",
    "newPixelLocation = \\begin{bmatrix}x'\\\\y'\\end{bmatrix}\n",
    "$\n",
    "\n",
    "Suppose we have $4$ new pixels:\n",
    "\n",
    "$\n",
    "newPixels = \\begin{bmatrix}100&0\\\\\n",
    "-100&0\\\\\n",
    "0&100\\\\\n",
    "0&-100\\end{bmatrix}\n",
    "$\n",
    "\n",
    "* ($2$ marks) Where will these $4$ pixels be transformed to?\n",
    "* ($8$ marks) Have them been moved at all?  Is this what you expected?\n",
    "* ($10$ marks) for implementation/code documentation."
   ]
  },
  {
   "cell_type": "markdown",
   "metadata": {},
   "source": [
    "**Question 6** ($20$ marks)\n",
    "\n",
    "Create $2$ text files corresponding to the landmarks as shown in Figure 4 of Bookstein's paper (numerical values are given on page 572). Use your solution for Question 4 to generate TPS coefficients and verify that you are getting the same answer to Bookstein's example.\n",
    "\n",
    "(**hint**: One of the coefficients was mis-typed in the paper so don't be too concerned if the numbers don't match up exactly)\n",
    "\n",
    "Create a matrix $A_{2\\times 2}$ corresponding to the linear term of the affine transformation coefficients. Perform [Singular Value Decomposition](https://docs.scipy.org/doc/numpy-1.14.0/reference/generated/numpy.linalg.svd.html) on $A$ ($A = U S V^{H}$) decomposes the affine transformation into a rotation, followed by scaling, followed by another rotation. The *singular values* $S$ correspond to the amount of scaling, and $U$ and $V^{H}$ are rotations.\n",
    "\n",
    "**hint**: If the determine of $U$ and $V^{H}$ is $-1$, a flip is performed twice!  i.e. SVD solution is **not** unique. To obtain proper rotation, apply the following (un)-flip:\n",
    "\n",
    "$\n",
    "\\begin{eqnarray}\n",
    "U & = & \\begin{bmatrix}-1 & 0 \\\\0&1\\end{bmatrix} U\\\\\n",
    "V^{H} & = & \\begin{bmatrix}-1 & 0 \\\\0&1\\end{bmatrix} V^{H}\n",
    "\\end{eqnarray}\n",
    "$"
   ]
  },
  {
   "cell_type": "markdown",
   "metadata": {},
   "source": [
    "(**Marks**)\n",
    "* ($5$ marks) What is the amount of rotations, in degrees, does $U$ and $V^{H}$ represent?\n",
    "* ($5$ marks) What are the anisotropic scaling factors?\n",
    "* ($10$ marks) In your own words, describe what the affine transformation $A$ does as part of the TPS transformation. In your discussion, elaborate how landmarks are moved/transformed."
   ]
  }
 ],
 "metadata": {
  "kernelspec": {
   "display_name": "Python 3",
   "language": "python",
   "name": "python3"
  },
  "language_info": {
   "codemirror_mode": {
    "name": "ipython",
    "version": 3
   },
   "file_extension": ".py",
   "mimetype": "text/x-python",
   "name": "python",
   "nbconvert_exporter": "python",
   "pygments_lexer": "ipython3",
   "version": "3.6.8"
  }
 },
 "nbformat": 4,
 "nbformat_minor": 2
}
