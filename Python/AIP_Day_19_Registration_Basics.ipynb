{
 "cells": [
  {
   "cell_type": "markdown",
   "metadata": {},
   "source": [
    "<h1 align=\"center\">Advanced Image Processing and Analysis</h1>\n",
    "<h3 align=\"center\">ECE 4438B/ECE 9022/ECE 9202B/BIOMED 9519B/BIOPHYS 9519B/CAMI 9519B</h3>\n",
    "<h4 align=\"center\"><a href=\"mailto:echen29@uwo.ca?subject=Day 19: Registration basic, translation\"> Elvis Chen, PhD, LL</a></h4>\n",
    "<h4 align=\"center\">Day 19, March 18, 2019</h4>"
   ]
  },
  {
   "cell_type": "markdown",
   "metadata": {},
   "source": [
    "### Introduction\n",
    "\n",
    "In this Jupyter Notebook, we will example the implementation details of the registration frameworks within SimpleITK."
   ]
  },
  {
   "cell_type": "markdown",
   "metadata": {},
   "source": [
    "When we introduced the concept of similarity metric, all the mental execise we used in class involved the following key concepts:\n",
    "\n",
    "* a fixed image: the image that does NOT change/move. It is the image we want to use as a reference,\n",
    "* a moving image: the *mobile* image that we want to **transform**, and\n",
    "* a transformation: how we want to manipulate the moving image. The mental exercise we went through so far only involved 1D translation (in the x-axis)."
   ]
  },
  {
   "cell_type": "markdown",
   "metadata": {},
   "source": [
    "Let us look at a simple example in SimpleITK, but involing 2D translation (in both x- and y-axis)"
   ]
  },
  {
   "cell_type": "code",
   "execution_count": null,
   "metadata": {},
   "outputs": [],
   "source": [
    "import SimpleITK as sitk\n",
    "\n",
    "%run update_path_to_download_script\n",
    "from downloaddata import fetch_data as fdata\n",
    "\n",
    "import matplotlib.pyplot as plt\n",
    "\n",
    "import gui\n",
    "import registration_gui as rgui\n",
    "%matplotlib notebook\n",
    "\n",
    "import numpy as np\n",
    "import os\n",
    "OUTPUT_DIR = 'output'"
   ]
  },
  {
   "cell_type": "markdown",
   "metadata": {},
   "source": [
    "Notice that two additional python modules are used (gui and registration_gui) to facilitate the visualization of registration."
   ]
  },
  {
   "cell_type": "markdown",
   "metadata": {},
   "source": [
    "First, let us read 2 images. The registration framework in SimpleITK only work with pixel type of Float16 or Float32, so when we read the images we will force the pixel type at the same time."
   ]
  },
  {
   "cell_type": "code",
   "execution_count": null,
   "metadata": {},
   "outputs": [],
   "source": [
    "# the fixed image, read the file and store it as sitkFloat32\n",
    "fixedImage = sitk.ReadImage('BrainProtonDensitySliceBorder20.png', sitk.sitkFloat32 )"
   ]
  },
  {
   "cell_type": "code",
   "execution_count": null,
   "metadata": {},
   "outputs": [],
   "source": [
    "# the moving image, read the file and store it as sitkFloat32\n",
    "movingImage = sitk.ReadImage('BrainProtonDensitySliceShifted13x17y.png', sitk.sitkFloat32 )"
   ]
  },
  {
   "cell_type": "markdown",
   "metadata": {},
   "source": [
    "Next, we define a simple utility function to help us to visualize these two images side by side. For 3D volumes, we can use utilitiy functions from gui and registration_gui."
   ]
  },
  {
   "cell_type": "code",
   "execution_count": null,
   "metadata": {},
   "outputs": [],
   "source": [
    "# define an utility function to display 2 2D images side-by-side\n",
    "\n",
    "def display_2D_Images( fixed_npa, moving_npa ):\n",
    "    # create a figure with two subplots and the specified size\n",
    "    plt.subplots( 1, 2, figsize=( 10, 8 ) )\n",
    "    \n",
    "    # draw the fixed image in the first (left) subplot\n",
    "    plt.subplot( 1, 2, 1 )\n",
    "    plt.imshow( sitk.GetArrayViewFromImage(fixed_npa), cmap=plt.cm.Greys_r )\n",
    "    plt.title( 'Fixed Image' )\n",
    "    plt.axis( 'off' )\n",
    "    \n",
    "    # draw the moving image in the second (right) subplot\n",
    "    plt.subplot( 1, 2, 2 )\n",
    "    plt.imshow( sitk.GetArrayViewFromImage(moving_npa), cmap=plt.cm.Greys_r )\n",
    "    plt.title( 'Moving Image' )\n",
    "    plt.axis( 'off' )\n",
    "    \n",
    "    plt.show()"
   ]
  },
  {
   "cell_type": "code",
   "execution_count": null,
   "metadata": {},
   "outputs": [],
   "source": [
    "# now, we visualize these images before registration\n",
    "display_2D_Images( fixedImage, movingImage )"
   ]
  },
  {
   "cell_type": "markdown",
   "metadata": {},
   "source": [
    "These two images are of the same image modality. Notice the position and the orientation of the head: in addition to the translation (the moving image is translated to the right, and down, compared to the fixed image), there is also a rotation of the head.\n",
    "\n",
    "For the moment, we'll try to register these images using translation **only**."
   ]
  },
  {
   "cell_type": "markdown",
   "metadata": {},
   "source": [
    "Using the classical registration framework in SimpleITK, we need to specify the following components:\n",
    "* a similarity metric,\n",
    "* an optimizer,\n",
    "* the type of transformation, and lastly\n",
    "* a interpolator.\n",
    "\n",
    "\n",
    "<img src=\"ITKv3_registration.png\" width=\"850\"/>\n",
    "\n",
    "We have **not** discussed about interpolator, so for the moment we will ignore it.  The following code is the minimum implementation to perform registration in SimpleITK."
   ]
  },
  {
   "cell_type": "markdown",
   "metadata": {},
   "source": [
    "**Question**: Given what we know about these two images,\n",
    "* What similarity metric would you use?\n",
    "* What optimizer?"
   ]
  },
  {
   "cell_type": "code",
   "execution_count": null,
   "metadata": {},
   "outputs": [],
   "source": [
    "registration_method = sitk.ImageRegistrationMethod()\n",
    "\n",
    "# Similarity metric settings,\n",
    "registration_method.SetMetricAsMeanSquares()\n",
    "\n",
    "# interpolator\n",
    "registration_method.SetInterpolator( sitk.sitkLinear )\n",
    "\n",
    "# Optimizer setting\n",
    "maxStep = 4.0\n",
    "minStep = 0.01\n",
    "numberOfIterations = 200\n",
    "relaxationFactor = 0.5\n",
    "registration_method.SetOptimizerAsRegularStepGradientDescent( maxStep, minStep, numberOfIterations, relaxationFactor )\n",
    "\n",
    "# transform\n",
    "initial_transform = sitk.TranslationTransform( fixedImage.GetDimension() )\n",
    "registration_method.SetInitialTransform( initial_transform )\n",
    "\n",
    "# Connect all of the observers so that we can perform plotting during registration.\n",
    "registration_method.AddCommand(sitk.sitkStartEvent, rgui.start_plot)\n",
    "registration_method.AddCommand(sitk.sitkEndEvent, rgui.end_plot)\n",
    "registration_method.AddCommand(sitk.sitkMultiResolutionIterationEvent, rgui.update_multires_iterations) \n",
    "registration_method.AddCommand(sitk.sitkIterationEvent, lambda: rgui.plot_values(registration_method))\n",
    "\n",
    "\n",
    "final_transform = registration_method.Execute( fixedImage, movingImage )\n",
    "\n",
    "# Always check the reason optimization terminated.\n",
    "print('Final metric value: {0}'.format(registration_method.GetMetricValue()))\n",
    "print('Optimizer\\'s stopping condition, {0}'.format(registration_method.GetOptimizerStopConditionDescription()))"
   ]
  },
  {
   "cell_type": "markdown",
   "metadata": {},
   "source": [
    "To visualize the registration result, we will create a new image using the transform we computed from the registration, by applying the transform to the moving image:"
   ]
  },
  {
   "cell_type": "code",
   "execution_count": null,
   "metadata": {
    "scrolled": true
   },
   "outputs": [],
   "source": [
    "moving_resamples = sitk.Resample( movingImage, fixedImage, final_transform, sitk.sitkLinear, 0.0, movingImage.GetPixelID() )\n",
    "\n",
    "display_2D_Images( fixedImage, moving_resamples )"
   ]
  },
  {
   "cell_type": "code",
   "execution_count": null,
   "metadata": {},
   "outputs": [],
   "source": [
    "print(final_transform)\n",
    "\n",
    "# if we are satisfied with the result, save the transform\n",
    "sitk.WriteTransform( final_transform, os.path.join( OUTPUT_DIR, 'translation.tfm' ))"
   ]
  },
  {
   "cell_type": "markdown",
   "metadata": {},
   "source": [
    "Note that the image is more-or-less aligned in terms of the position within the image, but the orientation of the head is still rotated.  We will fixe it in the next example."
   ]
  },
  {
   "cell_type": "markdown",
   "metadata": {},
   "source": [
    "<a href=\"AIP_Day_19_Transformation.ipynb\"><h2 align=right>Next &raquo;</h2></a>"
   ]
  }
 ],
 "metadata": {
  "kernelspec": {
   "display_name": "Python 3",
   "language": "python",
   "name": "python3"
  },
  "language_info": {
   "codemirror_mode": {
    "name": "ipython",
    "version": 3
   },
   "file_extension": ".py",
   "mimetype": "text/x-python",
   "name": "python",
   "nbconvert_exporter": "python",
   "pygments_lexer": "ipython3",
   "version": "3.6.8"
  }
 },
 "nbformat": 4,
 "nbformat_minor": 2
}
