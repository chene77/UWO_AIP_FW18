{
 "cells": [
  {
   "cell_type": "markdown",
   "metadata": {},
   "source": [
    "<h1 align=\"center\">Advanced Image Processing and Analysis</h1>\n",
    "<h3 align=\"center\">ECE 4438B/ECE 9022/ECE 9202B/BIOMED 9519B/BIOPHYS 9519B/CAMI 9519B</h3>\n",
    "<h4 align=\"center\"><a href=\"mailto:echen29@uwo.ca?subject=Day 20: Mutual Information/Registration\"> Elvis Chen, PhD, LL</a></h4>\n",
    "<h4 align=\"center\">Day 20, March 20, 2018</h4>"
   ]
  },
  {
   "cell_type": "code",
   "execution_count": null,
   "metadata": {},
   "outputs": [],
   "source": [
    "import SimpleITK as sitk\n",
    "\n",
    "import matplotlib.pyplot as plt\n",
    "%matplotlib inline \n",
    "\n",
    "%run update_path_to_download_script\n",
    "from downloaddata import fetch_data as fdata\n",
    "import gui\n",
    "import registration_gui as rgui\n",
    "%matplotlib notebook\n",
    "\n",
    "import numpy as np\n",
    "import os\n",
    "OUTPUT_DIR = 'output'"
   ]
  },
  {
   "cell_type": "code",
   "execution_count": null,
   "metadata": {},
   "outputs": [],
   "source": [
    "# let us read an image and take a closer look at it:\n",
    "\n",
    "# the fixed image, read the file and store it as sitkFloat32\n",
    "fixedImage = sitk.ReadImage('BrainProtonDensitySliceBorder20.png', sitk.sitkFloat32 )\n",
    "# the moving image, read the file and store it as sitkFloat32\n",
    "movingImage = sitk.ReadImage('BrainProtonDensitySliceR10X13Y17.png', sitk.sitkFloat32 )"
   ]
  },
  {
   "cell_type": "code",
   "execution_count": null,
   "metadata": {},
   "outputs": [],
   "source": [
    "# define an utility function to display 2 2D images side-by-side\n",
    "\n",
    "def display_2D_Images( fixed_npa, moving_npa ):\n",
    "    # create a figure with two subplots and the specified size\n",
    "    plt.subplots( 1, 2, figsize=( 10, 8 ) )\n",
    "    \n",
    "    # draw the fixed image in the first (left) subplot\n",
    "    plt.subplot( 1, 2, 1 )\n",
    "    plt.imshow( sitk.GetArrayViewFromImage(fixed_npa), cmap=plt.cm.Greys_r )\n",
    "    plt.title( 'Fixed Image' )\n",
    "    plt.axis( 'off' )\n",
    "    \n",
    "    # draw the moving image in the second (right) subplot\n",
    "    plt.subplot( 1, 2, 2 )\n",
    "    plt.imshow( sitk.GetArrayViewFromImage(moving_npa), cmap=plt.cm.Greys_r )\n",
    "    plt.title( 'Moving Image' )\n",
    "    plt.axis( 'off' )\n",
    "    \n",
    "    plt.show()"
   ]
  },
  {
   "cell_type": "markdown",
   "metadata": {},
   "source": [
    "#### Parameter turning\n",
    "\n",
    "The options you set to each components of the optimization framework determins how well it work. Here, we turn parameters of the optimizer and registration framework that could affect the result.\n",
    "\n",
    "* Metrics\n",
    "  * The type of metric\n",
    "  * Options for each metric. For example, the calculation of mutual information depends on the histogram bin width\n",
    "  * The percentage of pixel/voxels used to compute the metric"
   ]
  },
  {
   "cell_type": "code",
   "execution_count": null,
   "metadata": {},
   "outputs": [],
   "source": [
    "# parameter tuning\n",
    "registration_method = sitk.ImageRegistrationMethod()"
   ]
  },
  {
   "cell_type": "markdown",
   "metadata": {},
   "source": [
    "#### Similarity metric settings,\n",
    "\n",
    "We need to set the number of bins used in computing the joint histogram for the mutual information metric.\n",
    "\n",
    "By default, the metric uses a randomly chosen subset of pixels to speed up the computation. It is possible to choose the size of this subset (and this affects the trade-off between speed and accuracy) but for this example, we will instruct the metric to use all of the pixels."
   ]
  },
  {
   "cell_type": "code",
   "execution_count": null,
   "metadata": {},
   "outputs": [],
   "source": [
    "# Similarity metric settings,\n",
    "registration_method.SetMetricAsMattesMutualInformation(50)\n",
    "registration_method.SetMetricSamplingPercentage(1.0)"
   ]
  },
  {
   "cell_type": "markdown",
   "metadata": {},
   "source": [
    "#### interpolator"
   ]
  },
  {
   "cell_type": "code",
   "execution_count": null,
   "metadata": {},
   "outputs": [],
   "source": [
    "# interpolator\n",
    "registration_method.SetInterpolator( sitk.sitkLinear )"
   ]
  },
  {
   "cell_type": "markdown",
   "metadata": {},
   "source": [
    "#### Optimizer setting\n",
    "\n",
    "These lines of code set the maximum and minimum step lengths of the optimizer.\n",
    "\n",
    "This optimizer will translate the moving image in the x- and y- directions by some amount, in the direction that best optimizes the image similarity metric.  The length of the steps that it takes, in this case, is $4$mm. But what if it overshoots the optimal transformation by taking such a big steps?\n",
    "\n",
    "It detects this situation by noticing that it needs to reverse its direction after the overshoot. When it detects this situation, it cuts its step size in half, to $2$mm. Even at $2$mm, it may overshoot again, requirint yet another change in direction, at which point it will cut its step size in half again, to $1$mm.\n",
    "\n",
    "This process continues with the optimizer oscillating back and forth over the optimal transformation, until eventually the step size becomes out specified minimum of $0.1$mm, at which point the optimizer stops and declares that it has found the answer."
   ]
  },
  {
   "cell_type": "code",
   "execution_count": null,
   "metadata": {},
   "outputs": [],
   "source": [
    "# Optimizer setting\n",
    "maxStep = 4.0\n",
    "minStep = 0.1\n",
    "numberOfIterations = 200\n",
    "relaxationFactor = 0.5\n",
    "registration_method.SetOptimizerAsRegularStepGradientDescent( maxStep, minStep, numberOfIterations, relaxationFactor )"
   ]
  },
  {
   "cell_type": "markdown",
   "metadata": {},
   "source": [
    "We need to tell the optimizer roughly what we expect in terms of the amounts of rotation and translation between the two images. Supposing our guess is around $20$ degrees of rotation (0.35 radians) and $100$mm of translation in both directions, we would indicate that as follows:"
   ]
  },
  {
   "cell_type": "code",
   "execution_count": null,
   "metadata": {},
   "outputs": [],
   "source": [
    "# 1st option relates to rotation\n",
    "registration_method.SetOptimizerScales( [1.0/0.35, 1.0/100.0, 1.0/100.0] )"
   ]
  },
  {
   "cell_type": "markdown",
   "metadata": {},
   "source": [
    "#### Transform\n",
    "\n",
    "Previously we were interesting in translation only. For a rigid-body rotation (Rotation and Translation), we can use Euler2DTransformation (or Euler3DTransformation)"
   ]
  },
  {
   "cell_type": "code",
   "execution_count": null,
   "metadata": {},
   "outputs": [],
   "source": [
    "# transform\n",
    "#initial_transform = sitk.TranslationTransform( fixedImage.GetDimension() )\n",
    "initial_transform = sitk.Euler2DTransform()\n",
    "\n",
    "# We need to tell SimpleITK what point we want to use for the cetner of rotation.\n",
    "# These images have 221 columns (along the x direction) and 257 rows (along the y direction).\n",
    "# We want the center of rotation to be the center of the image.\n",
    "initial_transform.SetCenter( [110.5, 128.5] )"
   ]
  },
  {
   "cell_type": "markdown",
   "metadata": {},
   "source": [
    "#### connect the registration framework to the call backs we defined as to visualize the progress."
   ]
  },
  {
   "cell_type": "code",
   "execution_count": null,
   "metadata": {},
   "outputs": [],
   "source": [
    "# Connect all of the observers so that we can perform plotting during registration.\n",
    "registration_method.AddCommand(sitk.sitkStartEvent, rgui.start_plot)\n",
    "registration_method.AddCommand(sitk.sitkEndEvent, rgui.end_plot)\n",
    "registration_method.AddCommand(sitk.sitkMultiResolutionIterationEvent, rgui.update_multires_iterations) \n",
    "registration_method.AddCommand(sitk.sitkIterationEvent, lambda: rgui.plot_values(registration_method))"
   ]
  },
  {
   "cell_type": "markdown",
   "metadata": {},
   "source": [
    "#### Actions!"
   ]
  },
  {
   "cell_type": "code",
   "execution_count": null,
   "metadata": {},
   "outputs": [],
   "source": [
    "registration_method.SetInitialTransform( initial_transform )\n",
    "\n",
    "final_transform = registration_method.Execute( fixedImage, movingImage )\n",
    "\n",
    "# Always check the reason optimization terminated.\n",
    "print('Final metric value: {0}'.format(registration_method.GetMetricValue()))\n",
    "print('Optimizer\\'s stopping condition, {0}'.format(registration_method.GetOptimizerStopConditionDescription()))"
   ]
  },
  {
   "cell_type": "markdown",
   "metadata": {},
   "source": [
    "#### Visualization\n",
    "\n",
    "We can apply the transform we just computed to the"
   ]
  },
  {
   "cell_type": "code",
   "execution_count": null,
   "metadata": {},
   "outputs": [],
   "source": [
    "moving_resamples = sitk.Resample( movingImage, final_transform, sitk.sitkLinear, 0.0, movingImage.GetPixelID() )\n",
    "display_2D_Images( fixedImage, moving_resamples )"
   ]
  }
 ],
 "metadata": {
  "kernelspec": {
   "display_name": "Python 3",
   "language": "python",
   "name": "python3"
  },
  "language_info": {
   "codemirror_mode": {
    "name": "ipython",
    "version": 3
   },
   "file_extension": ".py",
   "mimetype": "text/x-python",
   "name": "python",
   "nbconvert_exporter": "python",
   "pygments_lexer": "ipython3",
   "version": "3.6.8"
  }
 },
 "nbformat": 4,
 "nbformat_minor": 2
}
