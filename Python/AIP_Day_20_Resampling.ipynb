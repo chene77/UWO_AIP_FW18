{
 "cells": [
  {
   "cell_type": "markdown",
   "metadata": {},
   "source": [
    "<h1 align=\"center\">Advanced Image Processing and Analysis</h1>\n",
    "<h3 align=\"center\">ECE 4438B/ECE 9022/ECE 9202B/BIOMED 9519B/BIOPHYS 9519B/CAMI 9519B</h3>\n",
    "<h4 align=\"center\"><a href=\"mailto:echen29@uwo.ca?subject=Day 20: Interpolation and Resampling\"> Elvis Chen, PhD, LL</a></h4>\n",
    "<h4 align=\"center\">Day 20, March 19, 2019</h4>"
   ]
  },
  {
   "cell_type": "markdown",
   "metadata": {},
   "source": [
    "### Introduction\n",
    "\n",
    "Suppose we want to compute a similarity metric using say, MSE, between the moving imaging and the fixed image under a rigid body transformation. If there is a rotation involved, then in general these two images are not grid-aligned. Similarily, if the two images/volume have different pixel/voxel sizes, we won't be able to find 1-to-1 mapping between pixel/voxels to perform the said computation.\n",
    "\n",
    "The solution is to**resample** one of the image (typically the moving image) such that, after resampling, the resampled image has the same pixel size and same (conceptually) orientation as the other image."
   ]
  },
  {
   "cell_type": "markdown",
   "metadata": {},
   "source": [
    "The resampling is best conceptualized as applying a *resampling grid* to the image. If one is to conceptualize the resampling grid as an empty array, then the tasking as resampling is to fill in the value of the array based on the image of which grid is being placed upon.\n",
    "\n",
    "<img src=\"resampling.svg\"/><br><br>"
   ]
  },
  {
   "cell_type": "markdown",
   "metadata": {},
   "source": [
    "Resampling as the verb is the action of sampling an image, which itself is a sampling of an original continuous signal.\n",
    "\n",
    "Generally speaking, resampling in SimpleITK involves four components:\n",
    "1. Image - the image we resample, given in coordinate system $m$,\n",
    "2. Resampling grid - a regular grid of points given in the coordinate system $f$ which will be mapped to coordinate system $m$,\n",
    "3. Transformation $^{m}T_{f}$ - maps points from coordinate system $f$ to coordinate system $m$, $^{m}p = ^{m}T_{f} (^{f}p)$,\n",
    "4. Interpolator - method for obtaining the intensity values at arbitrary points in coordinate system $m$ from the values of the points defined by the image.\n",
    "\n",
    "While SimpleITK provides a large number of interpolation methods, the two most commonly used are ```sitkLinear``` and ```sitkNearestNeighbor```. The former is used for most interpolation tasks, a compromise between accuracy and computational efficiency. The later is used to interpolate labeled image representing a segmentation, it is the only interpolation approach which will **not** introduce new labels into the results."
   ]
  },
  {
   "cell_type": "markdown",
   "metadata": {},
   "source": [
    "SimpleITK's procedureal API provides three methods for performing resampling, with the difference being the way you specify the resampling grid:\n",
    "\n",
    "1. ```Resample(const Image &image1, Transform transform, InterpolatorEnum interpolator, double defaultPixelValue, PixelIDValueEnum outputPixelType)```\n",
    "2. ```Resample(const Image &image1, const Image &referenceImage, Transform transform, InterpolatorEnum interpolator, double defaultPixelValue, PixelIDValueEnum outputPixelType)```\n",
    "3. ```Resample(const Image &image1, std::vector< uint32_t > size, Transform transform, InterpolatorEnum interpolator, std::vector< double > outputOrigin, std::vector< double > outputSpacing, std::vector< double > outputDirection, double defaultPixelValue, PixelIDValueEnum outputPixelType)```"
   ]
  },
  {
   "cell_type": "code",
   "execution_count": null,
   "metadata": {},
   "outputs": [],
   "source": [
    "import SimpleITK as sitk\n",
    "\n",
    "import numpy as np\n",
    "import os\n",
    "\n",
    "import math\n",
    "from ipywidgets import interact, fixed\n",
    "\n",
    "import matplotlib.pyplot as plt\n",
    "%matplotlib inline\n",
    "\n",
    "%run update_path_to_download_script\n",
    "from downloaddata import fetch_data as fdata\n",
    "\n",
    "OUTPUT_DIR = 'output'"
   ]
  },
  {
   "cell_type": "code",
   "execution_count": null,
   "metadata": {},
   "outputs": [],
   "source": [
    "logo = sitk.ReadImage(fdata('SimpleITK.jpg'))\n",
    "\n",
    "# GetArrayViewFromImage returns an immutable numpy array view to the data.\n",
    "plt.imshow(sitk.GetArrayViewFromImage(logo))\n",
    "plt.axis('off');"
   ]
  },
  {
   "cell_type": "code",
   "execution_count": null,
   "metadata": {},
   "outputs": [],
   "source": [
    "def resample_display(image, euler2d_transform, tx, ty, theta):\n",
    "    euler2d_transform.SetTranslation((tx, ty))\n",
    "    euler2d_transform.SetAngle(theta)\n",
    "    \n",
    "    resampled_image = sitk.Resample(image, euler2d_transform)\n",
    "    plt.imshow(sitk.GetArrayFromImage(resampled_image))\n",
    "    plt.axis('off')    \n",
    "    plt.show()\n",
    "\n",
    "euler2d = sitk.Euler2DTransform()\n",
    "# Why do we set the center?\n",
    "euler2d.SetCenter(logo.TransformContinuousIndexToPhysicalPoint(np.array(logo.GetSize())/2.0))\n",
    "interact(resample_display, image=fixed(logo), euler2d_transform=fixed(euler2d), tx=(-128.0, 128.0,2.5), ty=(-64.0, 64.0), theta=(-np.pi/4.0,np.pi/4.0));"
   ]
  },
  {
   "cell_type": "markdown",
   "metadata": {},
   "source": [
    "### Common Errors\n",
    "\n",
    "It is not uncommon to end up with an empty (all black) image after resampling. This is due to:\n",
    "1. Using wrong settings for the resampling grid, not too common, but does happen.\n",
    "2. Using the inverse of the transformation $T_f^m$. This is a relatively common error, which is readily addressed by invoking the transformations ```GetInverse``` method."
   ]
  },
  {
   "cell_type": "markdown",
   "metadata": {},
   "source": [
    "### Defining the Resampling Grid\n",
    "\n",
    "In the example above we arbitrarily used the original image grid as the resampling grid. As a result, for many of the transformations the resulting image contained black pixels, pixels which were mapped outside the spatial domain of the original image and a partial view of the original image.\n",
    "\n",
    "If we want the resulting image to contain all of the original image no matter the transformation, we will need to define the resampling grid using our knowledge of the original image's spatial domain and the **inverse** of the given transformation. \n",
    "\n",
    "Computing the bounds of the resampling grid when dealing with an affine transformation is straightforward. An affine transformation preserves convexity with extreme points mapped to extreme points. Thus we only need to apply the **inverse** transformation to the corners of the original image to obtain the bounds of the resampling grid.\n",
    "\n",
    "Computing the bounds of the resampling grid when dealing with a BSplineTransform or DisplacementFieldTransform is more involved as we are not guaranteed that extreme points are mapped to extreme points. This requires that we apply the **inverse** transformation to all points in the original image to obtain the bounds of the resampling grid.  "
   ]
  },
  {
   "cell_type": "code",
   "execution_count": null,
   "metadata": {},
   "outputs": [],
   "source": [
    "euler2d = sitk.Euler2DTransform()\n",
    "# Why do we set the center?\n",
    "euler2d.SetCenter(logo.TransformContinuousIndexToPhysicalPoint(np.array(logo.GetSize())/2.0))\n",
    "\n",
    "tx = 64\n",
    "ty = 32\n",
    "euler2d.SetTranslation((tx, ty))\n",
    "\n",
    "extreme_points = [logo.TransformIndexToPhysicalPoint((0,0)), \n",
    "                  logo.TransformIndexToPhysicalPoint((logo.GetWidth(),0)),\n",
    "                  logo.TransformIndexToPhysicalPoint((logo.GetWidth(),logo.GetHeight())),\n",
    "                  logo.TransformIndexToPhysicalPoint((0,logo.GetHeight()))]\n",
    "inv_euler2d = euler2d.GetInverse()\n",
    "\n",
    "extreme_points_transformed = [inv_euler2d.TransformPoint(pnt) for pnt in extreme_points]\n",
    "min_x = min(extreme_points_transformed)[0]\n",
    "min_y = min(extreme_points_transformed, key=lambda p: p[1])[1]\n",
    "max_x = max(extreme_points_transformed)[0]\n",
    "max_y = max(extreme_points_transformed, key=lambda p: p[1])[1]\n",
    "\n",
    "# Use the original spacing (arbitrary decision).\n",
    "output_spacing = logo.GetSpacing()\n",
    "# Identity cosine matrix (arbitrary decision).   \n",
    "output_direction = [1.0, 0.0, 0.0, 1.0]\n",
    "# Minimal x,y coordinates are the new origin.\n",
    "output_origin = [min_x, min_y]\n",
    "# Compute grid size based on the physical size and spacing.\n",
    "output_size = [int((max_x-min_x)/output_spacing[0]), int((max_y-min_y)/output_spacing[1])]\n",
    "\n",
    "resampled_image = sitk.Resample(logo, output_size, euler2d, sitk.sitkLinear, output_origin, output_spacing, output_direction)\n",
    "plt.imshow(sitk.GetArrayViewFromImage(resampled_image))\n",
    "plt.axis('off')    \n",
    "plt.show()"
   ]
  },
  {
   "cell_type": "markdown",
   "metadata": {},
   "source": [
    "Are you puzzled by the result? Is the output just a copy of the input? Add a rotation to the code above and see what happens (```euler2d.SetAngle(0.79)```)."
   ]
  },
  {
   "cell_type": "markdown",
   "metadata": {},
   "source": [
    "### Expand With Interpolators\n",
    "\n",
    "To understand this a bit more, let us look into the Interpolators in detail.\n",
    "\n",
    "There are many different interpolators available in SimpleITK for image resampling.  Their effect is demonstrated on the <a href=\"http://www.cs.cornell.edu/~srm/publications/Vis94-filters-abstract.html\">Marschner-Lobb</a> image."
   ]
  },
  {
   "cell_type": "code",
   "execution_count": null,
   "metadata": {},
   "outputs": [],
   "source": [
    "def marschner_lobb(size=40, alpha=0.25, f_M=6.0):\n",
    "    img = sitk.PhysicalPointSource(sitk.sitkVectorFloat32, [size]*3, [-1]*3, [2.0/size]*3)\n",
    "    imgx = sitk.VectorIndexSelectionCast(img, 0)\n",
    "    imgy = sitk.VectorIndexSelectionCast(img, 1)\n",
    "    imgz = sitk.VectorIndexSelectionCast(img, 2)\n",
    "    del img\n",
    "    r = sitk.Sqrt(imgx**2 + imgy**2)\n",
    "    del imgx, imgy\n",
    "    pr = sitk.Cos((2.0*math.pi*f_M)*sitk.Cos((math.pi/2.0)*r))\n",
    "    return (1.0 - sitk.Sin((math.pi/2.0)*imgz) + alpha*(1.0+pr))/(2.0*(1.0+alpha))"
   ]
  },
  {
   "cell_type": "code",
   "execution_count": null,
   "metadata": {},
   "outputs": [],
   "source": [
    "def myshow(img, title=None, margin=0.05):\n",
    "    \n",
    "    if (img.GetDimension() == 3):\n",
    "        img = sitk.Tile( (img[img.GetSize()[0]//2,:,:],\n",
    "                          img[:,img.GetSize()[1]//2,:],\n",
    "                          img[:,:,img.GetSize()[2]//2]), [2,2])\n",
    "            \n",
    "    \n",
    "    aimg = sitk.GetArrayViewFromImage(img)\n",
    "    \n",
    "    xsize,ysize = aimg.shape\n",
    "\n",
    "    dpi=80\n",
    "    \n",
    "    # Make a figure big enough to accommodate an axis of xpixels by ypixels\n",
    "    # as well as the ticklabels, etc...\n",
    "    figsize = (1+margin)*ysize / dpi, (1+margin)*xsize / dpi\n",
    "\n",
    "    fig = plt.figure(figsize=figsize, dpi=dpi)\n",
    "    # Make the axis the right size...\n",
    "    ax = fig.add_axes([margin, margin, 1 - 2*margin, 1 - 2*margin])\n",
    "    \n",
    "    t = ax.imshow(aimg)\n",
    "    if len(aimg.shape) == 2:\n",
    "        t.set_cmap(\"gray\")\n",
    "    if(title):\n",
    "        plt.title(title)\n",
    "    plt.show()"
   ]
  },
  {
   "cell_type": "code",
   "execution_count": null,
   "metadata": {},
   "outputs": [],
   "source": [
    "myshow(marschner_lobb())\n",
    "myshow(marschner_lobb(100))"
   ]
  },
  {
   "cell_type": "code",
   "execution_count": null,
   "metadata": {},
   "outputs": [],
   "source": [
    "ml = marschner_lobb()\n",
    "ml = ml[:,:,ml.GetSize()[-1]//2]\n",
    "myshow(sitk.Expand(ml, [5]*3, sitk.sitkNearestNeighbor), title=\"nearest neighbor\")\n",
    "myshow(sitk.Expand(ml, [5]*3, sitk.sitkLinear), title=\"linear\")\n",
    "myshow(sitk.Expand(ml, [5]*3, sitk.sitkBSpline), title=\"b-spline\")\n",
    "myshow(sitk.Expand(ml, [5]*3, sitk.sitkGaussian), title=\"Gaussian\")\n",
    "#myshow(sitk.Expand(ml, [5]*3, sitk.sitkHammingWindowedSinc), title=\"Hamming windowed sinc\")\n",
    "#myshow(sitk.Expand(ml, [5]*3, sitk.sitkBlackmanWindowedSinc), title=\"Blackman windowed sinc\")\n",
    "#myshow(sitk.Expand(ml, [5]*3, sitk.sitkCosineWindowedSinc), title=\"Cosine windowed sinc\")\n",
    "#myshow(sitk.Expand(ml, [5]*3, sitk.sitkWelchWindowedSinc), title=\"Welch windowed sinc\")\n",
    "#myshow(sitk.Expand(ml, [5]*3, sitk.sitkLanczosWindowedSinc), title=\"Lanczos windowed sinc\")"
   ]
  }
 ],
 "metadata": {
  "kernelspec": {
   "display_name": "Python 3",
   "language": "python",
   "name": "python3"
  },
  "language_info": {
   "codemirror_mode": {
    "name": "ipython",
    "version": 3
   },
   "file_extension": ".py",
   "mimetype": "text/x-python",
   "name": "python",
   "nbconvert_exporter": "python",
   "pygments_lexer": "ipython3",
   "version": "3.6.8"
  }
 },
 "nbformat": 4,
 "nbformat_minor": 2
}
