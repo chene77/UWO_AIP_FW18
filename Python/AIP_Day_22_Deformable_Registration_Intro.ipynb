{
 "cells": [
  {
   "cell_type": "markdown",
   "metadata": {},
   "source": [
    "<h1 align=\"center\">Advanced Image Processing and Analysis</h1>\n",
    "<h3 align=\"center\">ECE 4438B/ECE 9022/ECE 9202B/BIOMED 9519B/BIOPHYS 9519B/CAMI 9519B</h3>\n",
    "<h4 align=\"center\"><a href=\"mailto:echen29@uwo.ca?subject=Day Day 21: Introduction to non-rigid registration\"> Elvis Chen, PhD, LL</a></h4>\n",
    "<h4 align=\"center\">Day 21, March 25, 2019</h4>"
   ]
  },
  {
   "cell_type": "markdown",
   "metadata": {},
   "source": [
    "## Announcements\n",
    "\n",
    "1. **Final Exam**: April 23rd, Tuesday, 19:00, ACEB 1415"
   ]
  },
  {
   "cell_type": "markdown",
   "metadata": {},
   "source": [
    "### Introduction\n",
    "\n",
    "In this Jupyter Notebook, we will examine the basic concept of non-rigid, i.e. deformable, registration, starting with thin plate spline.\n",
    "\n",
    "But why?"
   ]
  },
  {
   "cell_type": "markdown",
   "metadata": {},
   "source": [
    "#### Rigid registration\n",
    "\n",
    "Rigid registration is valid with:\n",
    "* images for non-deformable objects/organs, such as skull, femur, and other bony structures, or\n",
    "* object/organs exhibiting small deformation\n",
    "  * e.g. quantitative assessment of articular cartilage degeneration or brain tumor size reduction as a result of chemotherapy or growth resulting from disease progression\n",
    "  \n",
    "  \n",
    "<img src=\"tumor_brain.PNG\" style=\"width:800px\"/>"
   ]
  },
  {
   "cell_type": "markdown",
   "metadata": {},
   "source": [
    "#### Is rigid registration always sufficient?\n",
    "\n",
    "**NOT** with organs exhibiting significant deformation\n",
    "\n",
    "e.g. image guided prostate needle biopsy\n",
    "\n",
    "* MRI shows tumor but imaging is not real-time\n",
    "* Ultrasound is real-time, it does not show tumor\n",
    "* Solution: overlay MRI images on ultrasound images\n",
    "\n",
    "<img src=\"prostate_MRI_US.PNG\" style=\"width:800px\"/>"
   ]
  },
  {
   "cell_type": "code",
   "execution_count": null,
   "metadata": {},
   "outputs": [],
   "source": [
    "import SimpleITK as sitk\n",
    "import utilities as util\n",
    "\n",
    "import numpy as np\n",
    "import matplotlib.pyplot as plt\n",
    "%matplotlib inline \n",
    "from ipywidgets import interact, fixed\n",
    "\n",
    "OUTPUT_DIR = \"output\""
   ]
  },
  {
   "cell_type": "code",
   "execution_count": null,
   "metadata": {},
   "outputs": [],
   "source": [
    "img =  sitk.ReadImage('..\\\\data\\\\images\\\\orangutan.jpg')\n",
    "plt.imshow(sitk.GetArrayViewFromImage(img))"
   ]
  },
  {
   "cell_type": "code",
   "execution_count": null,
   "metadata": {},
   "outputs": [],
   "source": [
    "rotation2D = sitk.Euler2DTransform()\n",
    "#rotation2D.SetTranslation((300, 0))\n",
    "rotation2D.SetAngle(np.pi/9)\n",
    "moving_resamples = sitk.Resample( img, rotation2D, sitk.sitkLinear, 0.0, img.GetPixelID() )\n",
    "plt.imshow(sitk.GetArrayViewFromImage(moving_resamples))"
   ]
  },
  {
   "cell_type": "markdown",
   "metadata": {},
   "source": [
    "In rigid registration:\n",
    "* straight line segment remains a straight line with the same length,\n",
    "* planar surface remains planar with the same dimensions,\n",
    "* appropriate for:\n",
    "  * bone registration (femur, tibia, pelvis),\n",
    "  * brain registration (when constrained by skull)"
   ]
  },
  {
   "cell_type": "markdown",
   "metadata": {},
   "source": [
    "#### Affine registration\n",
    "\n",
    "In addition to rotation and translation, we can also include scaling and shearing"
   ]
  },
  {
   "cell_type": "code",
   "execution_count": null,
   "metadata": {},
   "outputs": [],
   "source": [
    "affine2d = sitk.AffineTransform(2)\n",
    "affine2d.Scale([1.5,1.1])\n",
    "\n",
    "moving_resamples = sitk.Resample( img,affine2d, sitk.sitkLinear, 0.0, img.GetPixelID() )\n",
    "plt.imshow(sitk.GetArrayViewFromImage(moving_resamples))\n",
    "\n",
    "# why is it smaller?"
   ]
  },
  {
   "cell_type": "code",
   "execution_count": null,
   "metadata": {},
   "outputs": [],
   "source": [
    "affine2d = sitk.AffineTransform(2)\n",
    "affine2d.Shear( 0, 1, .2)\n",
    "moving_resamples = sitk.Resample( img,affine2d, sitk.sitkLinear, 0.0, img.GetPixelID() )\n",
    "plt.imshow(sitk.GetArrayViewFromImage(moving_resamples))"
   ]
  },
  {
   "cell_type": "markdown",
   "metadata": {},
   "source": [
    "In affine transformation/registration\n",
    "* Straight line segment remains a straight line with different length,\n",
    "* planar surface remains planar with different size,\n",
    "* in addition to rigid motion correction, affine registration involves **scaling** and **shearing** used for:\n",
    "  * correction of acquisition parameters (e.g. voxel size) and CT scannery ganty tilt,\n",
    "  * scale difference in a subject's brain registration"
   ]
  },
  {
   "cell_type": "markdown",
   "metadata": {},
   "source": [
    "### Non-rigid registration\n",
    "\n",
    "Also called deformable registration. In addition to the **global** registration, it also compensates for additional local deformation:\n",
    "\n",
    "* line segment does not remain straight line,\n",
    "* planar surface does not remain planar,\n",
    "* Necessary for:\n",
    "  * tissue deformation evaluation/compensation\n",
    "  * cross-sectional tissue difference and image atlas construction and analysis\n",
    "  \n",
    "  \n",
    "<img src=\"ventricle.PNG\" style=\"width:800px\"/>"
   ]
  },
  {
   "cell_type": "markdown",
   "metadata": {},
   "source": [
    "#### but where does tissue deformation come from?\n",
    "* patient motion, body position, gravity\n",
    "\n",
    "<img src=\"breast.PNG\" style=\"width:800px\"/>"
   ]
  },
  {
   "cell_type": "markdown",
   "metadata": {},
   "source": [
    "* clinical intervention, e.g. surgery and biopsy\n",
    "* changes over time, e.g. growth, shrinkage, or atrophy"
   ]
  },
  {
   "cell_type": "markdown",
   "metadata": {},
   "source": [
    "### Example: Prostate image registration\n",
    "\n",
    "Prostate image registration: intra\\-operative ultrasound is typically acquired using transrectal ultrasound (TRUS):\n",
    "![TRUS](http://prostatecancer911.com/wp-content/uploads/2015/11/TRUS.jpg)\n",
    "* MRI/Ultrasound\n",
    "\n",
    "<img src=\"prostate_MRI_US.PNG\" style=\"width:800px\"/>\n",
    "\n",
    "* Ultrasound/Ultrasound due to differnt pressure\n",
    "<img src=\"prostate_TRUS.PNG\" style=\"width:800px\"/>"
   ]
  },
  {
   "cell_type": "markdown",
   "metadata": {},
   "source": [
    "### Non-rigid registration transformation\n",
    "\n",
    "* Straight line segment does not remain straight,\n",
    "* Planar surface does not remain planar,\n",
    "* More complex than rigid and affine registration transformation,\n",
    "* Large number of parameters required,\n",
    "* In general, any registration technique can be described by 3 components:\n",
    "  1. Methematical transformation that relates the moving image to the fixed image,\n",
    "  2. Registration similarity measure (objective function), e.g. matching points or images similarity measures,\n",
    "    * uses the mathematical transformation,\n",
    "  3. Numerical Optimizer,\n",
    "* The difference between rigid body and non-rigid registration is the *transformation* component."
   ]
  },
  {
   "cell_type": "markdown",
   "metadata": {},
   "source": [
    "#### Transformations are more complex\n",
    "\n",
    "* Rigid transformation only has $6$ Degrees-of-Freedom (DoF): three translations $(x,y,z)$ and three rotations,\n",
    "\n",
    "$\n",
    "T_{rigid} = \\begin{pmatrix} R_{3\\times 3} & t_{3\\times 1}\\\\\n",
    "0 & 1 \\end{pmatrix}\n",
    "$\n",
    "* Non-rigid transformations:\n",
    "  * Similarity: isotropic scaling followed by rotation and translation: $7$-DoF\n",
    "  \n",
    "  \n",
    "$\n",
    "\\begin{eqnarray}\n",
    "T_{scale}(s) & = & \\begin{pmatrix} s & 0 & 0 & 0\\\\\n",
    "0 & s & 0 & 0\\\\\n",
    "0 & 0 & s & 0\\\\\n",
    "0 & 0 & 0 & 1\\end{pmatrix}\\\\\n",
    "T_{similarity}(s,R,t) & = & \\begin{pmatrix} R_{3\\times 3} & t_{3\\times 1}\\\\\n",
    "0 & 1 \\end{pmatrix} \\begin{pmatrix} s & 0 & 0 & 0\\\\\n",
    "0 & s & 0 & 0\\\\\n",
    "0 & 0 & s & 0\\\\\n",
    "0 & 0 & 0 & 1\\end{pmatrix}\n",
    "\\end{eqnarray}\n",
    "$\n",
    "\n",
    "  * Similarity: anisotropic scaling (scaling factors are potentially different in each of the x-, y-, and z-axis): $9$-DoF\n",
    "   \n",
    "$\n",
    "\\begin{eqnarray}\n",
    "T_{scale}(s_x,s_y,s_z) & = & \\begin{pmatrix} s_x & 0 & 0 & 0\\\\\n",
    "0 & s_y & 0 & 0\\\\\n",
    "0 & 0 & s_z & 0\\\\\n",
    "0 & 0 & 0 & 1\\end{pmatrix}\\\\\n",
    "T_{similarity}(s_x,s_y,s_z,R,t) & = & \\begin{pmatrix} R_{3\\times 3} & t_{3\\times 1}\\\\\n",
    "0 & 1 \\end{pmatrix} \\begin{pmatrix} s_x & 0 & 0 & 0\\\\\n",
    "0 & s_y & 0 & 0\\\\\n",
    "0 & 0 & s_z & 0\\\\\n",
    "0 & 0 & 0 & 1\\end{pmatrix}\n",
    "\\end{eqnarray}\n",
    "$\n",
    "\n",
    "  \n",
    "  * Affine: additional shear in each of the x-, y-, and z-axis: $15$-DoF\n",
    "    * A transformation that slants the shape of an object is called the **shear transformation**. In $3$D, we can shear an object along the x-, y-, and z-axis:\n",
    "    \n",
    "$\n",
    "T_{shear} = \\begin{pmatrix} 1 & sh_x^y & sh_x^z & 0 \\\\\n",
    "sh_y^x & 1 & sh_z^z & 0 \\\\\n",
    "sh_z^x & sh_z^y & 1 & 0 \\\\\n",
    "0 & 0 & 0 & 1\n",
    "\\end{pmatrix}\n",
    "$\n",
    "  \n",
    "Up to Affine transformation, we can represent it as a $4\\times 4$ matrix:\n",
    "\n",
    "$\n",
    "\\begin{eqnarray}\n",
    "T_{affine}(x,y,z) = \\begin{bmatrix}x^{'} \\\\y^{'} \\\\z^{'} \\\\1\\end{bmatrix}\n",
    "& = & T_{shear} \\cdot T_{rigid} \\cdot T_{scale} \\cdot \\begin{bmatrix}x \\\\y \\\\z \\\\1\\end{bmatrix}\\\\\n",
    "& = & \\begin{bmatrix} a_{1,1} & a_{1,2} &  a_{1,3} & t_x\\\\\n",
    "a_{2,1} &  a_{2,2} &  a_{2,3} & t_y \\\\ \n",
    "a_{3,1} &  a_{3,2} &  a_{3,3} & t_z \\\\ \n",
    "0 & 0 & 0 & 1 \\end{bmatrix}\n",
    "\\end{eqnarray}\n",
    "$\n",
    "\n",
    "  * Curved: typically Dof: $100$ to $1000$\n",
    "    * **Quadraic** ($30$ DoF)\n",
    "    * RHS terms are $x^2$, $y^2$, $z^2$, $x y$, $y z$, $x z$, $x$, $y$, $z$, $1$ ($10$ terms)\n",
    "    \n",
    "$\n",
    "T(x,y,z) = \\begin{bmatrix}x^{'} \\\\y^{'} \\\\z^{'} \\\\1\\end{bmatrix} = \\begin{bmatrix}\n",
    "r_{0,0}  & \\cdots & r_{0,8} & r_{0,9}\\\\\n",
    "r_{1,0}  & \\cdots & r_{1,8} & r_{1,9}\\\\\n",
    "r_{2,0}  & \\cdots & r_{2,8} & r_{2,9}\\\\\n",
    "0 & \\cdots  & 0 & 1\n",
    "\\end{bmatrix}\n",
    "\\begin{bmatrix}\n",
    "x^2\\\\y^2\\\\ \\vdots \\\\ 1\n",
    "\\end{bmatrix}\n",
    "$"
   ]
  },
  {
   "cell_type": "markdown",
   "metadata": {},
   "source": [
    "* **Cubic** ($60$ DoF)\n",
    "* **4^{th} order** ($105$ DoF)\n",
    "* **5^{th} order** ($168$ DoF)\n",
    "* number of unknown increases rapidly!\n",
    "* **The difference between rigid-body/affine and non-rigid registration is in the transformation component!**"
   ]
  },
  {
   "cell_type": "markdown",
   "metadata": {},
   "source": [
    "### Popular Curved Transformations\n",
    "* Thin-plate splines\n",
    "  * Belong to the set of radial-basis functions\n",
    "* Cubic B-spline\n",
    "  * Belong to the set of B-splines\n",
    "* Both are better than the polynomial transformations\n",
    "  * Polynomial requires too many terms to produces a *well behaved* transformation. \n",
    "  * For a detailed discussion, refer to [**Automated Image Registration: Intersubject Validation of Linear and Nonlinear Models**. *Journal of Computer Assisted Tomography*. 22(1), pp 153-165, 1998](http://vr2pk9sx9w.search.serialssolutions.com/?ctx_ver=Z39.88-2004&ctx_enc=info%3Aofi%2Fenc%3AUTF-8&rfr_id=info%3Asid%2Fsummon.serialssolutions.com&rft_val_fmt=info%3Aofi%2Ffmt%3Akev%3Amtx%3Ajournal&rft.genre=article&rft.atitle=Automated+image+registration%3A+II.+Intersubject+validation+of+linear+and+nonlinear+models&rft.jtitle=Journal+of+Computer+Assisted+Tomography&rft.au=Woods%2C+Roger+P&rft.au=Grafton%2C+Scott+T&rft.au=Watson%2C+John+D.+G&rft.au=Sicotte%2C+Nancy+L&rft.date=1998&rft.issn=0363-8715&rft.eissn=1532-3145&rft.volume=22&rft.issue=1&rft.spage=153&rft.epage=165&rft_id=info:doi/10.1097%2F00004728-199801000-00028&rft.externalDBID=n%2Fa&rft.externalDocID=28087338&paramdict=en-UK)."
   ]
  },
  {
   "cell_type": "markdown",
   "metadata": {},
   "source": [
    "### Non-Rigid Transformation using Thin-Plate Spline (TPS)\n",
    "\n",
    "\n",
    "<img src=\"nonRigid.PNG\" style=\"width:400px\"/>\n",
    "\n",
    "Image **A** and Image **B** are the original (rectangular) image. After a non-rigid transformation, B will be deformed. Note that in the non-rigid transformation, the *T* we compute goes from the transformed image back to the untransformed image. We do this because it is difficult to find the inverse of deformable transformations."
   ]
  },
  {
   "cell_type": "markdown",
   "metadata": {},
   "source": [
    "### Transformation with matching points using basis functions\n",
    "\n",
    "Generally speaking, we want to displace an image on a pixel-by-pixel basis:\n",
    "\n",
    "$\n",
    "T:(x,y,z) \\longrightarrow (x',y',z')\n",
    "$\n",
    "\n",
    "$\n",
    "(x',y',z') = T(x,y,z) = (x,y,z) + u(x,y,z)\n",
    "$\n",
    "<img src=\"deform.PNG\" style=\"width:800px\"/>"
   ]
  },
  {
   "cell_type": "markdown",
   "metadata": {},
   "source": [
    "Instead of using a polynomial, use linear combination of (orthogonal) basis functions, $\\theta_{i}$ \n",
    "\n",
    "$\n",
    "T(x,y,z) = \\begin{bmatrix}x^{'} \\\\y^{'} \\\\z^{'} \\\\1\\end{bmatrix} = \\begin{bmatrix}\n",
    "r_{0,0}  & \\cdots & r_{0,n}\\\\\n",
    "r_{1,0}  & \\cdots & r_{1,n}\\\\\n",
    "r_{2,0}  & \\cdots & r_{2,n}\\\\\n",
    "0 & \\cdots  &  1\n",
    "\\end{bmatrix}\n",
    "\\begin{bmatrix}\n",
    "\\theta_{1}(x,y,z)\\\\ \\vdots \\\\ \\theta_{n}(x,y,z)\\\\  1\n",
    "\\end{bmatrix}\n",
    "$\n",
    "\n",
    "In general, we can achieve same level of accuracy using smaller number of coificients $(r_{i,j})$\n",
    "\n",
    "* Basis functions:\n",
    "  * Trigonometric basis functions (spectral representation of deformation),\n",
    "  * wavelet basis\n",
    "  * see [Ashburner and Friston, Human Brain Mapping, 1999](http://www.fil.ion.ucl.ac.uk/spm/doc/papers/john_nonlinear.pdf)."
   ]
  },
  {
   "cell_type": "markdown",
   "metadata": {},
   "source": [
    "### Splines Transformation -- Overview\n",
    "\n",
    "Spline transformation is popular for deformable image registration, often used in entertainment industry\n",
    "\n",
    "[![test](man2ape.PNG)](https://www.youtube.com/watch?v=4NU9ikjqjC0&t=3s)"
   ]
  },
  {
   "cell_type": "markdown",
   "metadata": {},
   "source": [
    "In medical imaging, it is also used to registration time-series of deformable organs, such as beating heart in MRI, or prostate under different pressure (TRUS or MRI):\n",
    "\n",
    "<img src=\"prostate_deformed_grid.PNG\" style=\"width:800px\"/>\n",
    "[Interactive Deformation Registration of Endorectal Prostate MRI Using ITK Thin Plate Splines](http://www.academicradiology.org/article/S1076-6332%2808%2900569-2/pdf)"
   ]
  },
  {
   "cell_type": "markdown",
   "metadata": {},
   "source": [
    "### Registration Using splines:\n",
    "\n",
    "In engineering splines refer to long flexible strips of wood or metal used as templates to form the surface of ships and aircrafts:\n",
    "\n",
    "<img src=\"splines_woods.PNG\" style=\"width:800px\"/>"
   ]
  },
  {
   "cell_type": "markdown",
   "metadata": {},
   "source": [
    "#### Mathematical splines\n",
    "\n",
    "Using mathematical splines, similar concept can be used to model shapes and deformation:\n",
    "* in mathematics, splines provide a tool used to approximate or interpolate functions from *scattered data*,\n",
    "* some spline functions are based on mechanics (e.g. bending)\n",
    "\n",
    "<img src=\"splines_bending.png\" style=\"width:800px\"/>\n",
    "* In this figure, stick elasticity implies *infinite* displacement support. That is, each data point influences all other points in the domain, including vary far points.\n",
    "<img src = \"squre2sphere.PNG\" style=\"width:800px\"/>"
   ]
  },
  {
   "cell_type": "markdown",
   "metadata": {},
   "source": [
    "#### Splines in non-rigid image registration\n",
    " \n",
    "Non-rigid image registration using spline is a **point-based** registration:\n",
    "* Two corresponding sets of points are needed in the two images,\n",
    "* Align points in the sets; other opints (pixels) follow according to the spline transformation function.\n",
    " \n",
    "**How it works**\n",
    "* Identify a set of point $\\Phi_{i}$ in the moving image **A**,\n",
    "* Identify corresponding set of poing $\\Phi_{i}^{'}$ in the fixed image **B**,\n",
    "* Find a spline transformation **T** that\n",
    "  * Provides matching at point $\\Phi_{i}$ and $\\Phi_{i}^{'}$\n",
    "   \n",
    "   $\n",
    "   T(\\Phi_{i}) = \\Phi_{i}^{'}, \n",
    "   $\n",
    "   for $i = 1, \\cdots, n$\n",
    "  * Interpolates the displacement field such that it\n",
    "    * produces a smoothly varying displacement field between the points and within the image domain\n",
    "* Set of points are either\n",
    "  * Anatomical or geometrical landmarks"
   ]
  },
  {
   "cell_type": "markdown",
   "metadata": {},
   "source": [
    "## Thin Plate Spline (TPS) Transformation\n",
    "\n",
    "**Concept**: Most appropriate non-rigid transformation is often the one that matches the landmarks *exactly*, and deforms the rest of the space as little as possible (which leads to smooth deformation)\n",
    "\n",
    "**Plate Bending Analogy**\n",
    "\n",
    "The name *thin plate spline* refer to a physical anatogy involving the bending of a thin sheet of metal. Just as the metal has rigidty, the TPS fit resists bending also, implying a penalty involving the smoothness of the fitted surface. \n",
    "\n",
    "![test](http://profs.etsmtl.ca/hlombaert/thinplates/thinplates.png)\n",
    "image courtesy of Jarno Elonen demo,\n",
    "\n",
    "In the picture above, we can conceptualize bending a thin metal plate by a set of control points (7, red spheres). The thin plate intersect these control points **exactly**, and interpolates everything smoothly.\n",
    "\n",
    "We thus require a mathematical definition of bending energy: borrowing from solid mechanics, the *squared norm of the displacements (w) second derivatives* is a good measure of the bending energy:\n",
    "\n",
    "$\n",
    "E_b = \\iint_{R^2}((\\frac{\\partial^2 z}{\\partial x^2})^2 + (\\frac{\\partial^2 z}{\\partial x \\partial y})^2 + (\\frac{\\partial^2 z}{\\partial y^2})^2) dx dy\n",
    "$"
   ]
  },
  {
   "cell_type": "markdown",
   "metadata": {},
   "source": [
    "That is, in the physical setting, the deflection is in the $z$ direction, orthogonal to the plane. In order to apply this idea to the problem of image transformation, one interprets the lifting of the plate as a displacement of the $x$ or $y$ coordinates within the plane. \n",
    "\n",
    "Minimizing this energy leads to the know biharmonic equation (where $w$ is the deflection):\n",
    "\n",
    "$\n",
    "\\Delta^2 w = (\\frac{\\partial^2}{\\partial x^2} + \\frac{\\partial^2}{\\partial y^2})^2 w = f(x,y)\n",
    "$\n",
    "\n",
    "For a single prescribed deflection, the following function satisfies the above equation:\n",
    "\n",
    "$\n",
    "w(x,y) = -r^2 \\log (r^2), r = \\sqrt{x^2+y^2}\n",
    "$"
   ]
  },
  {
   "cell_type": "markdown",
   "metadata": {},
   "source": [
    "This is what it looks like in 3D:\n",
    "<img src=\"rlogr.png\" style=\"width:600px\"/>\n",
    "\n",
    "Note that:\n",
    "* $w=0$ at the center of the circle,\n",
    "* $w=0$ at $r=1$,\n",
    "* $w$ increases $0 < r < \\frac{1}{\\sqrt{e}} (~0.607)$\n",
    "* with $r > \\frac{1}{\\sqrt{e}}$, $w$ decreases\n",
    "* $w \\rightarrow -\\inf$ when $r \\rightarrow \\inf$"
   ]
  },
  {
   "cell_type": "markdown",
   "metadata": {},
   "source": [
    "Here is what it looks like in 2D"
   ]
  },
  {
   "cell_type": "code",
   "execution_count": null,
   "metadata": {},
   "outputs": [],
   "source": [
    "x = np.linspace(0,2,1000)\n",
    "y = np.zeros(1000)\n",
    "for i in range(2,1000):\n",
    "    y[i] = -1.0*x[i]*x[i]*np.log(x[i]*x[i])\n",
    "    \n",
    "plt.plot(x,y)"
   ]
  },
  {
   "cell_type": "markdown",
   "metadata": {},
   "source": [
    "### TPS Formulation\n",
    "\n",
    "Solution of the biharmonic equation for a plate undergoing a number of known deflections $(w)$ at specified points (landmarks)\n",
    "* use Superposition principle\n",
    "\n",
    "$\n",
    "w(x,y) = \\sum_{j} w_j r_j^2 \\log (r_j^2)\n",
    "$\n",
    "\n",
    "where $w_j$ is the *weight* of the basis function contributed by a landmark $j$.\n",
    "* Model each displacement component of a landmark in the image using the above!\n",
    "\n",
    "<img src = \"squre2sphere.PNG\" style=\"width:600px\"/>\n",
    "\n",
    "<img src = \"displacementHtoV.PNG\" style=\"width:600px\"/>"
   ]
  },
  {
   "cell_type": "markdown",
   "metadata": {},
   "source": [
    "The least bent surface is given by the following equation:\n",
    "\n",
    "$\n",
    "T(x,y) = a_1 + a_2 x + a_3 y + \\sum_{j=1}^n w_{j} U(| P_j - (x,y) |)\n",
    "$\n",
    "\n",
    "where $P_j$ denotes the $j^{th}$ landmark, $w_i$ is the weight of the basis function $U$ for $j^{th}$ landmark, and $\\ P_j-(x,y) |$ is the distance between the $j^{th}$ landmark (control point) and a position $(x,y)$.\n",
    "\n",
    "$U$ is the a function based on the distance. In the $2$D case, \n",
    "\n",
    "$\n",
    "\\begin{eqnarray}\n",
    "U(r) & = & r^2 \\log(r^2)\\\\\n",
    "r^2 & = & x^2 + y^2\n",
    "\\end{eqnarray}\n",
    "$"
   ]
  },
  {
   "cell_type": "markdown",
   "metadata": {},
   "source": [
    "#### Affine Transformation component\n",
    "\n",
    "It should be noted that the first three term of the TPS transformation\n",
    "\n",
    "$\n",
    "a_i + a_2 x + a_3 y\n",
    "$\n",
    "\n",
    "is actually an affine transformation. It specifies how **globally** the image is transformed. In other word, the coefficient $a_1$ corresponds to the *translational* component of the affine transformation, where as $a_2$ and $2_3$ corresponds to the scaling, rotation, and shear component of the affine transformation. This will become clear once we see an actual example."
   ]
  },
  {
   "cell_type": "markdown",
   "metadata": {},
   "source": [
    "#### Deformable Transformation (TPS) component\n",
    "\n",
    "The summation part of the TPS transformation corresponds to the **local** deformation as a linear combination of some distance function of the control point.\n",
    "\n",
    "*Question*: what happends when $(x_j,y_j) = (x,y)$?"
   ]
  },
  {
   "cell_type": "markdown",
   "metadata": {},
   "source": [
    "#### Can be extended to 3D\n",
    "\n",
    "TPS formulation can be extended to $3$D\n",
    "\n",
    "$\n",
    "T(x,y,z) = a_1 + a_2 x + a_3 y + a_4 z + \\sum_{j+1}^n w_j U(| (x_j,y_j,z_j) - (x,y,z) |)\n",
    "$\n",
    "\n",
    "where\n",
    "\n",
    "$\n",
    "U(r) =\n",
    "\\begin{cases}\n",
    "r^2 \\log(r^2) & \\quad \\text{in 2D}\\\\\n",
    "|r|  & \\quad \\text{or}\\\\\n",
    "|r|^3  & \\quad \\text{in 3D}\\\\\n",
    "\\end{cases}\n",
    "$"
   ]
  },
  {
   "cell_type": "markdown",
   "metadata": {},
   "source": [
    "#### TPS Formulation\n",
    "\n",
    "* This is a smooth function that can be used for interpolation,\n",
    "* In $2$D transformation between two images it can be defined by $2$ separate thin-plate spline transformations ($2$ displacement components):\n",
    "\n",
    "$\n",
    "\\begin{eqnarray}\n",
    "T(x,y) & = & \\begin{pmatrix}t_1(x,y)\\\\t_2(x,y)\\end{pmatrix}\\\\\n",
    "t_1 & = & x' = a_{1,1} + a_{2,1} x + a_{3,1} y + \\sum_{j=1}^n w_{j,1} U(|(x_j,y_j,z_j)-(x,y,z)|)\\\\\n",
    "t_2 & = & y' = a_{1,2} + a_{2,2} x + a_{3,2} y + \\sum_{j=1}^n w_{j,2} U(|(x_j,y_j,z_j)-(x,y,z)|)\\\\\n",
    "\\end{eqnarray}\n",
    "$\n",
    "\n",
    "* In $3$D transformation between two volumes it can be defined by $3$ separate thin-plate spline transformations ($3$ displacement components):\n",
    "\n",
    "$\n",
    "\\begin{eqnarray}\n",
    "T(x,y,z) & = & \\begin{pmatrix}t_1(x,y,z)\\\\t_2(x,y,z)\\\\t_3(x,y,z)\\end{pmatrix}\\\\\n",
    "t_1 & = & x' = a_{1,1} + a_{2,1} x + a_{3,1} y + a_{4,1} z + \\sum_{j=1}^n w_{j,1} U(|(x_j,y_j,z_j)-(x,y,z)|)\\\\\n",
    "t_2 & = & y' = a_{1,2} + a_{2,2} x + a_{3,2} y + a_{4,2} z + \\sum_{j=1}^n w_{j,2} U(|(x_j,y_j,z_j)-(x,y,z)|)\\\\\n",
    "t_3 & = & z' = a_{1,3} + a_{2,3} x + a_{3,3} y + a_{4,3} z + \\sum_{j=1}^n w_{j,3} U(|(x_j,y_j,z_j)-(x,y,z)|)\\\\\n",
    "\\end{eqnarray}\n",
    "$"
   ]
  },
  {
   "cell_type": "markdown",
   "metadata": {},
   "source": [
    "* Coefficients $a$ characterize the affine part of the transformation\n",
    "* Coefficients $w$ characterizes the non-affine (deformable-spline) part of the transformation\n",
    "* **NEED MORE CONSTRAINTS!!!** For $n$ matching points\n",
    "  * (in $2$D) there are $2 n + 6$ coefficients to be identified with only $2 n$ transformation equations\n",
    "  * (in $3$D) there are $3 n + 12$ coefficients to be identified with only $3 n$ transformation equations"
   ]
  },
  {
   "cell_type": "markdown",
   "metadata": {},
   "source": [
    "* (in $2$D) $6$ more equations are required to obtain a unique solution,\n",
    "* (in $3$D) $12$ more equations are required to obtain a unique solution,\n",
    "* Add 6/12 equations that guarantee:\n",
    "  * non-affine coefficients $w$ sum to zero\n",
    "  \n",
    "  $\n",
    "  \\sum w_j = 0\n",
    "  $\n",
    "  \n",
    "  ($2$ equations in $2$D, $3$ equations in $3$D)\n",
    "  * their cross-products with $x$, $y$, and $z$ coordinates of the control points sum to zero:\n",
    "  \n",
    "  $\n",
    "  \\begin{eqnarray}\n",
    "  \\sum w_j x_j & = & 0\\\\\n",
    "  \\sum w_j y_j & = & 0\\\\\n",
    "  \\sum w_j z_j & = & 0\\\\\n",
    "  \\end{eqnarray}\n",
    "  $\n",
    "  \n",
    "  ($4$ equations in $2$D, $9$ equations in $3$D)"
   ]
  },
  {
   "cell_type": "markdown",
   "metadata": {},
   "source": [
    "#### TPS Implementation\n",
    "\n",
    "Refer to the paper by Fred L. Bookstein\n",
    "\n",
    "Principal Warps: Thin-Plate Splines and the Decomposition of Deformations\n",
    "\n",
    "IEEE Transactions on Pattern Analysis and Machine Intelligence 11(6), pp 567, 1989\n",
    "\n",
    "Algorithm in $2$D:\n",
    "* First, form two matrices $K$, $P$, and $V$  as follows:\n",
    "\n",
    "$\n",
    "\\begin{eqnarray}\n",
    "K & = &\\begin{bmatrix} 0 & U(r_{1,2}) & \\cdots & U(r_{1,n}) \\\\\n",
    "U(r_{2,1}) & 0 & \\cdots & U(r_{2,n}) \\\\\n",
    "\\cdots & \\cdots & \\cdots & \\cdots \\\\\n",
    "U(r_{n,1}) & U(r_{n,2}) & \\cdots & 0 \\\\\n",
    "\\end{bmatrix}_{n \\times n}\\\\\n",
    "P & = & \\begin{bmatrix}\n",
    "1 & x_1 & y_1\\\\\n",
    "1 & x_2 & y_2\\\\\n",
    "\\cdots & \\cdots & \\cdots \\\\\n",
    "1 & x_n & y_n\\\\\n",
    "\\end{bmatrix}_{n \\times 3} \\\\\n",
    "V & = & \\begin{bmatrix}\n",
    "1 & x^{'}_1 & y^{'}_1\\\\\n",
    "1 & x^{'}_2 & y^{'}_2\\\\\n",
    "\\cdots & \\cdots & \\cdots \\\\\n",
    "1 & x^{'}_n & y^{'}_n\\\\\n",
    "\\end{bmatrix}_{n \\times 3} \\\\\n",
    "\\end{eqnarray}\n",
    "$\n",
    "\n",
    "where $r_{i,j} = |(x_i,y_i)-(x_j,y_j)|$. $P$ is the set of landmarks in image **A**, and $V$ is the corresponding set of landmarks in image **B**."
   ]
  },
  {
   "cell_type": "markdown",
   "metadata": {},
   "source": [
    "* Second, construct another matrix $L$ based on $K$ and $P$:\n",
    "\n",
    "$\n",
    "L = \\left[\n",
    "\\begin{array}{c|c}\n",
    "K & P\\\\\n",
    "\\hline\n",
    "P^{T} & 0\n",
    "\\end{array}\n",
    "\\right]\n",
    "$"
   ]
  },
  {
   "cell_type": "markdown",
   "metadata": {},
   "source": [
    "* Third, form the following equations:\n",
    "    \n",
    "$\n",
    "\\left[\n",
    "\\begin{array}{c|c}\n",
    "K & P\\\\\n",
    "\\hline\n",
    "P^{T} & 0\n",
    "\\end{array}\n",
    "\\right] \n",
    "\\left[ \n",
    "\\begin{array}{c}\n",
    "b \\\\\n",
    "\\hline\n",
    "a\\end{array}\n",
    "\\right] = \n",
    "\\left[\n",
    "\\begin{array}{c}\n",
    "V\\\\\n",
    "\\hline\n",
    "0\n",
    "\\end{array}\n",
    "\\right]\n",
    "$\n",
    "\n",
    "\n",
    "In $2$D:\n",
    "* $a$ is a $3 \\times 2$ matrix ($1^{st}$ column for x-dir, $2^{nd}$ for y-dir)\n",
    "* $b$ is a $n \\times 2$ matrix ($1^{st}$ column for x-dir, $2^{nd}$ for y-dir)"
   ]
  },
  {
   "cell_type": "markdown",
   "metadata": {},
   "source": [
    "#### Solve for $a$ and $b$\n",
    "\n",
    "$ \n",
    "\\left[ \n",
    "\\begin{array}{c}\n",
    "b \\\\\n",
    "a\\end{array}\n",
    "\\right] =  \n",
    "\\left[\n",
    "\\begin{array}{cc}\n",
    "K & P\\\\\n",
    "P^{T} & 0\n",
    "\\end{array}\n",
    "\\right]^{-1}  \n",
    "\\left[\n",
    "\\begin{array}{c}\n",
    "V\\\\\n",
    "0\n",
    "\\end{array}\n",
    "\\right]\n",
    "$"
   ]
  },
  {
   "cell_type": "markdown",
   "metadata": {},
   "source": [
    "#### 2D Example\n",
    "\n",
    "Suppose we have $2$ $2$D images with $4$ control points:\n",
    "\n",
    "<img src = \"TPS_2D_example.PNG\" style=\"width:600px\"/>"
   ]
  },
  {
   "cell_type": "markdown",
   "metadata": {},
   "source": [
    "Define the folowing:\n",
    "\n",
    "$\n",
    "\\begin{eqnarray}\n",
    "P_1 & = & \\begin{bmatrix}0\\\\1\\end{bmatrix}\\\\\n",
    "P_2 & = & \\begin{bmatrix}-1\\\\0\\end{bmatrix}\\\\\n",
    "P_3 & = & \\begin{bmatrix}0\\\\-1\\end{bmatrix}\\\\\n",
    "P_4 & = & \\begin{bmatrix}1\\\\0\\end{bmatrix}\\\\\n",
    "\\end{eqnarray}\n",
    "$\n",
    "\n",
    "which means\n",
    "\n",
    "$\n",
    "\\begin{eqnarray}\n",
    "P & = & \\begin{bmatrix}1 & 0 & 1 \\\\\n",
    "1 & -1 & 0 \\\\\n",
    "1 & 0 & -1 \\\\\n",
    "1 & 1 & 0\\end{bmatrix}\n",
    "\\end{eqnarray}\n",
    "$\n",
    "\n",
    "Given the correspondence, we can define\n",
    "\n",
    "$\n",
    "\\begin{eqnarray}\n",
    "V & = & \\begin{bmatrix} 0 & 0.75 \\\\\n",
    " -1 & 0.25 \\\\\n",
    " 0 & -1.25 \\\\\n",
    " 1 & 0.25\\end{bmatrix}\n",
    "\\end{eqnarray}\n",
    "$"
   ]
  },
  {
   "cell_type": "markdown",
   "metadata": {},
   "source": [
    "To construct $K$, note that we are only dealing with 2 distances:\n",
    "\n",
    "$\n",
    "\\begin{eqnarray}\n",
    "U(r_{1,2}) & = & U(\\sqrt{2}) = 2 log(2) = 1.3863\\\\\n",
    "U(r_{2,3}) & = & U(\\sqrt{4}) = 4 log(4) = 5.5452\\\\\n",
    "\\end{eqnarray}\n",
    "$\n",
    "\n",
    "and\n",
    "\n",
    "$\n",
    "K = \\begin{bmatrix}\n",
    "0 & 1.3863 & 5.5452& 1.3863\\\\\n",
    "1.3863 & 0 & 1.3863 & 5.5452 \\\\\n",
    "5.5452 & 1.3863 & 0 & 1.3863\\\\\n",
    "1.3863 & 5.5452 & 1.3863 & 0\n",
    "\\end{bmatrix}\n",
    "$"
   ]
  },
  {
   "cell_type": "markdown",
   "metadata": {},
   "source": [
    "We can now construct $L$ using $K$ and $P$:\n",
    "\n",
    "$\n",
    "L = \\left[\n",
    "\\begin{array}{cccc|ccc}\n",
    "0 & 1.3863 & 5.5452& 1.3863 & 1 & 0 & 1\\\\\n",
    "1.3863 & 0 & 1.3863 & 5.5452 & 1 &-1 & 0\\\\\n",
    "5.5452 & 1.3863 & 0 & 1.3863 & 1 & 0 & -1\\\\\n",
    "1.3863 & 5.5452 & 1.3863 & 0 & 1 & 1 &0\\\\\n",
    "\\hline\n",
    "1 & 1 & 1 & 1 & 0 & 0 & 0 \\\\\n",
    "0 & -1 & 0 & 1 & 0 &0 & 0\\\\\n",
    "1 & 0 & -1 & 0 & 0 & 0 & 0\n",
    "\\end{array}\n",
    "\\right]\n",
    "$"
   ]
  },
  {
   "cell_type": "markdown",
   "metadata": {},
   "source": [
    "#### Solving for the coefficients\n",
    "\n",
    "$\n",
    "\\left[\n",
    "\\begin{array}{c}\n",
    "b \\\\\n",
    "\\hline\n",
    "a\n",
    "\\end{array}\n",
    "\\right] = L^{-1} \n",
    "\\left[\n",
    "\\begin{array}{c}\n",
    "V \\\\\n",
    "\\hline\n",
    "0\n",
    "\\end{array}\n",
    "\\right] =\n",
    "\\left[\n",
    "\\begin{array}{cc}         \n",
    "0&   -0.0902\\\\\n",
    "         0  &  0.0902\\\\\n",
    "         0  & -0.0902\\\\\n",
    "         0  &  0.0902\\\\\n",
    "         \\hline\n",
    "         0  &       0\\\\\n",
    "    1.0   &      0\\\\\n",
    "         0   & 1.0\\\\\n",
    "\\end{array}\n",
    "\\right]\n",
    "$\n",
    "\n",
    "The first column of the coefficients specify the formula for the $x$-coordinate of the image of $(x,y)$, the second column, those for the $y$-coordinate."
   ]
  },
  {
   "cell_type": "markdown",
   "metadata": {},
   "source": [
    "#### Transformed Image Construction\n",
    "\n",
    "Once $a$ and $b$ parameters are computed, the new position of each pixel $(x,y)$ in the moving image can be determined using:\n",
    "\n",
    "(in $2$D)\n",
    "\n",
    "$\n",
    "\\begin{eqnarray}\n",
    "x' & = & a_{1,1} + a_{2,1} x + a_{3,1} y + \\sum_{j=1}^n w_{j,1} U(|(x_j,y_j,z_j)-(x,y,z)|)\\\\\n",
    "y' & = & a_{1,2} + a_{2,2} x + a_{3,2} y + \\sum_{j=1}^n w_{j,2} U(|(x_j,y_j,z_j)-(x,y,z)|)\\\\\n",
    "\\end{eqnarray}\n",
    "$\n",
    "\n",
    "(in $3$D)\n",
    "\n",
    "$\n",
    "\\begin{eqnarray}\n",
    "x' & = & a_{1,1} + a_{2,1} x + a_{3,1} y + a_{4,1} z + \\sum_{j=1}^n w_{j,1} U(|(x_j,y_j,z_j)-(x,y,z)|)\\\\\n",
    "y' & = & a_{1,2} + a_{2,2} x + a_{3,2} y + a_{4,2} z + \\sum_{j=1}^n w_{j,2} U(|(x_j,y_j,z_j)-(x,y,z)|)\\\\\n",
    "z' & = & a_{1,3} + a_{2,3} x + a_{3,3} y + a_{4,3} z + \\sum_{j=1}^n w_{j,3} U(|(x_j,y_j,z_j)-(x,y,z)|)\\\\\n",
    "\\end{eqnarray}\n",
    "$"
   ]
  },
  {
   "cell_type": "markdown",
   "metadata": {},
   "source": [
    "To obtain image intensity values on the new image grid points, [scattered-data interpolation will be required](https://www.mathworks.com/help/matlab/math/interpolating-scattered-data.html)."
   ]
  },
  {
   "cell_type": "markdown",
   "metadata": {},
   "source": [
    "## Fun examples with TPS Registration\n",
    "\n",
    "<img src = \"Hawkes2baboon.PNG\" style=\"width:800px\"/>\n",
    "\n",
    "This is David Hawkes from University College London, UK. "
   ]
  },
  {
   "cell_type": "markdown",
   "metadata": {},
   "source": [
    "While ITK has an implementation of the [thin plate spline transformation](https://itk.org/Doxygen/html/classitk_1_1ThinPlateSplineKernelTransform.html), SimpleITK has not wrapped this particular function into its Python Interface.  If you are interesting in using ITK directly and am comfortable with C++, you can take a look at an example code in C++ [here](https://itk.org/Doxygen/html/Examples_2RegistrationITKv4_2ThinPlateSplineWarp_8cxx-example.html)."
   ]
  },
  {
   "cell_type": "markdown",
   "metadata": {},
   "source": [
    "To give you a taste of what TPS can do, we will use an open-source software called [Slicer](https://www.slicer.org/). Python codes is presented below.\n",
    "\n",
    "First, go to [3DSlicer **download** website](https://download.slicer.org/):\n",
    "* Download the stable release of the 3DSlicer appropriate for your operating system,\n",
    "* Install and execute it:\n",
    "\n",
    "<img src = \"3DSlicer.PNG\" style=\"width:800px\"/>"
   ]
  },
  {
   "cell_type": "markdown",
   "metadata": {},
   "source": [
    "* Enable the [python interface](https://www.slicer.org/wiki/Documentation/Nightly/Developers/Python_scripting)\n",
    "  * Control-3 on windows/linux, Command-3 on mac\n",
    "  \n",
    "<img src = \"3DSlicer_Python.PNG\" style=\"width:800px\"/>"
   ]
  },
  {
   "cell_type": "markdown",
   "metadata": {},
   "source": [
    "Below are the python code segments to initialize the image processing pipeline within the 3DSlicer framework.\n",
    "\n",
    "A *renderer* is the class that *draws* on the screen.\n",
    "\n",
    "We will read a [jpeg image](https://www.vtk.org/doc/nightly/html/classvtkJPEGReader.html) file:\n",
    "* Other common image reader filters include:\n",
    "  * [BMP](https://www.vtk.org/doc/nightly/html/classvtkBMPReader.html),\n",
    "  * [TIFF](https://www.vtk.org/doc/nightly/html/classvtkTIFFReader.html),\n",
    "  * [PNG](https://www.vtk.org/doc/nightly/html/classvtkPNGReader.html)"
   ]
  },
  {
   "cell_type": "markdown",
   "metadata": {},
   "source": [
    "```python\n",
    "renderer = slicer.app.layoutManager().threeDWidget(0).threeDView().renderWindow().GetRenderers().GetFirstRenderer()\n",
    "reader = vtk.vtkJPEGReader()\n",
    "reader.SetFileName('C:\\\\Users\\\\chene\\\\Downloads\\\\temp\\\\AIP_W18_Notebooks\\\\data\\\\images\\\\monkey.jpg')\n",
    "reader.Update()\n",
    "```"
   ]
  },
  {
   "cell_type": "markdown",
   "metadata": {},
   "source": [
    "The image we read has a pixel count of $800\\times 600$. We will use this information to create an evenly-spaced grid for visualization:"
   ]
  },
  {
   "cell_type": "markdown",
   "metadata": {},
   "source": [
    "```python\n",
    "imageGrid = vtk.vtkImageGridSource()\n",
    "imageGrid.SetGridSpacing(50,50,0)                 # create a grid of 50x50 pixels\n",
    "imageGrid.SetGridOrigin(0,0,0)\n",
    "imageGrid.SetDataExtent(0,800,0,600,0,0)          # the size of our image, in pixels\n",
    "imageGrid.SetDataScalarTypeToUnsignedChar()\n",
    "```"
   ]
  },
  {
   "cell_type": "markdown",
   "metadata": {},
   "source": [
    "Blend the grid with the image:"
   ]
  },
  {
   "cell_type": "markdown",
   "metadata": {},
   "source": [
    "```python\n",
    "table = vtk.vtkLookupTable()\n",
    "table.SetTableRange(0,1)\n",
    "table.SetAlphaRange(0,1)\n",
    "table.SetHueRange(.15,.15)\n",
    "table.SetSaturationRange(1,1)\n",
    "table.SetValueRange(0,1)\n",
    "table.Build()\n",
    "\n",
    "alpha = vtk.vtkImageMapToColors()\n",
    "alpha.SetInputConnection( imageGrid.GetOutputPort() )\n",
    "alpha.SetLookupTable( table )\n",
    "\n",
    "blend = vtk.vtkImageBlend()\n",
    "blend.AddInputConnection( 0, reader.GetOutputPort() )  # the image we read\n",
    "blend.AddInputConnection( 0, alpha.GetOutputPort() )   # image of the grid\n",
    "```"
   ]
  },
  {
   "cell_type": "markdown",
   "metadata": {},
   "source": [
    "Now we need to specify a set of landmarks. This information is stored as a set of points:"
   ]
  },
  {
   "cell_type": "markdown",
   "metadata": {},
   "source": [
    "```python\n",
    "p1 = vtk.vtkPoints()  # the source points\n",
    "p2 = vtk.vtkPoints()  # the target points\n",
    "```"
   ]
  },
  {
   "cell_type": "markdown",
   "metadata": {},
   "source": [
    "Create a TPS filter"
   ]
  },
  {
   "cell_type": "markdown",
   "metadata": {},
   "source": [
    "```python\n",
    "transform = vtk.vtkThinPlateSplineTransform()\n",
    "transform.SetSourceLandmarks( p1 )\n",
    "transform.SetTargetLandmarks( p2 )\n",
    "transform.SetBasisToR2LogR()\n",
    "transform.Inverse()\n",
    "```"
   ]
  },
  {
   "cell_type": "markdown",
   "metadata": {},
   "source": [
    "Connect the image processing pipelines"
   ]
  },
  {
   "cell_type": "markdown",
   "metadata": {},
   "source": [
    "```python\n",
    "# create a new image based on the transform\n",
    "reslice = vtk.vtkImageReslice()\n",
    "reslice.SetInputConnection( blend.GetOutputPort() )\n",
    "reslice.SetResliceTransform( transform )\n",
    "reslice.SetInterpolationModeToLinear()\n",
    "\n",
    "# visualize it and send it to the renderer\n",
    "map = vtk.vtkImageMapper()\n",
    "map.SetInputConnection( reslice.GetOutputPort() )\n",
    "map.SetColorWindow( 255.0 )\n",
    "map.SetColorLevel( 127.5 )\n",
    "map.SetZSlice( 0 )\n",
    "```"
   ]
  },
  {
   "cell_type": "markdown",
   "metadata": {},
   "source": [
    "Lastly, specify the control points:"
   ]
  },
  {
   "cell_type": "markdown",
   "metadata": {},
   "source": [
    "```python\n",
    "p1.SetNumberOfPoints( 5 )\n",
    "p1.SetPoint( 0, 324,  imagey-499, 0) # right point on the lip\n",
    "p1.SetPoint( 1, 378,  imagey-540, 0) # center point on the lip\n",
    "p1.SetPoint( 2, 451,  imagey-510, 0) # left point on the lip\n",
    "p1.SetPoint( 3, 343,  imagey-234, 0) # right eye\n",
    "p1.SetPoint( 4, 452,  imagey-229, 0) # lef eye\n",
    "\n",
    "p2.SetNumberOfPoints( 5 )\n",
    "p2.SetPoint( 0, 324,  imagey-540, 0) # right point on the lip\n",
    "p2.SetPoint( 1, 378,  imagey-540, 0) # center point on the lip\n",
    "p2.SetPoint( 2, 451,  imagey-540, 0) # left point on the lip\n",
    "p2.SetPoint( 3, 343,  imagey-234, 0) # right eye\n",
    "p2.SetPoint( 4, 452,  imagey-229, 0) # left eye\n",
    "\n",
    "act = vtk.vtkActor2D()\n",
    "act.SetMapper( map )\n",
    "act.SetPosition(0,0)\n",
    "renderer.AddActor( act )\n",
    "```"
   ]
  },
  {
   "cell_type": "markdown",
   "metadata": {},
   "source": [
    "Click on the 3DSlicer window and an image will be drawn."
   ]
  },
  {
   "cell_type": "markdown",
   "metadata": {},
   "source": [
    "The complete **undocumented** Python code can be found [here](sadTPS.py)."
   ]
  },
  {
   "cell_type": "markdown",
   "metadata": {},
   "source": [
    "## Exercise\n",
    "\n",
    "### Final Exam Question:\n",
    "\n",
    "The following figure shows an axial CT image of a patient who was diagnosed as having Hepatocellular Carcinoma (HCC). The patient's oncologist decided to treat him using radiation therapy. To adjust the tumor radiation dose over the course of treatment, deformable image registration is required. For this purpose, a Medical Physicist suggested using the Thin Plate Spline (TPS) method.\n",
    "\n",
    "<img src = \"HCC.PNG\" style=\"width:600px\"/>\n",
    "\n",
    "* Is the TPS method a good choice in this case? Explain why.\n",
    "* Select $\\approx 10$ points outlining the tumor in addition to $\\approx 10$ other points you need to select elsewhere in the image in order to have a matching point set necessary to obtain reasonable registration with TPS method. Show each of the $\\approx 20$ points with an $\\times$ mark on the image below in question sheet that you will hand in along with your answers."
   ]
  },
  {
   "cell_type": "markdown",
   "metadata": {},
   "source": [
    "### TPS Registration Applications\n",
    "\n",
    "Image Registration\n",
    "* *With point matching*: [**Registration of images with geometric distortions** by A. Goshtasby, *IEEE Transactions on Geoscience and Remote Sensing*, 26(1):60-64, 1998](http://ieeexplore.ieee.org/document/3000/).\n",
    "* *With voxel similarity measures*: [**Demonstration of accuracy and clinical versatility of mutual information for automatic multimodality image fusion using affine and thin-plate spline warped geometric deformations** by Meyer et al., *Medical Image Analysis*, 1(3):195-207, 1997](https://www.sciencedirect.com/science/article/pii/S1361841597850104)\n",
    "\n",
    "\n",
    "#### Advantage:\n",
    "\n",
    "Control points can have arbitrary spatial distribution:\n",
    "  * In theory, choose as many as you like,\n",
    "  * But registration accurady depends on how well these landmarks can be determined, i.e. Fiducial Localization Error (FLE)\n",
    "  * More landmarks means more parameters to determine,\n",
    "  \n",
    "#### Disadvantages:\n",
    "* Requires point matching, $1:1$ correspondence\n",
    "  * which requires manual work,\n",
    "  * and expertise (medical images == medical expertise)\n",
    "* Control points have global influence since the use of basis function has infinite support!\n",
    "  * it *cannot* handle local distortion effectively\n",
    "  * see [**Radial basis functions with compact support for elastic registration of medical images** by Fornefett, Rohr, and Stiehl, *Image and Vision Computing*, 19(1-2):87-96, 2001](https://www.sciencedirect.com/science/article/pii/S0262885600000573)"
   ]
  }
 ],
 "metadata": {
  "kernelspec": {
   "display_name": "Python 3",
   "language": "python",
   "name": "python3"
  },
  "language_info": {
   "codemirror_mode": {
    "name": "ipython",
    "version": 3
   },
   "file_extension": ".py",
   "mimetype": "text/x-python",
   "name": "python",
   "nbconvert_exporter": "python",
   "pygments_lexer": "ipython3",
   "version": "3.6.8"
  }
 },
 "nbformat": 4,
 "nbformat_minor": 2
}
