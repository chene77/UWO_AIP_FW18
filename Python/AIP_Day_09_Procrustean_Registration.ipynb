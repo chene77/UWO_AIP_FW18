{
 "cells": [
  {
   "cell_type": "markdown",
   "metadata": {},
   "source": [
    "<h1 align=\"center\">Advanced Image Processing and Analysis</h1>\n",
    "<h3 align=\"center\">ECE 4438B/ECE 9022/ECE 9202B/BIOMED 9519B/BIOPHYS 9519B/CAMI 9519B</h3>\n",
    "<h4 align=\"center\"><a href=\"mailto:echen29@uwo.ca\"> Elvis Chen, PhD, LL</a></h4>\n",
    "<h4 align=\"center\">Day 09, February 04, 2019</h4>"
   ]
  },
  {
   "cell_type": "markdown",
   "metadata": {},
   "source": [
    "## Introduction\n",
    "\n",
    "By now, we have refreshed our knowledge about linear algebra in terms of rotation, translation, and how to use homogeneous transformation to represent them. In Summary,\n",
    "\n",
    "- A rotation matrix $R$ is represented as a $3 \\times 3$ matrix and is said to be **orthonormal**\n",
    "  - if $det(R)=1$, i.e. the determinant of R is $1$,\n",
    "  - the dot product between any columns or rows of R is $0$, i.e. each row/column is perpendicular from each other,\n",
    "  - because $R$ is orthonormal, \n",
    "    - $inv(R) = R^{'}$,\n",
    "    - $inv(R) R = I_{3 \\times 3}$\n",
    "- A translation vector $t$ is presented as a $3 \\times 1$ matrix, representing the displacement,\n",
    "  - $t=\\begin{bmatrix} t_x\\\\t_y\\\\t_z\\end{bmatrix}$\n",
    "- We can represent rotation in the homogeneous coordinate by:\n",
    "  - $T(R)_{4\\times 4} = \\begin{bmatrix}R_{3 \\times 3} & 0_{3 \\times 1} \\\\ 0_{1 \\times 3}&1\\end{bmatrix}$\n",
    "- and translation by:\n",
    "  - $T(t)_{4 \\times 4}= \\begin{bmatrix}I_{3 \\times 3} & t_{3 \\times 1} \\\\ 0_{1 \\times 3}&1\\end{bmatrix}$\n",
    "- and a generic transformation by\n",
    "  - $T(R,t)_{4 \\times 4} = \\begin{bmatrix}R_{3 \\times 3} & t_{3 \\times 1} \\\\ 0_{1 \\times 3}&1\\end{bmatrix}$\n",
    "  - notice this transmation applies Rotation before Translation."
   ]
  },
  {
   "cell_type": "markdown",
   "metadata": {},
   "source": [
    "That is, to transform a point $x_i$ to $y_i$, we can:\n",
    "\n",
    "- ${x_i}_{3\\times 1} = \\begin{bmatrix}a\\\\b\\\\c\\end{bmatrix}$\n",
    "- $\\begin{bmatrix}{y_i}_{3 \\times 1}\\\\1\\end{bmatrix} = \\begin{bmatrix}a'\\\\b'\\\\c'\\\\1\\end{bmatrix} = \\begin{bmatrix}R_{3 \\times 3} & t_{3 \\times 1} \\\\ 0_{1 \\times 3}&1\\end{bmatrix} \\begin{bmatrix}a\\\\b\\\\c\\\\1\\end{bmatrix}$\n",
    "\n",
    "$y_i$ is $x_i$ subject to rotation **followed by** translation."
   ]
  },
  {
   "cell_type": "markdown",
   "metadata": {},
   "source": [
    "### Matrix\n",
    "\n",
    "There are certain properties about [Matrix Multiplication](https://en.wikipedia.org/wiki/Matrix_multiplication) that will be handy for us:\n",
    "- **Non-commutatitive**\n",
    "  - $A B \\neq B A$\n",
    "- **Distributitive**\n",
    "  - $A (B+C) = A B + A C$ (left distributivity)\n",
    "  - $(B+C) D = B D + C D$ (right distributivity)\n",
    "- **Transpose**\n",
    "  - $(A B)^T = B^T A^T$\n",
    "- **Associative**\n",
    "  - $(A B) C = A (B C)$"
   ]
  },
  {
   "cell_type": "markdown",
   "metadata": {},
   "source": [
    "### Rotation\n",
    "\n",
    "- Rotation about x-axis by an angle $\\theta$:\n",
    "  - $R_x(\\theta)_{3\\times 3} = \\begin{bmatrix}1 & 0 & 0\\\\0 &\\cos(\\theta) & -\\sin(\\theta)\\\\0 &\\sin(\\theta)&\\cos(\\theta)\\end{bmatrix}$\n",
    "- Rotation about y-axis by an angle $\\theta$:\n",
    "  - $R_y(\\theta)_{3\\times 3} = \\begin{bmatrix}\\cos(\\theta) & 0 & \\sin(\\theta)\\\\0 &1 & 0\\\\-\\sin(\\theta)&0&cos(\\theta)\\end{bmatrix}$\n",
    "- Rotation about z-axis by an angle $\\theta$:\n",
    "  - $R_z(\\theta)_{3\\times 3} = \\begin{bmatrix}\\cos(\\theta) & -\\sin(\\theta) & 0\\\\ \\sin(\\theta)&\\cos(\\theta)&0\\\\0&0&1\\end{bmatrix}$\n",
    "  \n",
    "You should verify that these rotational matrices are indeed **orthonormal**."
   ]
  },
  {
   "cell_type": "markdown",
   "metadata": {},
   "source": [
    "## Orthogonal Procrustes Analysis\n",
    "\n",
    "From the power-point slides, given two set of $3$D points **with known correspondance**, we wish to find the optimal **rigid body** transformation that best aligns them. This problem is known by many names, including [the Orthogonal Procrustes Analysis](https://en.wikipedia.org/wiki/Orthogonal_Procrustes_problem).\n",
    "\n",
    "Let $X$ and $Y$ be $2$ sets of $n$ points:\n",
    "\n",
    "$X = \\begin{bmatrix}x_1, x_2, \\cdots, x_n\\end{bmatrix}$\n",
    "\n",
    "$Y = \\begin{bmatrix}y_1, y_2, \\cdots, y_n\\end{bmatrix}$\n",
    "\n",
    "We wish to find a transformation (rotation followed by translation), that minimizes the Euclidean distance between $X$ and $Y$ after transformation. That is:\n",
    "\n",
    "$Y = R X + t$, or\n",
    "\n",
    "$Y_i = R X_i +t, i = 1, \\cdots, n$\n",
    "\n",
    "Unless data are perfect (and they never are in real life), there is always noise associated with the measurements/data:\n",
    "\n",
    "\n",
    "$Y_i = R X_i +t + N_i, i = 1, \\cdots, n$\n",
    "\n",
    "where $N_i$ is a noise vector (a.k.a. Fiducial Localization Error). Therefore, we can pose this problem as a minimization of:\n",
    "\n",
    "$e_i = Y_i - (R X_i + t)$ and\n",
    "\n",
    "$FRE^2 = \\sum_{i=1}^{n} \\lVert Y_i - (R X_i + t) \\rVert^2$, where $FRE$ stands for **Fiducial Registration Error**. Note that FRE is a measure of Euclidean distance."
   ]
  },
  {
   "cell_type": "markdown",
   "metadata": {},
   "source": [
    "To minimize $FRE^2$, lets work with *de-meaned* data. That is, substract all data by their respective centroids. This will prove to be quite useful later.\n",
    "\n",
    "Let:\n",
    "\n",
    "$\\bar{x}=\\frac{1}{n} \\sum_{i=1}^{n} X_i$\n",
    "\n",
    "$\\bar{y}=\\frac{1}{n} \\sum_{i=1}^{n} Y_i$\n",
    "\n",
    "and\n",
    "\n",
    "$X_{i}^{'} = X_i -\\bar{x}$\n",
    "\n",
    "$Y_{i}^{'} = Y_i -\\bar{y}$\n",
    "\n",
    "note that:\n",
    "\n",
    "$ \\sum_{i=1}^{n}X_{i}^{'}=0 $\n",
    "\n",
    "$ \\sum_{i=1}^{n}Y_{i}^{'}=0 $\n",
    "\n",
    "That is, $\\bar{x}$ and $\\bar{y}$ are the centroids, and the centroids of the *de-meaned* data $X_{i}^{'}$ and $Y_{i}^{'}$ are at the origin."
   ]
  },
  {
   "cell_type": "markdown",
   "metadata": {},
   "source": [
    "### redefine FRE\n",
    "\n",
    "We can then re-defined FRE using the *de-meaned* data:\n",
    "\n",
    "$FRE^2 = \\sum_{i=1}^{n} \\lVert Y_i - (R X_i + t) \\rVert^2\\\\ \n",
    " = \\sum_{i=1}^{n} \\lVert Y_{i}^{'} - (R X_{i}^{'} + t^{'}) \\rVert^2$\n",
    " \n",
    "where\n",
    "\n",
    "$t^{'} = t - \\bar{y}+R \\bar{x}$\n",
    "\n",
    "You should verify $t^{'}$. Keep in mind that matrix multiplication is **distributitive**.  Then\n",
    "\n",
    "\n",
    "$FRE^2 = \\sum_{i=1}^{n} \\lVert Y_{i}^{'} - (R X_{i}^{'} + t^{'}) \\rVert^2 \\\\\n",
    "= \\sum_{i=1}^{n} \\lVert (Y_{i}^{'} - R X_{i}^{'}) - t^{'} \\rVert^2\\\\\n",
    "= \\sum_{i=1}^{n} \\lVert Y_{i}^{'} - R X_{i}^{'}\\rVert^2\n",
    "   - 2 t^{'} \\sum_{i=1}^{n} (Y_{i}^{'} - R X_{i}^{'})\n",
    "   +  \\sum_{i=1}^{n} \\lVert t^{'} \\rVert^2$"
   ]
  },
  {
   "cell_type": "markdown",
   "metadata": {},
   "source": [
    "### Decouple of rotation and translation\n",
    "\n",
    "Note that the sum in the middle term of this expression ($ 2 t^{'} \\sum_{i=1}^{n} (Y_{i}^{'} - R X_{i}^{'})$) is **zero** since the measurements are referred to the centroid. So we are left with the first and the third term:\n",
    "\n",
    "- The first term $\\sum_{i=1}^{n} \\lVert Y_{i}^{'} - R X_{i}^{'}\\rVert^2$ does not depend on $t^{'}$, and\n",
    "- The last term $\\sum_{i=1}^{n} \\lVert t^{'} \\rVert^2 = n \\lVert t^{'} \\rVert^2$ cannot be negative.\n",
    "\n",
    "The Fiducial Registration Error is thus minimized when $t^{'} = 0$, or\n",
    "\n",
    "$t^{'} = t - \\hat{y} + R \\hat{x} = 0$\n",
    "\n",
    "$ t = \\hat{y}-R \\hat{x}$\n",
    "\n",
    "That is, the translation is just the difference between centroids after rotation. We will return to this equation to find the translational offset once we have found the rotation."
   ]
  },
  {
   "cell_type": "markdown",
   "metadata": {},
   "source": [
    "### Optimal Rotation\n",
    "\n",
    "Since $FRE^2$ is minimized when $t^{'}=0$, we can rewrite FRE as:\n",
    "\n",
    "$FRE^2 = \\sum_{i=1}^{n} \\lVert Y_{i}^{'} -R X_{i}^{'}\\rVert^2$\n",
    "\n",
    "then\n",
    "\n",
    "$FRE^2 = \\sum_{i=1}^{n} \\lVert Y_{i}^{'} -R X_{i}^{'}\\rVert^2\\\\\n",
    "= \\sum_{i=1}^{n} (Y_{i}^{'} - R X_{i}^{'})(Y_{i}^{'} - R X_{i}^{'})\\\\\n",
    "= \\sum_{i=1}^{n}(Y_{i}^{' t} Y_{i}^{'} - Y_{i}^{' t} R X_{i}^{'} - (R X_{i}^{'})^{t} Y_{i}^{'} + (R X_{i}^{'})^{t} (R X_{i}^{'}))\\\\\n",
    "= \\sum_{i=1}^{n}(Y_{i}^{' t} Y_{i}^{'} + X_{i}^{' t} R^{t} R  X_{i}^{'} - 2 Y_{i}^{' t} R X_{i}^{'}) \\\\\n",
    "= \\sum_{i=1}^{n}(Y_{i}^{' t} Y_{i}^{'} + X_{i}^{' t} X_{i}^{'} - 2 Y_{i}^{' t} R X_{i}^{'})$\n",
    "\n",
    "Therefore, $FRE^2$ is minimized when $Y_{i}^{' t} R X_{i}^{'}$ is **maximized** (note the negative sign before the term).\n",
    "\n",
    "\n",
    "That is, minimizing $FRE^2$ is equivalent to maximizing\n",
    "\n",
    "$F=\\sum_{i=1}^{n} Y_{i}^{' t} R X_{i}^{'} \\\\\n",
    "= Trace \\begin{pmatrix} \\sum_{i=1}^{n} R X_{i}^{'}  Y_{i}^{' t} \\end{pmatrix} \\\\\n",
    "=Trace \\begin{pmatrix} R H \\end{pmatrix}$\n",
    "\n",
    "where\n",
    "\n",
    "$H \\doteq \\sum_{i=1}^{n}  X_{i}^{'}  Y_{i}^{' t}$"
   ]
  },
  {
   "cell_type": "markdown",
   "metadata": {},
   "source": [
    "#### *Lemma*: For any positive definite matrix $A A^{t}$, and any orthonormal matrix $B$,\n",
    "\n",
    "#### $Trace(A A^{t}) \\ge Trace( B A A^{t})$\n",
    "\n",
    "\n",
    "#### Proof of Lemma:\n",
    "\n",
    "$Trace( B A A^{t}) = Trace( A^{t} B A)\\\\\n",
    "= \\sum_i a_{i}^{t} (B a_i)$\n",
    "\n",
    "But, by the Schwarz inequality:\n",
    "\n",
    "$a_{i}^{t} (B a_i) \\le \\sqrt{(a_i^{t} a_i)(a_i^{t} B^{t} B a_i)} = a_i^{t} a_i$\n",
    "\n",
    "Hence, $Trace(B A A^t) \\le a_i^t a_i = Trace(A A^t)$."
   ]
  },
  {
   "cell_type": "markdown",
   "metadata": {},
   "source": [
    "#### SVD solution for optimal rotation\n",
    "\n",
    "Let the Singular Value Decomposition (SVD) of $H$ be:\n",
    "\n",
    "$H = U \\Lambda V^t$\n",
    "\n",
    "where $U$ and $V$ are $3 \\times 3$ orthonormal matrices, and $\\Lambda$ is a $3 \\times 3$ diagonal matrix with non-negative element. Now let:\n",
    "\n",
    "$Q = V * U^t$ (which is orthonormal)\n",
    "\n",
    "we have\n",
    "\n",
    "$Q H = (V U^t)(U \\Lambda V^t) \\\\\n",
    "= V \\Lambda V^t$\n",
    "\n",
    "which is symmetrical and positive definite."
   ]
  },
  {
   "cell_type": "markdown",
   "metadata": {},
   "source": [
    "### Therefore\n",
    "\n",
    "from Lemma, for any $3 \\times 3$ orgonormal matrix $B$,\n",
    "\n",
    "$Trace(Q H) \\ge Trace( B Q H )$\n",
    "\n",
    "\n",
    "Thus, among all $3\\times 3$ orthonormal matrices, $Q$ maximizes $F$, which in term, minimizes $FRE^2$. Because $Q$ is orthonormal, it is the rotation we seek."
   ]
  },
  {
   "cell_type": "markdown",
   "metadata": {},
   "source": [
    "### Fixing Q\n",
    "\n",
    "Even through $Q$ is orthonormal, it may not be a proper rotation!  In fact, it is possible that the determinant of $Q$ to be $-1$, instead of $+1$ that you expect from a rotation.\n",
    "\n",
    "**Question**: What transformation are we performing if the $det(Q)=-1$?"
   ]
  },
  {
   "cell_type": "markdown",
   "metadata": {},
   "source": [
    "## Algorithm\n",
    "\n",
    "1. Given two sets of 3D pointsets, $X_i$ and $Y_i$, $i = 1, 2, \\cdots, n$,\n",
    "2. Compute the centroids $\\bar{x}$ and $\\bar{y}$,\n",
    "3. Substract the centroids:\n",
    "\n",
    "$X_i^{'} = X_i - \\bar{x}, i=1,2,\\cdots,n$\n",
    "\n",
    "\n",
    "$Y_i^{'} = Y_i - \\bar{y}, i=1,2,\\cdots,n$\n",
    "\n",
    "4. Compute the fiducial covariance matrix:\n",
    "\n",
    "$H_{3 \\times 3} = \\sum_{i}^{n} X_i^{'} Y_i^{' t}$\n",
    "\n",
    "5. Perform singular value decomposition of H:\n",
    "\n",
    "$H = U \\Lambda V^t$\n",
    "\n",
    "where $U^t U = V^t V = I$\n",
    "\n",
    "6. Contruct the rotation matrix:\n",
    "\n",
    "$R = V \\begin{bmatrix} 1 & 0 & 0\\\\ 0 & 1 & 0\\\\ 0 & 0 & det(V U)\\end{bmatrix} U^t$\n",
    "\n",
    "7. Compute the translation:\n",
    "\n",
    "$t = \\bar{y} - R \\bar{x}$"
   ]
  },
  {
   "cell_type": "markdown",
   "metadata": {},
   "source": [
    "## Example\n",
    "\n",
    "Let us create some synthetic data to test if this code works.  Suppose we are going to rotate an object about the x-axis by $30^o$, followed by rotation about the z-axis by $60^o$, followed by rotation about the y-axis for $-45^o$, and finally followed by translation of $[5, 10, 12]^t$ units."
   ]
  },
  {
   "cell_type": "markdown",
   "metadata": {},
   "source": [
    "Rotation about X-axis by $30^o$:\n",
    "\n",
    "$R_x(\\theta)_{4\\times 4} = \\begin{bmatrix}1 & 0 & 0 & 0\\\\0 &\\cos(\\theta) & -\\sin(\\theta) &0\\\\0 &\\sin(\\theta)&\\cos(\\theta) &0\\\\0&0&0&1\\end{bmatrix}\\\\\n",
    "R_x(30^o) =\\begin{bmatrix}1 & 0 & 0 & 0\\\\0 &0.866 & -.5 &0\\\\0 &.5&0.866 &0\\\\0&0&0&1\\end{bmatrix}$"
   ]
  },
  {
   "cell_type": "markdown",
   "metadata": {},
   "source": [
    "Rotation about Z-axis by $60^o$:\n",
    "\n",
    "$R_z(60^o) =\\begin{bmatrix} .5 & -0.866 & 0 & 0\\\\0.866 &0.5 & 0 &0\\\\0 &0&1 &0\\\\0&0&0&1\\end{bmatrix}$"
   ]
  },
  {
   "cell_type": "markdown",
   "metadata": {},
   "source": [
    "Rotation about Y-axis by $-45^o$:\n",
    "\n",
    "$R_y(-45^o) =\\begin{bmatrix} 0.7071 & 0 & -0.7071 & 0\\\\0 &1 & 0 &0\\\\0.7071 &0&0.7071 &0\\\\0&0&0&1\\end{bmatrix}$"
   ]
  },
  {
   "cell_type": "markdown",
   "metadata": {},
   "source": [
    "Translation by $[5,10,12]^t$:\n",
    "\n",
    "$T_t = \\begin{bmatrix}1&0&0&5\\\\0&1&0&10\\\\0&0&1&12\\\\0&0&0&1\\end{bmatrix}$"
   ]
  },
  {
   "cell_type": "markdown",
   "metadata": {},
   "source": [
    "The final transformation is:\n",
    "\n",
    "$T = T_t * R_y(-45^o) * R_z(60^o) * R_x(30^o) \\\\\n",
    "= \\begin{bmatrix}0.3536 &  -0.8839   &-0.3062&    5\\\\\n",
    "    0.8660 &   0.4330&   -0.2500&   10\\\\\n",
    "    0.3536 &  -0.1768&    0.9186&   12\\\\\n",
    "         0 &        0&         0&    1\\end{bmatrix}$"
   ]
  },
  {
   "cell_type": "markdown",
   "metadata": {},
   "source": [
    "### generate data for validation purposes\n",
    "\n",
    "For testing purposes, we should be generating data using random number generator. But for the purpose of demonstration, let us some some \"points\" that we can easily visualize. Suppose we have $4$ points: $[1, 0, 0]^t$, $[0, 1, 0]^t$, $[0, 0, 1]^t$, $[10, 6, 20]^t$. We can use **homogeneous coordinate system** to represent them:\n",
    "\n",
    "$X = \\begin{bmatrix}1  &   0  &   0   & 10\\\\\n",
    "     0   &  1  &   0  &   6\\\\\n",
    "     0  &   0  &   1  &  20\\\\\n",
    "     1   &  1  &   1  &   1\\end{bmatrix}$"
   ]
  },
  {
   "cell_type": "markdown",
   "metadata": {},
   "source": [
    "Then the transformed points are:\n",
    "    \n",
    "$Y = T X = \\begin{bmatrix} 5.3536  &  4.1161 &   4.6938&   -2.8915\\\\\n",
    "   10.8660  & 10.4330 &   9.7500  & 16.2583\\\\\n",
    "   12.3536 &  11.8232 &  12.9186 &  32.8460\\\\\n",
    "    1  &  1 &   1 &   1\\end{bmatrix}$"
   ]
  },
  {
   "cell_type": "markdown",
   "metadata": {},
   "source": [
    "### compute the centroids\n",
    "\n",
    "$\\bar{x} = \\begin{bmatrix}2.75\\\\\n",
    "    1.75\\\\\n",
    "    5.25\\end{bmatrix}$\n",
    "    \n",
    "    \n",
    "$\\bar{y} = \\begin{bmatrix}2.8180\\\\\n",
    "   11.8268\\\\\n",
    "   17.4853\\end{bmatrix}$"
   ]
  },
  {
   "cell_type": "markdown",
   "metadata": {},
   "source": [
    "### substract the centroids\n",
    "\n",
    "$X^{'} = \\begin{bmatrix}-1.7500  & -2.7500 &  -2.7500&    7.2500\\\\\n",
    "   -1.7500 &  -0.7500 &  -1.7500  &  4.2500\\\\\n",
    "   -5.2500 &  -5.2500 &  -4.2500 &  14.7500\\end{bmatrix}$\n",
    "   \n",
    "   $Y^{'} = \\begin{bmatrix}2.5356 &   1.2981  &  1.8758   &-5.7095\\\\\n",
    "   -0.9608 &  -1.3938 &  -2.0768  &  4.4315\\\\\n",
    "   -5.1318 &  -5.6621 &  -4.5668  & 15.3607\\end{bmatrix}$\n",
    "   \n",
    "   \n",
    "   you should verify that the centroid of $X^{'}$ and $Y^{'}$ are indeed located at the origin."
   ]
  },
  {
   "cell_type": "markdown",
   "metadata": {},
   "source": [
    "### compute the fiducial covariance matrix\n",
    "\n",
    "$H = \\begin{bmatrix} -54.5593 &  43.3541 & 148.4752 \\\\\n",
    "  -32.9588  & 25.1951  & 86.5021         \\\\\n",
    " -112.3140 &  86.5529 & 302.6472  \\end{bmatrix}$"
   ]
  },
  {
   "cell_type": "markdown",
   "metadata": {},
   "source": [
    "### apply singular valude decomposition \n",
    "\n",
    "$ H = U S V^{'}$\n",
    "\n",
    "$U = \\begin{bmatrix}-0.4266&    0.7926 &  -0.4357         \\\\\n",
    "   -0.2495  & -0.5661  & -0.7856          \\\\\n",
    "   -0.8693 &  -0.2265  &  0.4393\\end{bmatrix}$\n",
    "   \n",
    "$S = \\begin{bmatrix}384.4534   &      0   &      0        \\\\\n",
    "         0  &  1.0000    &     0        \\\\\n",
    "         0  &       0 &   0.7966 \\end{bmatrix}$\n",
    "         \n",
    "$V = \\begin{bmatrix}0.3359 &   0.8500&   0.4059         \\\\\n",
    "   -0.2602  &  0.4979 &  -0.8273         \\\\\n",
    "   -0.9053 &   0.1723&    0.3884\\end{bmatrix}$"
   ]
  },
  {
   "cell_type": "markdown",
   "metadata": {},
   "source": [
    "### compute the rotation\n",
    "\n",
    "$R = V U^{'}\n",
    "= \\begin{bmatrix}0.3359 &   0.8500&   0.4059         \\\\\n",
    "   -0.2602  &  0.4979 &  -0.8273         \\\\\n",
    "   -0.9053 &   0.1723&    0.3884\\end{bmatrix}\\begin{bmatrix} -0.4266 &  -0.2495   &-0.8693         \\\\\n",
    "    0.7926  & -0.5661 &  -0.2265         \\\\\n",
    "   -0.4357 &  -0.7856 &   0.4393\\end{bmatrix} \\\\\n",
    "   =\\begin{bmatrix}0.3536  & -0.8839 &  -0.3062         \\\\\n",
    "    0.8660  &  0.4330 &  -0.2500        \\\\\n",
    "    0.3536  & -0.1768  &  0.9186\\end{bmatrix}$"
   ]
  },
  {
   "cell_type": "markdown",
   "metadata": {},
   "source": [
    "### compute the translation\n",
    "\n",
    "$t=\\bar{y}-R \\bar{x} \\\\\n",
    "=\\begin{bmatrix}5\\\\10\\\\12\\end{bmatrix}$"
   ]
  },
  {
   "cell_type": "markdown",
   "metadata": {},
   "source": [
    "### Success?\n",
    "\n",
    "Keep in mind that the final rotation we applied was:\n",
    "\n",
    "\n",
    "$ R_y(-45^o) * R_z(60^o) * R_x(30^o) \\\\\n",
    "= \\begin{bmatrix}0.3536 &  -0.8839   &-0.3062\\\\\n",
    "    0.8660 &   0.4330&   -0.2500\\\\\n",
    "    0.3536 &  -0.1768&    0.9186\\end{bmatrix}$\n",
    " \n",
    "and a translation after rotation:\n",
    "    \n",
    "$T_t=\\begin{bmatrix}5\\\\10\\\\12\\end{bmatrix}$\n",
    "\n",
    "\n",
    "resulting in the final transform of\n",
    "\n",
    "$T = T_t * R_y(-45^o) * R_z(60^o) * R_x(30^o) \\\\\n",
    "= \\begin{bmatrix}0.3536 &  -0.8839   &-0.3062&    5\\\\\n",
    "    0.8660 &   0.4330&   -0.2500&   10\\\\\n",
    "    0.3536 &  -0.1768&    0.9186&   12\\\\\n",
    "         0 &        0&         0&    1\\end{bmatrix}$"
   ]
  },
  {
   "cell_type": "markdown",
   "metadata": {},
   "source": [
    "Note that in this trivial case, our data were *perfect* (but the computation may have some round-off errors), in the sense that they are not contaminated with any forms of **fiducial localization error**."
   ]
  },
  {
   "cell_type": "markdown",
   "metadata": {},
   "source": [
    "**Questions**\n",
    "\n",
    "- What if our data were contaminated with errors?\n",
    "- What if we reverse the order of transformations applied?"
   ]
  }
 ],
 "metadata": {
  "kernelspec": {
   "display_name": "Python 3",
   "language": "python",
   "name": "python3"
  },
  "language_info": {
   "codemirror_mode": {
    "name": "ipython",
    "version": 3
   },
   "file_extension": ".py",
   "mimetype": "text/x-python",
   "name": "python",
   "nbconvert_exporter": "python",
   "pygments_lexer": "ipython3",
   "version": "3.6.8"
  }
 },
 "nbformat": 4,
 "nbformat_minor": 2
}
