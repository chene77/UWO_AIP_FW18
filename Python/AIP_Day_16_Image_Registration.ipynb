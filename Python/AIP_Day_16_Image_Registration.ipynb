{
 "cells": [
  {
   "cell_type": "markdown",
   "metadata": {},
   "source": [
    "<h1 align=\"center\">Advanced Image Processing and Analysis</h1>\n",
    "<h3 align=\"center\">ECE 4438B/ECE 9022/ECE 9202B/BIOMED 9519B/BIOPHYS 9519B/CAMI 9519B</h3>\n",
    "<h4 align=\"center\"><a href=\"mailto:echen29@uwo.ca?subject=Day 16: Image Registration Lecture\"> Elvis Chen, PhD, LL</a></h4>\n",
    "<h4 align=\"center\">Day 16, March 05, 2019</h4>"
   ]
  },
  {
   "cell_type": "markdown",
   "metadata": {},
   "source": [
    "## Image Registration algorithms\n",
    "\n",
    "The purpose of image registration is to align two images/volumes in a common coordinate system. It can be used for:\n",
    "\n",
    "* image stitching: ![stitching](http://www.easypano.com/images/keyword/photo-stitch-partial-panorama.jpg) (image curtesy of http://www.easypano.com/photo-stitch-software.html),\n",
    "\n",
    "* fusion of multi-modal images (such as CT and MR)\n",
    "\n",
    "<img src=\"registration_visualization.gif\" width=\"650\"/>\n",
    "(This is an animated GIF. If not animated within Jupyter Notebook, take a look at the original file instead)"
   ]
  },
  {
   "cell_type": "code",
   "execution_count": 1,
   "metadata": {},
   "outputs": [],
   "source": [
    "# To use interactive plots (mouse clicks, zooming, panning) we use the nbagg back end. We want our graphs \n",
    "# to be embedded in the notebook, inline mode, this combination is defined by the magic \"%matplotlib notebook\".\n",
    "%matplotlib notebook\n",
    "\n",
    "import SimpleITK as sitk\n",
    "\n",
    "%run update_path_to_download_script\n",
    "from downloaddata import fetch_data as fdata\n",
    "import gui\n",
    "\n",
    "from myshow import myshow, myshow3d"
   ]
  },
  {
   "cell_type": "markdown",
   "metadata": {},
   "source": [
    "Conceptually, image registration is relatively simple: identify an object that is common in both images/volume, and spatially align them. Using the image stitching example, ![stitching](http://www.easypano.com/images/keyword/photo-stitch-partial-panorama.jpg) (image curtesy of http://www.easypano.com/photo-stitch-software.html), part of the builing appears in two adjacent pictures, thus we can spatially align them and form a new image. This is the basis for generating a panorama photo from multiple/sequential pictures."
   ]
  },
  {
   "cell_type": "markdown",
   "metadata": {},
   "source": [
    "Previously we saw a trivial example of aligning maps together:\n",
    "<img src=\"map1.png\" width=\"550\"/> <img src=\"map2.png\" width=\"550\"/> "
   ]
  },
  {
   "cell_type": "markdown",
   "metadata": {},
   "source": [
    "By identify [landmarks](https://itk.org/SimpleITKDoxygen/html/classitk_1_1simple_1_1LandmarkBasedTransformInitializerFilter.html) that are common in two images, we can use it as the basis to alignment them:\n",
    "\n",
    "<img src=\"map12.png\" width=\"550\"/>\n",
    "\n",
    "In this simple case, we only have to *translate* one image relative to the other."
   ]
  },
  {
   "cell_type": "markdown",
   "metadata": {},
   "source": [
    "Uisng the example of panorama photo, we can identify several important aspects image registration:\n",
    "* Similarity Metric: Given two (or part of) images, how similar are they?  Can we quantify this measure?\n",
    "  * What happends if we have two image modalities where the appearance of the same anatomy are different (CT vs. MRI)?\n",
    "* Interpolator/Resampling: what if these images/volumes are of different spatial resolution?\n",
    "* Transform: How do we align them?  Translation, Rotation plus Translation, Scaling of one image followed by rotatio and translation?\n",
    "* Optimizer: Once we aligned two images, we can measure the *goodness* of the alignment using the similarity metric. Can we do better? How do we find a new transform that gives as a better alignment?"
   ]
  },
  {
   "cell_type": "markdown",
   "metadata": {},
   "source": [
    "SimpleITK/ITK supports an infrastructure for image registration, where each of these four components can be adjusted according to the input images/volumes:\n",
    "\n",
    "<img src=\"..\\Data\\images\\ITKv4RegistrationComponentsDiagram.svg\" style=\"width:700px\"/><br><br>"
   ]
  },
  {
   "cell_type": "markdown",
   "metadata": {},
   "source": [
    "To register two images, we typically desginate\n",
    "* one as the **fixed image**: conceptually this image is the reference (not to be changed), of which the other is going to be registered into,\n",
    "* the other as the **moving image**: this is the image we apply a transformation to, thus by moving it, such that it spatially aligns with the fixed image."
   ]
  },
  {
   "cell_type": "markdown",
   "metadata": {},
   "source": [
    "Summary: To perform image registration in SimpleITK\n",
    "1. Creating an instance of the registration framework, select appropriate\n",
    "  * optimizer,\n",
    "  * similarity metric,\n",
    "  * image interpolator.\n",
    "2. The registration framework only supports images with sitkFloat32 and sitkFloat64 pixel types (use the SimpleITK <a href=\"http://www.itk.org/SimpleITKDoxygen/html/namespaceitk_1_1simple.html#af8c9d7cc96a299a05890e9c3db911885\">Cast()</a> function if your image's pixel type is something else),\n",
    "\n",
    "3. Successful registration is highly dependent on initialization. In general you can:\n",
    "   * Use auxiliary information or user interaction to obtain an initial transformation (avoid resampling).\n",
    "   * Center the images using the <a href=\"https://itk.org/SimpleITKDoxygen/html/classitk_1_1simple_1_1CenteredTransformInitializerFilter.html\">CenteredTransformInitializer</a>.\n",
    "   * Coarsely sample the parameter space using the <a href=\"https://itk.org/Doxygen/html/classitk_1_1ExhaustiveOptimizerv4.html\">Exhaustive Optimizer</a> to obtain one or more initial transformation estimates.\n",
    "   * Manually initialize, via direct manipulation of transformation parameters and visualization or localization of corresponding points in the two images and then use the <a href=\"https://itk.org/SimpleITKDoxygen/html/classitk_1_1simple_1_1LandmarkBasedTransformInitializerFilter.html\">LandmarkBasedTransformInitializer</a>."
   ]
  },
  {
   "cell_type": "markdown",
   "metadata": {},
   "source": [
    "Before we look into each component of the registration framework, let us look at the excellent explaination in the PDF document, courtesy of Dr. Aaron Ward\n",
    "\n",
    "**take a look at AIP_Day_16_Registration_explained.pdf**"
   ]
  }
 ],
 "metadata": {
  "kernelspec": {
   "display_name": "Python 3",
   "language": "python",
   "name": "python3"
  },
  "language_info": {
   "codemirror_mode": {
    "name": "ipython",
    "version": 3
   },
   "file_extension": ".py",
   "mimetype": "text/x-python",
   "name": "python",
   "nbconvert_exporter": "python",
   "pygments_lexer": "ipython3",
   "version": "3.6.8"
  }
 },
 "nbformat": 4,
 "nbformat_minor": 2
}
