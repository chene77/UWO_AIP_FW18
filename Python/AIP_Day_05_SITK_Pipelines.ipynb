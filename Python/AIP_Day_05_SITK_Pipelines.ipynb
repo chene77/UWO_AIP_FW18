{
 "cells": [
  {
   "cell_type": "markdown",
   "metadata": {},
   "source": [
    "<h1 align=\"center\">Advanced Image Processing and Analysis</h1>\n",
    "<h3 align=\"center\">ECE 4438B/ECE 9022/ECE 9202B/BIOMED 9519B/BIOPHYS 9519B/CAMI 9519B</h3>\n",
    "<h4 align=\"center\"><a href=\"mailto:echen29@uwo.ca\"> Elvis Chen, PhD, LL</a></h4>\n",
    "<h4 align=\"center\">Robarts Research Institute, London</h4>\n",
    "<h4 align=\"center\">Department of Electrical and Computer Engineering, Western University</h4>\n",
    "<h4 align=\"center\">School of Biomedical Engineering, Western University</h4>\n",
    "<h4 align=\"center\">Department of Medical Biophysics, Western University</h4>\n",
    "<h4 align=\"center\">Day 05, January 21, 2019</h4>"
   ]
  },
  {
   "cell_type": "markdown",
   "metadata": {},
   "source": [
    "#### Introduction\n",
    "So far, we have covered the following:\n",
    "* Python as a programming language:\n",
    "  * numerical operations\n",
    "  * string operations\n",
    "  * list operations\n",
    "  * indexing and slicing of string/list\n",
    "  * writing a simple module\n",
    "  * scope of variables\n",
    "* How to read and write images in SimpleITK\n",
    "* How to manipulate image as array\n",
    "  * Direct image construction\n",
    "  * subsampling using slicing operation\n",
    "  * cropping/flipping, etc.\n",
    "* How to display image\n",
    "  * using external programs such as\n",
    "    * ImageJ\n",
    "    * (optional) [ITK-SNAP](http://www.itksnap.org/pmwiki/pmwiki.php)\n",
    "    * (optional) [3D Slicer](https://www.slicer.org/)\n",
    "\n",
    "We also have used a few SimpleITK classes (without explanation). In this Notebook, we will examine the architecture of SimpleITK."
   ]
  },
  {
   "cell_type": "code",
   "execution_count": null,
   "metadata": {},
   "outputs": [],
   "source": [
    "# by now you should know how to load SimpleITK as a module in python\n",
    "import SimpleITK as sitk\n",
    "\n",
    "%matplotlib inline\n",
    "import matplotlib.pyplot as plt\n",
    "\n",
    "%run update_path_to_download_script\n",
    "from downloaddata import fetch_data as fdata\n",
    "\n",
    "\n",
    "from ipywidgets import interact, fixed\n",
    "import os\n",
    "\n",
    "OUTPUT_DIR = 'Output'\n",
    "\n",
    "print(sitk.Version()) # make sure we have loaded SimpleITK successfully and ran a script that allows us to download some data"
   ]
  },
  {
   "cell_type": "markdown",
   "metadata": {},
   "source": [
    "Here is an example of how to read a image/volume using the SimpleITK interface:\n",
    "\n",
    "[sitk.ReadImage](https://itk.org/SimpleITKDoxygen100/html/namespaceitk_1_1simple.html#ae3b678b5b043c5a8c93aa616d5ee574c)\n",
    "\n",
    "Note that we don't really have to worry about file extension, as the class ReadImage automatically figure it out for us."
   ]
  },
  {
   "cell_type": "code",
   "execution_count": null,
   "metadata": {},
   "outputs": [],
   "source": [
    "# 3D volume example\n",
    "vol = sitk.ReadImage('..\\data\\\\volumes\\grayscale.nrrd')"
   ]
  },
  {
   "cell_type": "markdown",
   "metadata": {},
   "source": [
    "This Code example reads an image (a [`.nrrd`](https://en.wikipedia.org/wiki/Nrrd) file). This single-line of code actually has two objectives for you to learn:\n",
    "* in ITK/SimpleITK, every class is a **filter**\n",
    "  * a filter has an **input**\n",
    "  * a filter generates an **output**\n",
    "* filters are connected in a *pipeline* of execution. Pictorially, the pipeline of execution looks like this:\n",
    "\n",
    "<img src=\"readerPipeline.png\" style=\"width:500px\"/><br><br>"
   ]
  },
  {
   "cell_type": "markdown",
   "metadata": {},
   "source": [
    "We can convert the file type by reading the file (of a particular format) and write it to a different file (of another file format) using the [WriteImage](https://itk.org/SimpleITKDoxygen100/html/namespaceitk_1_1simple.html#a26db5ae04c6df98d7b072f03fd435fdd) class:"
   ]
  },
  {
   "cell_type": "code",
   "execution_count": null,
   "metadata": {},
   "outputs": [],
   "source": [
    "sitk.WriteImage(vol, os.path.join(OUTPUT_DIR, 'grayscale.nii'))"
   ]
  },
  {
   "cell_type": "markdown",
   "metadata": {},
   "source": [
    "Pictorially, the pipeline of execution looks like this:\n",
    "\n",
    "<img src=\"readWritePipeline.png\" style=\"width:600px\"/><br><br>"
   ]
  },
  {
   "cell_type": "markdown",
   "metadata": {},
   "source": [
    "#### Simple Thresholding as a image processing filter in a pipeline architecture\n",
    "\n",
    "In terms of computer programming, a [filter](https://en.wikipedia.org/wiki/Filter_\\(software%29) is a subroutine (in the case of Python/SimpleITK, a class) that\n",
    "* receives a [stream](https://en.wikipedia.org/wiki/Stream_(computing%29)\n",
    "* processes the stream\n",
    "* produces another stream\n",
    "\n",
    "While a single filter can be used individually, filters are often connected together to form a [pipeline](https://en.wikipedia.org/wiki/Pipeline_(software%29).\n",
    "\n",
    "Thus, writing a SimpleITK program is a matter of connecting filters to form a pipeline. The beginning of the pipeline is often a file reader (unless we are constructing the image manually). As SimpleITK has no direct visualization capability, the end of the pipeline is oftean a filter writer."
   ]
  },
  {
   "cell_type": "markdown",
   "metadata": {},
   "source": [
    "##### Beginning of the pipeline\n",
    "Let us perform a simple thresholding using SimpleITK filter. From January 16's lecture, we saw how to threshold an image using direct matrix operation.\n",
    "\n",
    "Load a CT volume containing bones. As the appearance of bones are bright (i.e. high intensity), segmentation of bone should be relatively easy."
   ]
  },
  {
   "cell_type": "code",
   "execution_count": null,
   "metadata": {},
   "outputs": [],
   "source": [
    "data_directory = os.path.dirname(fdata(\"CIRS057A_MR_CT_DICOM/readme.txt\"))\n",
    "# Global variable 'selected_series' is updated by the interact function\n",
    "selected_series = ''\n",
    "def DICOM_series_dropdown_callback(series_to_load, series_dictionary):\n",
    "    global selected_series\n",
    "               # Print some information about the series from the meta-data dictionary\n",
    "               # DICOM standard part 6, Data Dictionary: http://medical.nema.org/medical/dicom/current/output/pdf/part06.pdf\n",
    "    img = sitk.ReadImage(series_dictionary[series_to_load][0])\n",
    "    tags_to_print = {'0010|0010': 'Patient name: ', \n",
    "                     '0008|0060' : 'Modality: ',\n",
    "                     '0008|0021' : 'Series date: ',\n",
    "                     '0008|0080' : 'Institution name: ',\n",
    "                     '0008|1050' : 'Performing physician\\'s name: '}\n",
    "    for tag in tags_to_print:\n",
    "        try:\n",
    "            print(tags_to_print[tag] + img.GetMetaData(tag))\n",
    "        except: # Ignore if the tag isn't in the dictionary\n",
    "            pass\n",
    "    selected_series = series_to_load                    \n",
    "\n",
    "# Directory contains multiple DICOM studies/series, store\n",
    "             # in dictionary with key being the series ID\n",
    "reader = sitk.ImageSeriesReader()\n",
    "series_file_names = {}\n",
    "series_IDs = reader.GetGDCMSeriesIDs(data_directory)\n",
    "            # Check that we have at least one series\n",
    "if series_IDs:\n",
    "    for series in series_IDs:\n",
    "        series_file_names[series] = reader.GetGDCMSeriesFileNames(data_directory, series)\n",
    "    \n",
    "    interact(DICOM_series_dropdown_callback, series_to_load=list(series_IDs), series_dictionary=fixed(series_file_names)); \n",
    "else:\n",
    "    print('Data directory does not contain any DICOM series.')"
   ]
  },
  {
   "cell_type": "markdown",
   "metadata": {},
   "source": [
    "We have see this function earlier.  While we typically think an image (such as a .jpeg or .png) or a volume (such as .mhd) is contained in a single file, some [DICOM](https://en.wikipedia.org/wiki/DICOM) files are contained in a series of files, each of which needs to be read indivisually. Each file series is typically stored under the same directory (folder).\n",
    "\n",
    "The python script above allows us to select the name (ID) of a series, and read all DICOME series under that directory (ID). It would return a 3D volume instead (of a series of 2D images).\n",
    "\n",
    "The drop-down menu has 3 options: 1 is CT, the other 2 are MRI volume. **Select the CT volume**, which contains the CT of a rib cage phantom."
   ]
  },
  {
   "cell_type": "code",
   "execution_count": null,
   "metadata": {},
   "outputs": [],
   "source": [
    "reader.SetFileNames(series_file_names[selected_series])\n",
    "vol = reader.Execute()\n",
    "# Display the image slice from the middle of the stack, z axis\n",
    "z = int(vol.GetDepth()/2)\n",
    "plt.imshow(sitk.GetArrayViewFromImage(vol)[z,:,:], cmap=plt.cm.Greys_r)\n",
    "plt.axis('off');"
   ]
  },
  {
   "cell_type": "markdown",
   "metadata": {},
   "source": [
    "what it looks like in 3D:\n",
    "\n",
    "Transverse view:\n",
    "<img src=\"rib_cage_transverse.png\" style=\"width:500px\"/><br><br>\n",
    "Oblique view:\n",
    "<img src=\"rib_cage_obliquepng.png\" style=\"width:500px\"/><br><br>"
   ]
  },
  {
   "cell_type": "markdown",
   "metadata": {},
   "source": [
    "Let us take a look at the histogram of this slice."
   ]
  },
  {
   "cell_type": "code",
   "execution_count": null,
   "metadata": {},
   "outputs": [],
   "source": [
    "# plt.hist(sitk.GetArrayViewFromImage(vol)[z,:,:])\n",
    "plt.figure()\n",
    "plt.hist(sitk.GetArrayViewFromImage(vol)[z,:,:])\n",
    "plt.title(\"Histogram\")\n",
    "plt.show()"
   ]
  },
  {
   "cell_type": "markdown",
   "metadata": {},
   "source": [
    "You can try to generate the histogram for the entire 3D volume. It will probably take a long time"
   ]
  },
  {
   "cell_type": "markdown",
   "metadata": {},
   "source": [
    "**Question**: What is the command (slicing operation) to generate the histogram for the entire volume?"
   ]
  },
  {
   "cell_type": "markdown",
   "metadata": {},
   "source": [
    "[**Hounsfield scale**](https://en.wikipedia.org/wiki/Hounsfield_scale), or **CT number**, is a quantitative scale for describing radiodensity. When we read a CT volume, the number associated with each voxel is stored in the Hounsfield scale: The Hounsfield scale of distilled water at standared pressure and temperature (STP) is defined as `zero` Hounsfield unit (HU), while the radiodensity of air at STP is defined at -1000 HU."
   ]
  },
  {
   "cell_type": "code",
   "execution_count": null,
   "metadata": {},
   "outputs": [],
   "source": [
    "img = vol[:,:,z]\n",
    "# plt.show(img)"
   ]
  },
  {
   "cell_type": "code",
   "execution_count": null,
   "metadata": {},
   "outputs": [],
   "source": [
    "sitk.Show(img)\n",
    "help(sitk.Threshold)"
   ]
  },
  {
   "cell_type": "markdown",
   "metadata": {},
   "source": [
    "One notable difference using ImageJ to display the image, instead of using plt, is that the image is displayed at its native (pixel) size."
   ]
  },
  {
   "cell_type": "code",
   "execution_count": null,
   "metadata": {},
   "outputs": [],
   "source": [
    "segImg = sitk.Threshold(img, 200, 600, 0)\n",
    "sitk.Show(segImg)"
   ]
  },
  {
   "cell_type": "markdown",
   "metadata": {},
   "source": [
    "now save the result into a file. The pipeline will look like this:\n",
    "    \n",
    "<img src=\"readThresholdWritePipeline.png\" style=\"width:800px\"/><br><br>"
   ]
  },
  {
   "cell_type": "code",
   "execution_count": null,
   "metadata": {},
   "outputs": [],
   "source": [
    "# the complete image thredholding program\n",
    "reader.SetFileNames(series_file_names[selected_series])\n",
    "vol = reader.Execute()\n",
    "segVol = sitk.Threshold(vol, 200, 600, 0)\n",
    "sitk.WriteImage(vol, os.path.join(OUTPUT_DIR, 'segmentedCT.nrrd'))"
   ]
  },
  {
   "cell_type": "markdown",
   "metadata": {},
   "source": [
    "Just for interest, let us take a look at the histogram of the segmented image"
   ]
  },
  {
   "cell_type": "code",
   "execution_count": null,
   "metadata": {},
   "outputs": [],
   "source": [
    "plt.figure()\n",
    "# plt.hist(sitk.GetArrayViewFromImage(segVol)[z,:,:])\n",
    "plt.hist( segImg )\n",
    "plt.title(\"Histogram\")\n",
    "plt.xlabel(\"Pixel Intensity\")\n",
    "plt.ylabel(\"Occurance\")\n",
    "plt.show()"
   ]
  },
  {
   "cell_type": "code",
   "execution_count": null,
   "metadata": {},
   "outputs": [],
   "source": [
    "help( plt.xlabel)"
   ]
  },
  {
   "cell_type": "markdown",
   "metadata": {},
   "source": [
    "# Gaussian filter (Image smoothing example)\n",
    "\n",
    "Let us write a complete program using the following pipeline:\n",
    "<img src=\"gaussianPipeline.png\" style=\"width:800px\"/><br><br>"
   ]
  },
  {
   "cell_type": "markdown",
   "metadata": {},
   "source": [
    "**Let us be a bit more interactive**: \n",
    "* Take a picture and upload it to your computer.\n",
    "* Move the file to the Jupyter Notebook directory\n",
    "* **What is the command to load this file into python/SimpleITK?**"
   ]
  },
  {
   "cell_type": "code",
   "execution_count": null,
   "metadata": {},
   "outputs": [],
   "source": [
    "# INSERT CODE HERE\n",
    "\n",
    "# load the image, and save it to a variable named `img`"
   ]
  },
  {
   "cell_type": "code",
   "execution_count": null,
   "metadata": {},
   "outputs": [],
   "source": [
    "pixelID = img.GetPixelIDValue() # why are we doing this?"
   ]
  },
  {
   "cell_type": "code",
   "execution_count": null,
   "metadata": {},
   "outputs": [],
   "source": [
    "gaussian = sitk.SmoothingRecursiveGaussianImageFilter()"
   ]
  },
  {
   "cell_type": "code",
   "execution_count": null,
   "metadata": {},
   "outputs": [],
   "source": [
    "help(sitk.SmoothingRecursiveGaussianImageFilter)"
   ]
  },
  {
   "cell_type": "code",
   "execution_count": null,
   "metadata": {},
   "outputs": [],
   "source": [
    "help(sitk.SmoothingRecursiveGaussianImageFilter.SetSigma)"
   ]
  },
  {
   "cell_type": "code",
   "execution_count": null,
   "metadata": {},
   "outputs": [],
   "source": [
    "gaussian.SetSigma( 5 )\n",
    "outImg = gaussian.Execute( img )\n",
    "def myshow(img):\n",
    "    nda = sitk.GetArrayViewFromImage(img)\n",
    "    plt.imshow(nda, cmap=plt.cm.Greys_r)\n",
    "myshow(outImg)"
   ]
  },
  {
   "cell_type": "markdown",
   "metadata": {},
   "source": [
    "Adjust the Sigma value, and observe how it effect the smoothing appearance.\n",
    "\n",
    "Once you are satisfied, save the image to a file."
   ]
  },
  {
   "cell_type": "code",
   "execution_count": null,
   "metadata": {},
   "outputs": [],
   "source": [
    "sitk.WriteImage( sitk.Cast( outImg, pixelID ), 'smoothImage.png')"
   ]
  }
 ],
 "metadata": {
  "kernelspec": {
   "display_name": "Python 3",
   "language": "python",
   "name": "python3"
  },
  "language_info": {
   "codemirror_mode": {
    "name": "ipython",
    "version": 3
   },
   "file_extension": ".py",
   "mimetype": "text/x-python",
   "name": "python",
   "nbconvert_exporter": "python",
   "pygments_lexer": "ipython3",
   "version": "3.6.8"
  },
  "widgets": {
   "state": {
    "1dabe1bc93264a8e9866b8ae41e6355a": {
     "views": [
      {
       "cell_index": 11
      }
     ]
    }
   },
   "version": "1.2.0"
  }
 },
 "nbformat": 4,
 "nbformat_minor": 2
}
