{
 "cells": [
  {
   "cell_type": "markdown",
   "metadata": {},
   "source": [
    "<h1 align=\"center\">Advanced Image Processing and Analysis</h1>\n",
    "<h3 align=\"center\">ECE 4438B/ECE 9022/ECE 9202B/BIOMED 9519B/BIOPHYS 9519B/CAMI 9519B</h3>\n",
    "<h4 align=\"center\"><a href=\"mailto:echen29@uwo.ca?subject=Day 19: Transformation\"> Elvis Chen, PhD, LL</a></h4>\n",
    "<h4 align=\"center\">Day 19, March 18, 2019</h4>"
   ]
  },
  {
   "cell_type": "markdown",
   "metadata": {},
   "source": [
    "<h1 align=\"center\">SimpleITK Spatial Transformations</h1>\n",
    "\n",
    "### Introduction\n",
    "\n",
    "Transform, in the simplest term, is how we want to manipulate the image on a pixel-by-pixel basis in space. Perhaps the simplest transform, and one we have already encountered, is translation:\n",
    "\n",
    "<img src=\"translation_transformation.png\" width=\"850\"/>\n",
    "\n",
    "If an image is $2$D, then we have $2$ Degrees-of-Freedom (DoF) to translate an image. If we have a 3D volume, there are 3-DoF to translate a volume.\n",
    "\n",
    "But what does it mean exactly to translate an image?"
   ]
  },
  {
   "cell_type": "code",
   "execution_count": null,
   "metadata": {},
   "outputs": [],
   "source": [
    "import SimpleITK as sitk\n",
    "\n",
    "import matplotlib.pyplot as plt\n",
    "%matplotlib inline \n",
    "\n",
    "%run update_path_to_download_script\n",
    "from downloaddata import fetch_data as fdata\n",
    "import gui\n",
    "##import registration_gui as rgui\n",
    "%matplotlib notebook\n",
    "\n",
    "import numpy as np\n",
    "import os\n",
    "OUTPUT_DIR = 'output'"
   ]
  },
  {
   "cell_type": "code",
   "execution_count": null,
   "metadata": {},
   "outputs": [],
   "source": [
    "# let us read an image and take a closer look at it:\n",
    "\n",
    "# the fixed image, read the file and store it as sitkFloat32\n",
    "fixedImage = sitk.ReadImage('BrainProtonDensitySliceBorder20.png', sitk.sitkFloat32 )\n",
    "print(fixedImage.GetOrigin())\n",
    "print(fixedImage.GetSpacing())\n",
    "print(fixedImage.GetDirection())"
   ]
  },
  {
   "cell_type": "markdown",
   "metadata": {},
   "source": [
    "\n",
    "The unique feature of SimpleITK (derived from ITK) as a toolkit for image manipulation and analysis is that it views <b>images as physical objects occupying a bounded region in physical space</b>. In addition images can have different spacing between pixels along each axis, and the axes are not necessarily orthogonal. The following figure illustrates these concepts. \n",
    "\n",
    "<img src=\"ImageOriginAndSpacing.png\" style=\"width:700px\"/><br><br>"
   ]
  },
  {
   "cell_type": "markdown",
   "metadata": {},
   "source": [
    "For most of the $2$D images we typically acquire, such as those taken from your cell phone camera, the concept of image origin, pixel spacing, and direction may not be appearent. In the context of medical imaging, however, these images/volumes are often specified with respect to the imaging scanner. In these scenario, \n",
    "\n",
    "* The beginning of an image/volume (first pixel/voxel) may not necessarily be $(0,0)$,\n",
    "* The spacing denotes the pixe/voxel size, which associate the size of the image with a physical unit,\n",
    "* The orientation of the image/volume may not necessary be aligned (orthogonal) to the scanner, i.e. GetDirection() may not return an identity matrix.\n"
   ]
  },
  {
   "cell_type": "markdown",
   "metadata": {},
   "source": [
    "So what does transformation really mean?\n",
    "\n",
    "For the moment, assumes the following:\n",
    "* The pixel size is 1,\n",
    "* The orientation of the image is aligned with the axis, and\n",
    "* the image origin is at $(0,0)$\n",
    "\n",
    "then\n",
    "\n",
    "<img src=\"ImageCoordinates.png\" style=\"width:700px\"/><br><br>\n",
    "\n",
    "Thus, for example, a pixel with index of $(4,3)$ is also in the physical space of $(4,3)$."
   ]
  },
  {
   "cell_type": "markdown",
   "metadata": {},
   "source": [
    "Suppose the image origin is somewhere else, say $(4,2)$, but it the orientatil is till aligned with the physical axis:\n",
    "\n",
    "<img src=\"ImageCoordinates_Translation.png\" style=\"width:700px\"/><br><br>\n",
    "\n",
    "Then the pixel with the index of $(4,3)$ is now located at $(8,5)$.\n",
    "\n",
    "How is it calculated?"
   ]
  },
  {
   "cell_type": "markdown",
   "metadata": {},
   "source": [
    "#### Linear algebra\n",
    "\n",
    "#### Translation\n",
    "If we represent the pixel indices and image origin as vectors:\n",
    "\n",
    "$ imageOrigin = \\begin{bmatrix} 4\\\\2\\end{bmatrix} $ and\n",
    "\n",
    "$ pixel = \\begin{bmatrix} 4\\\\3\\end{bmatrix} $\n",
    "\n",
    "then\n",
    "$  \\begin{bmatrix} 4\\\\2\\end{bmatrix} + \\begin{bmatrix} 4\\\\3\\end{bmatrix} = \\begin{bmatrix} 8\\\\5\\end{bmatrix}$"
   ]
  },
  {
   "cell_type": "markdown",
   "metadata": {},
   "source": [
    "#### Rotation\n",
    "\n",
    "Suppose we have an image that is rotated by $90^\\circ$ about the origin, then\n",
    "\n",
    "<img src=\"ImageCoordinates_Rotation.png\" style=\"width:700px\"/><br><br>\n",
    "\n",
    "Note that \n",
    "* the **positive** x-axis of the image is now aligned with the **positive** y-axis of the physical coordinate\n",
    "* the **positive** y-axis of the image is now aligned with the **negative** x-axis of the physical coordinate\n",
    "\n",
    "We we represent this orientation by\n",
    "$\\begin{pmatrix} 0 & -1\\\\1 & 0\\end{pmatrix} $ and\n",
    "\n",
    "$\\begin{pmatrix} 0 & -1\\\\1 & 0\\end{pmatrix}  \\begin{bmatrix} 4\\\\3\\end{bmatrix} = \\begin{bmatrix} -3\\\\4\\end{bmatrix} $\n",
    "\n",
    "In terms of linear algebra, the matrix $\\begin{pmatrix} 0 & -1\\\\1 & 0\\end{pmatrix}$ is the **rotational** matrix. For a proper rotational matrix, it has the following properties:\n",
    "* The determinant of the matrix is $1$,\n",
    "* Each row and each column is an unit vector, and\n",
    "* Each row and each column is perpendicular to each other, i.e. the dot product between any row/colume is $0$."
   ]
  },
  {
   "cell_type": "markdown",
   "metadata": {},
   "source": [
    "#### Rotation followed by Translation\n",
    "\n",
    "Suppose after the above rotation ($90^\\circ$ about the origin), we then followed by a translation of $\\begin{bmatrix} 5\\\\1\\end{bmatrix}$\n",
    "\n",
    "<img src=\"ImageCoordinates_Rotation_Translation.png\" style=\"width:700px\"/><br><br>\n",
    "\n",
    "Where is the pixel with the index $(4,3)$ now located in the physical space?\n",
    "\n",
    "After the rotation, it is located at:\n",
    "$\\begin{pmatrix} 0 & -1\\\\1 & 0\\end{pmatrix}  \\begin{bmatrix} 4\\\\3\\end{bmatrix} = \\begin{bmatrix} -3\\\\4\\end{bmatrix} $\n",
    "\n",
    "After the translation, it is now located at:\n",
    "$\\begin{bmatrix} -3\\\\4\\end{bmatrix} + \\begin{bmatrix} 5\\\\1\\end{bmatrix} = \\begin{bmatrix} 2\\\\5\\end{bmatrix}$\n",
    "\n",
    "If we are working in the **homogeneous coordinate system**, we can encapsulate these two operations using a common matrix operation: multiplication.\n",
    "\n",
    "**Translation**:\n",
    "\n",
    "$\\begin{bmatrix} 1 & 0 & t_x\\\\ 0 & 1 & t_y\\\\ 0 & 0 & 1\\end{bmatrix}$\n",
    "\n",
    "\n",
    "**Rotation**:\n",
    "\n",
    "$\\begin{bmatrix} R_{2 \\times 2} & 0_{2 \\times 1} \\\\ 0_{1 \\times 2}  & 1\\end{bmatrix}$\n",
    "\n",
    "Then to compute the physical location of a pixel indexed at $(p_x,p_y)$:\n",
    "\n",
    "$\\begin{bmatrix}p^{'}_{x} \\\\ p^{'}_{y} \\\\1\\end{bmatrix} = \\begin{bmatrix} 1 & 0 & t_x\\\\ 0 & 1 & t_y\\\\ 0 & 0 & 1\\end{bmatrix} \\begin{bmatrix} R_{2 \\times 2} & 0_{2 \\times 1} \\\\ 0_{1 \\times 2}  & 1\\end{bmatrix}   \\begin{bmatrix} p_x\\\\p_y\\\\1\\end{bmatrix}$"
   ]
  },
  {
   "cell_type": "markdown",
   "metadata": {},
   "source": [
    "Using the above example:\n",
    "\n",
    "$\\begin{bmatrix}2 \\\\ 5 \\\\1\\end{bmatrix} = \\begin{bmatrix} 1 & 0 & 5\\\\ 0 & 1 & 1\\\\ 0 & 0 & 1\\end{bmatrix} \\begin{bmatrix} 0 & -1 & 0\\\\1 & 0 & 0\\\\0 & 0 & 1\\end{bmatrix}   \\begin{bmatrix} 4\\\\3\\\\1\\end{bmatrix}$\n",
    "\n",
    "or\n",
    "\n",
    "\n",
    "$\\begin{bmatrix}2 \\\\ 5 \\\\1\\end{bmatrix} =  \\begin{bmatrix} 0 & -1 & 5\\\\1 & 0 & 1\\\\0 & 0 & 1\\end{bmatrix}   \\begin{bmatrix} 4\\\\3\\\\1\\end{bmatrix}$\n",
    "\n",
    "\n",
    "**Question**: Do you see a structure here?"
   ]
  },
  {
   "cell_type": "markdown",
   "metadata": {},
   "source": [
    "#### Translation followed by Rotation\n",
    "\n",
    "Matrix multiplication is not communicative.  If we are to translate an image first, followed by rotation, in general the image will not end up in the same place ass if we were to rotation it (by the same amount) followed by translation:\n",
    "\n",
    "<img src=\"ImageCoordinates_Translation_Rotation.png\" style=\"width:700px\"/><br><br>\n",
    "\n",
    "Go through the mental exercise why this is.\n",
    "\n",
    "Mathematicall, we can calculate it as:\n",
    "\n",
    "\n",
    "$\\begin{bmatrix}-4 \\\\ 9 \\\\1\\end{bmatrix} =  \\begin{bmatrix} 0 & -1 & 0\\\\1 & 0 & 0\\\\0 & 0 & 1\\end{bmatrix} \\begin{bmatrix} 1 & 0 & 5\\\\ 0 & 1 & 1\\\\ 0 & 0 & 1\\end{bmatrix}  \\begin{bmatrix} 4\\\\3\\\\1\\end{bmatrix}$\n",
    "\n",
    "or\n",
    "\n",
    "$\\begin{bmatrix}-4 \\\\ 9 \\\\1\\end{bmatrix} =  \\begin{bmatrix} 0 & -1 & -1\\\\1 & 0 & 5\\\\0 & 0 & 1\\end{bmatrix}  \\begin{bmatrix} 4\\\\3\\\\1\\end{bmatrix}$"
   ]
  },
  {
   "cell_type": "markdown",
   "metadata": {},
   "source": [
    "#### Rigid Body Transformation\n",
    "\n",
    "Regardless whether we preform roation, or translation, first, we always end up with a matrix in the generic form of:\n",
    "\n",
    "$p^{'} = \\begin{bmatrix}R & t \\\\ 0 & 1\\end{bmatrix} p$\n",
    "\n",
    "Because this transform does **not** change the distance between two points after the transformation is applied, we term it as a rigid body transformation. The important property:\n",
    "\n",
    "* the determinant of the top-left $n\\times n$ part of the matrix has a determinant of $1$."
   ]
  },
  {
   "cell_type": "code",
   "execution_count": null,
   "metadata": {},
   "outputs": [],
   "source": [
    "# the moving image, read the file and store it as sitkFloat32\n",
    "movingImage = sitk.ReadImage('BrainProtonDensitySliceR10X13Y17.png', sitk.sitkFloat32 )"
   ]
  },
  {
   "cell_type": "code",
   "execution_count": null,
   "metadata": {},
   "outputs": [],
   "source": [
    "# define an utility function to display 2 2D images side-by-side\n",
    "\n",
    "def display_2D_Images( fixed_npa, moving_npa ):\n",
    "    # create a figure with two subplots and the specified size\n",
    "    plt.subplots( 1, 2, figsize=( 10, 8 ) )\n",
    "    \n",
    "    # draw the fixed image in the first (left) subplot\n",
    "    plt.subplot( 1, 2, 1 )\n",
    "    plt.imshow( sitk.GetArrayViewFromImage(fixed_npa), cmap=plt.cm.Greys_r )\n",
    "    plt.title( 'Fixed Image' )\n",
    "    plt.axis( 'off' )\n",
    "    \n",
    "    # draw the moving image in the second (right) subplot\n",
    "    plt.subplot( 1, 2, 2 )\n",
    "    plt.imshow( sitk.GetArrayViewFromImage(moving_npa), cmap=plt.cm.Greys_r )\n",
    "    plt.title( 'Moving Image' )\n",
    "    plt.axis( 'off' )\n",
    "    \n",
    "    plt.show()"
   ]
  },
  {
   "cell_type": "code",
   "execution_count": null,
   "metadata": {},
   "outputs": [],
   "source": [
    "# now, we visualize these images before registration\n",
    "display_2D_Images( fixedImage, movingImage )"
   ]
  },
  {
   "cell_type": "code",
   "execution_count": null,
   "metadata": {},
   "outputs": [],
   "source": [
    "import matplotlib.pyplot as plt\n",
    "%matplotlib inline\n",
    "\n",
    "from ipywidgets import interact, fixed\n",
    "from IPython.display import clear_output\n",
    "\n",
    "# Callback invoked by the interact IPython method for scrolling through the image stacks of\n",
    "# the two images (moving and fixed).\n",
    "def display_images(fixed_image_z, moving_image_z, fixed_npa, moving_npa):\n",
    "    # Create a figure with two subplots and the specified size.\n",
    "    plt.subplots(1,2,figsize=(10,8))\n",
    "    \n",
    "    # Draw the fixed image in the first subplot.\n",
    "    plt.subplot(1,2,1)\n",
    "    plt.imshow(fixed_npa[fixed_image_z,:,:],cmap=plt.cm.Greys_r);\n",
    "    plt.title('fixed image')\n",
    "    plt.axis('off')\n",
    "    \n",
    "    # Draw the moving image in the second subplot.\n",
    "    plt.subplot(1,2,2)\n",
    "    plt.imshow(moving_npa[moving_image_z,:,:],cmap=plt.cm.Greys_r);\n",
    "    plt.title('moving image')\n",
    "    plt.axis('off')\n",
    "    \n",
    "    plt.show()\n",
    "\n",
    "# Callback invoked by the IPython interact method for scrolling and modifying the alpha blending\n",
    "# of an image stack of two images that occupy the same physical space. \n",
    "def display_images_with_alpha(image_z, alpha, fixed, moving):\n",
    "    img = (1.0 - alpha)*fixed[:,:,image_z] + alpha*moving[:,:,image_z] \n",
    "    plt.imshow(sitk.GetArrayViewFromImage(img),cmap=plt.cm.Greys_r);\n",
    "    plt.axis('off')\n",
    "    plt.show()\n",
    "    \n",
    "# Callback invoked when the StartEvent happens, sets up our new data.\n",
    "def start_plot():\n",
    "    global metric_values, multires_iterations\n",
    "    \n",
    "    metric_values = []\n",
    "    multires_iterations = []\n",
    "\n",
    "# Callback invoked when the EndEvent happens, do cleanup of data and figure.\n",
    "def end_plot():\n",
    "    global metric_values, multires_iterations\n",
    "    \n",
    "    del metric_values\n",
    "    del multires_iterations\n",
    "    # Close figure, we don't want to get a duplicate of the plot latter on.\n",
    "    plt.close()\n",
    "\n",
    "# Callback invoked when the IterationEvent happens, update our data and display new figure.    \n",
    "def plot_values(registration_method):\n",
    "    global metric_values, multires_iterations\n",
    "    \n",
    "    metric_values.append(registration_method.GetMetricValue())                                       \n",
    "    # Clear the output area (wait=True, to reduce flickering), and plot current data\n",
    "    clear_output(wait=True)\n",
    "    # Plot the similarity metric values\n",
    "    plt.plot(metric_values, 'r')\n",
    "    plt.plot(multires_iterations, [metric_values[index] for index in multires_iterations], 'b*')\n",
    "    plt.xlabel('Iteration Number',fontsize=12)\n",
    "    plt.ylabel('Metric Value',fontsize=12)\n",
    "    plt.show()\n",
    "    \n",
    "# Callback invoked when the sitkMultiResolutionIterationEvent happens, update the index into the \n",
    "# metric_values list. \n",
    "def update_multires_iterations():\n",
    "    global metric_values, multires_iterations\n",
    "    multires_iterations.append(len(metric_values)) "
   ]
  },
  {
   "cell_type": "code",
   "execution_count": null,
   "metadata": {},
   "outputs": [],
   "source": [
    "registration_method = sitk.ImageRegistrationMethod()\n",
    "\n",
    "# Similarity metric settings,\n",
    "registration_method.SetMetricAsMeanSquares()\n",
    "\n",
    "# interpolator\n",
    "registration_method.SetInterpolator( sitk.sitkLinear )\n",
    "\n",
    "# Optimizer setting\n",
    "maxStep = 4.0\n",
    "minStep = 0.01\n",
    "numberOfIterations = 200\n",
    "relaxationFactor = 0.5\n",
    "registration_method.SetOptimizerAsRegularStepGradientDescent( maxStep, minStep, numberOfIterations, relaxationFactor )\n",
    "\n",
    "# transform\n",
    "#initial_transform = sitk.TranslationTransform( fixedImage.GetDimension() )\n",
    "initial_transform = sitk.Euler2DTransform()\n",
    "#initial_transform.SetCenter( [110.5, 128.5] )\n",
    "\n",
    "# 1st option relates to rotation\n",
    "#registration_method.SetOptimizerScales( [1.0/0.35, 1.0/100.0, 1.0/100.0] )\n",
    "\n",
    "registration_method.SetInitialTransform( initial_transform )\n",
    "\n",
    "# Connect all of the observers so that we can perform plotting during registration.\n",
    "\n",
    "#\n",
    "# the registration_gui does not work for some reasons, so we use an alternative\n",
    "#registration_method.AddCommand(sitk.sitkStartEvent, rgui.start_plot)\n",
    "#registration_method.AddCommand(sitk.sitkEndEvent, rgui.end_plot)\n",
    "#registration_method.AddCommand(sitk.sitkMultiResolutionIterationEvent, rgui.update_multires_iterations) \n",
    "#registration_method.AddCommand(sitk.sitkIterationEvent, lambda: rgui.plot_values(registration_method))\n",
    "\n",
    "# Connect all of the observers so that we can perform plotting during registration.\n",
    "registration_method.AddCommand(sitk.sitkStartEvent, start_plot)\n",
    "registration_method.AddCommand(sitk.sitkEndEvent, end_plot)\n",
    "registration_method.AddCommand(sitk.sitkMultiResolutionIterationEvent, update_multires_iterations) \n",
    "registration_method.AddCommand(sitk.sitkIterationEvent, lambda: plot_values(registration_method))\n",
    "\n",
    "\n",
    "final_transform = registration_method.Execute( fixedImage, movingImage )\n",
    "\n",
    "# Always check the reason optimization terminated.\n",
    "print('Final metric value: {0}'.format(registration_method.GetMetricValue()))\n",
    "print('Optimizer\\'s stopping condition, {0}'.format(registration_method.GetOptimizerStopConditionDescription()))"
   ]
  },
  {
   "cell_type": "code",
   "execution_count": null,
   "metadata": {},
   "outputs": [],
   "source": [
    "moving_resamples = sitk.Resample( movingImage, final_transform, sitk.sitkLinear, 0.0, movingImage.GetPixelID() )\n",
    "display_2D_Images( fixedImage, moving_resamples )"
   ]
  },
  {
   "cell_type": "code",
   "execution_count": null,
   "metadata": {},
   "outputs": [],
   "source": [
    "print(final_transform)\n",
    "\n",
    "\n",
    "# if we are satisfied with the result, save the transform\n",
    "sitk.WriteTransform( final_transform, os.path.join( OUTPUT_DIR, 'Euler2D.tfm' ))"
   ]
  },
  {
   "cell_type": "markdown",
   "metadata": {},
   "source": [
    "At first attemp, it appears that there is something wrong. The registration returns a metric of $0$ and did not proceed.\n",
    "\n",
    "Remove the '#' sign from the transformation and to set the center of rotation, and run the registration again. What's happening?"
   ]
  },
  {
   "cell_type": "markdown",
   "metadata": {},
   "source": [
    "**It doesn't quite work still!!** \n",
    "\n",
    "* why?\n",
    "* remove the '#' sign from optimization scale and try again"
   ]
  },
  {
   "cell_type": "markdown",
   "metadata": {},
   "source": [
    "<a href=\"AIP_Day_19_Rigid_Spatial_Transformation.ipynb\"><h2 align=right>Next &raquo;</h2></a>"
   ]
  }
 ],
 "metadata": {
  "kernelspec": {
   "display_name": "Python 3",
   "language": "python",
   "name": "python3"
  },
  "language_info": {
   "codemirror_mode": {
    "name": "ipython",
    "version": 3
   },
   "file_extension": ".py",
   "mimetype": "text/x-python",
   "name": "python",
   "nbconvert_exporter": "python",
   "pygments_lexer": "ipython3",
   "version": "3.6.8"
  }
 },
 "nbformat": 4,
 "nbformat_minor": 2
}
