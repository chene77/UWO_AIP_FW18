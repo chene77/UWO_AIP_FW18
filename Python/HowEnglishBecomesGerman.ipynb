{
 "cells": [
  {
   "cell_type": "markdown",
   "metadata": {},
   "source": [
    "## How English becomes German\n",
    "\n",
    "courtesy of [Luminus](https://luminusdadon.wordpress.com/2006/05/04/how-english-becomes-german/)\n",
    "\n",
    "The European Commission has just announced an agreement whereby English will be the official language of the European Union rather than German, which was the other possibility.\n",
    " \n",
    "As part of the negotiations, the British Government conceded that English spelling had some room for improvement and has accepted a 5- year phase-in plan that would become known as \"Euro-English\".\n",
    " \n",
    "In the first year, \"s\" will replace the soft \"c\". Sertainly, this will make the sivil servants jump with joy. The hard \"c\" will be dropped in favour of \"k\". This should klear up konfusion, and keyboards kan have one less letter. There will be growing publik enthusiasm in the sekond year when the troublesome \"ph\" will be replaced with \"f\". This will make words like fotograf 20% shorter.\n",
    " \n",
    "In the 3rd year, publik akseptanse of the new spelling kan be expekted to reach the stage where more komplikated changes are possible. Governments will enkourage the removal of double letters which have always ben a deterent to akurate speling. Also, al wil agre that the horibl mes of the silent \"e\" in the languag is disgrasful and it should go away.\n",
    " \n",
    "By the 4th yer people wil be reseptiv to steps such as replasing \"th\" with \"z\" and \"w\" with \"v\".\n",
    " \n",
    "During ze fifz yer, ze unesesary \"o\" kan be dropd from vords kontaining \"ou\" and after ziz fifz yer, ve vil hav a reil sensibl riten styl. Zer vil be no mor trubl or difikultis and evrivun vil find it ezi tu understand ech oza. Ze drem of a united urop vil finali kum tru.\n",
    " \n",
    "Und efter ze fifz yer, ve vil al be speking German like zey vunted in ze forst plas.\n",
    " \n",
    "If zis mad you smil, pleas pas on to oza pepl."
   ]
  },
  {
   "cell_type": "markdown",
   "metadata": {},
   "source": [
    "### Joking aside, why am I showing this?"
   ]
  }
 ],
 "metadata": {
  "kernelspec": {
   "display_name": "Python 3",
   "language": "python",
   "name": "python3"
  },
  "language_info": {
   "codemirror_mode": {
    "name": "ipython",
    "version": 3
   },
   "file_extension": ".py",
   "mimetype": "text/x-python",
   "name": "python",
   "nbconvert_exporter": "python",
   "pygments_lexer": "ipython3",
   "version": "3.4.5"
  }
 },
 "nbformat": 4,
 "nbformat_minor": 2
}
