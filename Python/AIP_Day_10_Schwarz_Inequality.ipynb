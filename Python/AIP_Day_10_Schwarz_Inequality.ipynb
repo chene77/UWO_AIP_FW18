{
 "cells": [
  {
   "cell_type": "markdown",
   "metadata": {},
   "source": [
    "<h1 align=\"center\">Advanced Image Processing and Analysis</h1>\n",
    "<h3 align=\"center\">ECE 4438B/ECE 9022/ECE 9202B/BIOMED 9519B/BIOPHYS 9519B/CAMI 9519B</h3>\n",
    "<h4 align=\"center\"><a href=\"mailto:echen29@uwo.ca\"> Elvis Chen, PhD, LL</a></h4>\n",
    "<h4 align=\"center\">Day 10, February 05, 2019</h4>"
   ]
  },
  {
   "cell_type": "markdown",
   "metadata": {},
   "source": [
    "## Introduction\n",
    "\n",
    "During our derivation for the least-square solution for the Orthogonal Procrustes Analysis problem, we had to rely on the [Schwarz inequality](https://en.wikipedia.org/wiki/Cauchy%E2%80%93Schwarz_inequality),  which states that for all vectors $u$ and $v$ of an inner product space it is true that:\n",
    "\n",
    "$|<u,v>| \\le \\lVert u\\rVert \\lVert v\\rVert$\n",
    "\n",
    "where $<\\cdot,\\cdot>$ is the [inner product](https://en.wikipedia.org/wiki/Inner_product_space), such as the [dot product](https://en.wikipedia.org/wiki/Dot_product), $| \\cdot |$ is the absolute value, and $\\lVert \\cdot \\rVert$ is the vector norms.\n",
    "\n",
    "We now introduce a simple proof for it."
   ]
  },
  {
   "cell_type": "markdown",
   "metadata": {},
   "source": [
    "### Step 1\n",
    "\n",
    "The proof below uses the dot product, but should be applicable for any other inner products.\n",
    "\n",
    "Noticed that, \n",
    "\n",
    "$\\forall t \\in R$\n",
    "\n",
    "$(u + t v) \\cdot (u + t v) \\ge 0$, the dot-product of a vector with itself is always positive.\n",
    "\n",
    "Expand the term, we have\n",
    "\n",
    "$u \\cdot u + u \\cdot (t v ) + (t v) \\cdot u + (t v) \\cdot (t v) \\ge 0$\n",
    "\n",
    "$\\lVert u \\rVert^2 + 2 t ( u \\cdot v) + t^2 \\lVert v \\rVert^2 \\ge 0$\n",
    "\n",
    "$\\lVert v \\rVert^2 t^2+ 2  ( u \\cdot v) t + \\lVert u \\rVert^2 \\ge 0$ \n",
    "\n",
    "which is a quadratic function in $t$."
   ]
  },
  {
   "cell_type": "markdown",
   "metadata": {},
   "source": [
    "### Step 2\n",
    "\n",
    "Thus, we have transformed this proof as a quadratic function. Let\n",
    "\n",
    "$a = \\lVert v \\rVert^2$\n",
    "\n",
    "$b = 2 ( u \\cdot v)$\n",
    "\n",
    "$c=\\lVert u \\rVert^2$\n",
    "\n",
    "we have\n",
    "\n",
    "$ a t^2 + b t + c \\ge 0$\n",
    "\n",
    "And the **discriminant** D is:\n",
    "\n",
    "$D = b^2 - 4 a c$"
   ]
  },
  {
   "cell_type": "markdown",
   "metadata": {},
   "source": [
    "There are 3 cases for $D$:\n",
    "\n",
    "- if $D<0$, there is no root (zero crossing), or\n",
    "- if $D=0$, there is exactly 1 root, or\n",
    "- if $D>0$, there are two roots.\n",
    "\n",
    "**HOWEVER**, if $D>0$ it means some part of the quadratic function is below zero, which cannot be true.\n",
    "\n",
    "Therefore, $D \\le 0$."
   ]
  },
  {
   "cell_type": "markdown",
   "metadata": {},
   "source": [
    "### Step 3\n",
    "\n",
    "$b^2 - 4 a c \\le 0$\n",
    "\n",
    "$b^2 \\le 4 a c$\n",
    "\n",
    "Substitute $a$, $b$, $c$ back:\n",
    "\n",
    "$(2 (u \\cdot v))^2 \\le 4 \\lVert u\\rVert^2 \\lVert v\\rVert^2$\n",
    "\n",
    "$4 (u \\cdot v)^2 \\le 4 \\lVert u\\rVert^2 \\lVert v\\rVert^2$\n",
    "\n",
    "$(u \\cdot v)^2 \\le \\lVert u\\rVert^2 \\lVert v\\rVert^2$, and taking square root on both side\n",
    "\n",
    "$|u \\cdot v| \\le \\lVert u\\rVert \\lVert v\\rVert$"
   ]
  }
 ],
 "metadata": {
  "kernelspec": {
   "display_name": "Python 3",
   "language": "python",
   "name": "python3"
  },
  "language_info": {
   "codemirror_mode": {
    "name": "ipython",
    "version": 3
   },
   "file_extension": ".py",
   "mimetype": "text/x-python",
   "name": "python",
   "nbconvert_exporter": "python",
   "pygments_lexer": "ipython3",
   "version": "3.6.8"
  }
 },
 "nbformat": 4,
 "nbformat_minor": 2
}
