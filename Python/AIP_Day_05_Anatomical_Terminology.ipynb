{
 "cells": [
  {
   "cell_type": "markdown",
   "metadata": {},
   "source": [
    "<h1 align=\"center\">Advanced Image Processing and Analysis</h1>\n",
    "<h3 align=\"center\">ECE 4438B/ECE 9022/ECE 9202B/BIOMED 9519B/BIOPHYS 9519B/CAMI 9519B</h3>\n",
    "<h4 align=\"center\"><a href=\"mailto:echen29@uwo.ca\"> Elvis Chen, PhD, LL</a></h4>\n",
    "<h4 align=\"center\">Robarts Research Institute, London</h4>\n",
    "<h4 align=\"center\">Department of Electrical and Computer Engineering, Western University</h4>\n",
    "<h4 align=\"center\">School of Biomedical Engineering, Western University</h4>\n",
    "<h4 align=\"center\">Department of Medical Biophysics, Western University</h4>\n",
    "<h4 align=\"center\">Day 05, January 21, 2019</h4>"
   ]
  },
  {
   "cell_type": "markdown",
   "metadata": {},
   "source": [
    "## [Anatomical Terminology](https://en.wikipedia.org/wiki/Anatomical_terminology#Axes)\n",
    "\n",
    "Since we are dealing with medical images, it is important that we use a common terminology:\n",
    "\n",
    "![Left or right?](https://s3.amazonaws.com/lowres.cartoonstock.com/medical-surgeon-surgery-operations-operating_theater-operating_theatre-aban2675_low.jpg)\n",
    "### [Anatomical position](https://en.wikipedia.org/wiki/Standard_anatomical_position)\n",
    "Because the body orientation can change with respect to their environment, and because appendages (limbs) can change position with respect to the main body, positional descriptive terms are referred to the body as in its standard anatomical position. We assume the human body is standing and is at rest:\n",
    "![Standard Anatomical Position](https://upload.wikimedia.org/wikipedia/commons/thumb/e/e7/Blausen_0019_AnatomicalDirectionalReferences.png/1024px-Blausen_0019_AnatomicalDirectionalReferences.png)\n",
    "\n",
    "The above image is\n",
    "By <a href=\"//commons.wikimedia.org/wiki/User:BruceBlaus\" title=\"User:BruceBlaus\">BruceBlaus</a>:Blausen.com staff (2014). \"<a class=\"external text\" href=\"https://en.wikiversity.org/wiki/WikiJournal_of_Medicine/Medical_gallery_of_Blausen_Medical_2014\">Medical gallery of Blausen Medical 2014</a>\". WikiJournal of Medicine 1 (2). <a href=\"https://en.wikipedia.org/wiki/Digital_object_identifier\" class=\"extiw\" title=\"w:Digital object identifier\">DOI</a>:<a rel=\"nofollow\" class=\"external text\" href=\"https://doi.org/10.15347/wjm/2014.010\">10.15347/wjm/2014.010</a>. <a href=\"https://en.wikipedia.org/wiki/International_Standard_Serial_Number\" class=\"extiw\" title=\"en:International Standard Serial Number\">ISSN</a> <a rel=\"nofollow\" class=\"external text\" href=\"https://www.worldcat.org/issn/2002-4436\">2002-4436</a>. - <span class=\"int-own-work\" lang=\"en\">Own work</span>, <a href=\"http://creativecommons.org/licenses/by/3.0\" title=\"Creative Commons Attribution 3.0\">CC BY 3.0</a>, <a href=\"https://commons.wikimedia.org/w/index.php?curid=31339201\">Link</a>\n"
   ]
  },
  {
   "cell_type": "markdown",
   "metadata": {},
   "source": [
    "### Positions\n",
    "Position is often specified in the relative term with respect to the center of the body or point of attachment.\n",
    "* [Proximal](https://en.oxforddictionaries.com/definition/proximal): Situated nearer to the centre of the body or the point of attachment\n",
    "  * e.g. `the proximal end of the forearm`\n",
    "  * The opposite of `distal`\n",
    "* [Distal](https://en.oxforddictionaries.com/definition/distal): Situated away from the center of the body or from the point of attachment\n",
    "  * e.g. `the distal end of the tibia`\n",
    "  * The opposite of `proximal`\n",
    "* [Anterior](https://en.oxforddictionaries.com/definition/anterior): Nearer the front, especially in the front of the body, or nearer to the head or forepart\n",
    "  * e.g. `the veins anterior to the heart`\n",
    "  * The opposite of `posterior`\n",
    "* [Posterior](https://en.oxforddictionaries.com/definition/posterior): Further back in position, of or nearer the rear or hind end\n",
    "  * e.g. `the heart is posterior to the ribs`\n",
    "  * The opposite of `anterior`\n",
    "* [Medial](https://en.oxforddictionaries.com/definition/medial): Situated in the middle\n",
    "  * e.g. `the eyes are medial to the ears`\n",
    "  * The opposite of `lateral`\n",
    "* [Lateral](https://en.oxforddictionaries.com/definition/lateral): Of, at, towards, or from the side or sides\n",
    "  * e.g. `the upper lateral incisor`\n",
    "  * The opposite of `medial`\n",
    "* [Superior](https://en.oxforddictionaries.com/definition/superior): Further above or out; higher in position\n",
    "  * e.g. `the nose is superior to the mouth`\n",
    "  * The opposite of `inferior`\n",
    "* [Inferior](https://en.oxforddictionaries.com/definition/inferior): Low or lower in position\n",
    "  * e.g. `ulcers located in the inferior and posterior wall of the duodenum`\n",
    "  * The opposite of `Superior`\n",
    "  \n",
    "While these eight terms defines the relative positions in three directions, other terminologies are commonly used as well:\n",
    "* In relation to the head or tail of an animal:\n",
    "  * [Cranial](https://en.wikipedia.org/wiki/Anatomical_terms_of_location#Cranial_and_caudal): Skull, or closer to the skull\n",
    "  * [Caudal](https://en.wikipedia.org/wiki/Anatomical_terms_of_location#Cranial_and_caudal): closer to the end of an organism\n",
    "These two terms are generally preferred in veterinary medicine and not used as often in human medicine."
   ]
  },
  {
   "cell_type": "markdown",
   "metadata": {},
   "source": [
    "### Body Planes\n",
    "![Body Planes](https://upload.wikimedia.org/wikipedia/commons/3/34/BodyPlanes.jpg)\n",
    "\n",
    "**credit** to: National Cancer Institute [Public domain], via Wikimedia Commons\n",
    "\n",
    "Three basic reference planes are used to describe locations:\n",
    "* the [sagittal plane](https://en.wikipedia.org/wiki/Sagittal_plane) is an anatomical plane which divides the body into right and left parts. The plane may be in the centre of the body and split it into two halves (mid-sagittal), or away from the mid-line and split into unequal parts (para-sagittal)\n",
    "* the [coronal or frontal plane](https://en.wikipedia.org/wiki/Coronal_plane) is an anatomical plane which divides the body in dorsal and ventral (back and front, or posterior and anterior) portions\n",
    "* the [transverse plane](https://en.wikipedia.org/wiki/Transverse_plane) is the anatomical plane which divides the body into superior and inferior parts\n",
    "\n",
    "For example, when one talks, the motion of the tibia (shin bone) lies predominantly on the sagittal plane.\n",
    "\n",
    "With regarding to 3D volumetric medical imaging modalities such as CT and MRI, due to how images/volumes are acquired in the scanner:\n",
    "* the patient is typically lying horizontally with the face and torso facing up (the [supine position](https://en.wikipedia.org/wiki/Supine_position)), or facing down (the [prone position](https://en.wikipedia.org/wiki/Prone_position))\n",
    "* the 2D, X-Y image plane is typically aligned with the transverse plane, and\n",
    "* the Z-axis is typically along the superior-inferior direction\n",
    "* the X-axis is typically along the medial-lateral direction\n",
    "* the Y-axis is typically along the anterior-posterior direction"
   ]
  },
  {
   "cell_type": "markdown",
   "metadata": {},
   "source": [
    "#### Exercise\n",
    "Using the slicing operation in python/SimpleITK, how would one\n",
    "* given a 3D CT/MRI volume acquires in a typical/standard fasion/position, display a 3D image that lies\n",
    "  * on the transverse plane?\n",
    "  * on the satiggal plane?\n",
    "  * on the coronal plane?"
   ]
  }
 ],
 "metadata": {
  "kernelspec": {
   "display_name": "Python 3",
   "language": "python",
   "name": "python3"
  },
  "language_info": {
   "codemirror_mode": {
    "name": "ipython",
    "version": 3
   },
   "file_extension": ".py",
   "mimetype": "text/x-python",
   "name": "python",
   "nbconvert_exporter": "python",
   "pygments_lexer": "ipython3",
   "version": "3.6.8"
  }
 },
 "nbformat": 4,
 "nbformat_minor": 2
}
